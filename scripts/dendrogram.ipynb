{
 "cells": [
  {
   "cell_type": "code",
   "execution_count": 9,
   "metadata": {
    "collapsed": false
   },
   "outputs": [
    {
     "data": {
      "text/plain": [
       "'/home/gstupp/projects/Wolan/cmoon/CM7_CM1E2d56col_unenr123_rawextract_2017/venv/lib/python3.5'"
      ]
     },
     "execution_count": 9,
     "metadata": {},
     "output_type": "execute_result"
    }
   ],
   "source": [
    "import sys\n",
    "sys.path[2]"
   ]
  },
  {
   "cell_type": "code",
   "execution_count": 10,
   "metadata": {
    "collapsed": true,
    "deletable": true,
    "editable": true
   },
   "outputs": [],
   "source": [
    "## generate proteomic dendrograms\n",
    "# uses data from analysis2016_07_28 and grouped loci filtered and normalized\n",
    "# yates_normalization and min_quant = 10 in 1 sample, and min_quant = 2 in 2 samples per sample_type"
   ]
  },
  {
   "cell_type": "code",
   "execution_count": 17,
   "metadata": {
    "collapsed": false,
    "deletable": true,
    "editable": true
   },
   "outputs": [],
   "source": [
    "import os\n",
    "import sys\n",
    "BASE = \"/home/gstupp/projects/Wolan/cmoon/CM7_CM1E2d56col_unenr123_rawextract_2017/\"\n",
    "DATA = os.path.join(BASE, \"data\")\n",
    "OUT = os.path.join(BASE, \"out\")\n",
    "import pandas as pd\n",
    "import numpy as np\n",
    "import shelve\n",
    "from itertools import chain\n",
    "from collections import defaultdict, Counter\n",
    "from metaproteomics import utils\n",
    "from tqdm import tqdm\n",
    "from metaproteomics.analysis import taxonomy\n",
    "from metaproteomics.analysis import DBInfo\n",
    "from metaproteomics.analysis import build_loci\n",
    "import matplotlib.pyplot as plt\n",
    "from sklearn import preprocessing"
   ]
  },
  {
   "cell_type": "code",
   "execution_count": 35,
   "metadata": {
    "collapsed": false,
    "deletable": true,
    "editable": true
   },
   "outputs": [],
   "source": [
    "grouped_loci = utils.load(os.path.join(OUT,\"grouped_loci.pkl.gz\"))\n",
    "df = build_loci.to_df(grouped_loci, norm=False)"
   ]
  },
  {
   "cell_type": "code",
   "execution_count": 36,
   "metadata": {
    "collapsed": false
   },
   "outputs": [
    {
     "data": {
      "text/plain": [
       "(9, 10467)"
      ]
     },
     "execution_count": 36,
     "metadata": {},
     "output_type": "execute_result"
    }
   ],
   "source": [
    "df.shape"
   ]
  },
  {
   "cell_type": "code",
   "execution_count": 40,
   "metadata": {
    "collapsed": false,
    "deletable": true,
    "editable": true
   },
   "outputs": [
    {
     "name": "stderr",
     "output_type": "stream",
     "text": [
      "/home/gstupp/projects/Wolan/cmoon/CM7_CM1E2d56col_unenr123_rawextract_2017/venv/lib/python3.5/site-packages/matplotlib/figure.py:1742: UserWarning: This figure includes Axes that are not compatible with tight_layout, so its results might be incorrect.\n",
      "  warnings.warn(\"This figure includes Axes that are not \"\n"
     ]
    },
    {
     "data": {
      "image/png": "[encoded data removed]",
      "text/plain": [
       "<matplotlib.figure.Figure at 0x7f0c8021b358>"
      ]
     },
     "metadata": {},
     "output_type": "display_data"
    }
   ],
   "source": [
    "df = build_loci.to_df(grouped_loci, norm=False)\n",
    "\n",
    "# Log transform\n",
    "df = np.log(1+df)\n",
    "# Scale\n",
    "X = preprocessing.scale(df)\n",
    "\n",
    "# Unsupervised Hierarchical clustering\n",
    "import scipy.cluster.hierarchy as hac\n",
    "z = hac.linkage(X, method = 'average', metric = \"correlation\")\n",
    "hac.dendrogram(z,orientation='right', labels = df.index, color_threshold=.95,count_sort=True)\n",
    "plt.xlabel(\"Distance\")\n",
    "plt.savefig(os.path.join(OUT, \"clustering.pdf\"))\n",
    "plt.show()"
   ]
  },
  {
   "cell_type": "code",
   "execution_count": 38,
   "metadata": {
    "collapsed": false,
    "deletable": true,
    "editable": true
   },
   "outputs": [],
   "source": [
    "#%% Build geneID to GO map\n",
    "# example: 068724{\"tab\"}GO:0005488, GO:0003774, GO:0001539, GO:0006935, GO:0009288\n",
    "\n",
    "annotations = {locus.cluster_id: locus.annotations.get(\"go\",{}) for locus in grouped_loci}\n",
    "with open(os.path.join(OUT, \"geneid2go.map\"), 'w') as f:\n",
    "    for k,v in annotations.items():\n",
    "        if v:\n",
    "            print(str(k) + \"\\t\" + \", \".join(v), file=f)"
   ]
  }
 ],
 "metadata": {
  "kernelspec": {
   "display_name": "Python 3",
   "language": "python",
   "name": "python3"
  },
  "language_info": {
   "codemirror_mode": {
    "name": "ipython",
    "version": 3
   },
   "file_extension": ".py",
   "mimetype": "text/x-python",
   "name": "python",
   "nbconvert_exporter": "python",
   "pygments_lexer": "ipython3",
   "version": "3.5.2"
  }
 },
 "nbformat": 4,
 "nbformat_minor": 2
}
