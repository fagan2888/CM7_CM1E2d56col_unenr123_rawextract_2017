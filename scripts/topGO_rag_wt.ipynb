{
 "cells": [
  {
   "cell_type": "markdown",
   "metadata": {
    "deletable": true,
    "editable": true
   },
   "source": [
    "## Running topGO"
   ]
  },
  {
   "cell_type": "code",
   "execution_count": 1,
   "metadata": {
    "collapsed": false,
    "deletable": true,
    "editable": true,
    "scrolled": true
   },
   "outputs": [
    {
     "name": "stderr",
     "output_type": "stream",
     "text": [
      "Loading required package: topGO\n",
      "Loading required package: BiocGenerics\n",
      "Loading required package: parallel\n",
      "\n",
      "Attaching package: ‘BiocGenerics’\n",
      "\n",
      "The following objects are masked from ‘package:parallel’:\n",
      "\n",
      "    clusterApply, clusterApplyLB, clusterCall, clusterEvalQ,\n",
      "    clusterExport, clusterMap, parApply, parCapply, parLapply,\n",
      "    parLapplyLB, parRapply, parSapply, parSapplyLB\n",
      "\n",
      "The following objects are masked from ‘package:stats’:\n",
      "\n",
      "    IQR, mad, xtabs\n",
      "\n",
      "The following objects are masked from ‘package:base’:\n",
      "\n",
      "    anyDuplicated, append, as.data.frame, as.vector, cbind, colnames,\n",
      "    do.call, duplicated, eval, evalq, Filter, Find, get, grep, grepl,\n",
      "    intersect, is.unsorted, lapply, lengths, Map, mapply, match, mget,\n",
      "    order, paste, pmax, pmax.int, pmin, pmin.int, Position, rank,\n",
      "    rbind, Reduce, rownames, sapply, setdiff, sort, table, tapply,\n",
      "    union, unique, unlist, unsplit\n",
      "\n",
      "Loading required package: graph\n",
      "Loading required package: Biobase\n",
      "Welcome to Bioconductor\n",
      "\n",
      "    Vignettes contain introductory material; view with\n",
      "    'browseVignettes()'. To cite Bioconductor, see\n",
      "    'citation(\"Biobase\")', and for packages 'citation(\"pkgname\")'.\n",
      "\n",
      "Loading required package: GO.db\n",
      "Loading required package: AnnotationDbi\n",
      "Loading required package: stats4\n",
      "Loading required package: IRanges\n",
      "Loading required package: S4Vectors\n",
      "\n",
      "Loading required package: SparseM\n",
      "\n",
      "Attaching package: ‘SparseM’\n",
      "\n",
      "The following object is masked from ‘package:base’:\n",
      "\n",
      "    backsolve\n",
      "\n",
      "Warning message:\n",
      "“replacing previous import by ‘graph::.__C__dist’ when loading ‘topGO’”"
     ]
    },
    {
     "name": "stdout",
     "output_type": "stream",
     "text": [
      "\n",
      "groupGOTerms: \tGOBPTerm, GOMFTerm, GOCCTerm environments built.\n"
     ]
    },
    {
     "name": "stderr",
     "output_type": "stream",
     "text": [
      "\n",
      "Attaching package: ‘topGO’\n",
      "\n",
      "The following object is masked from ‘package:IRanges’:\n",
      "\n",
      "    members\n",
      "\n",
      "\n",
      "Attaching package: ‘genefilter’\n",
      "\n",
      "The following object is masked from ‘package:base’:\n",
      "\n",
      "    anyNA\n",
      "\n"
     ]
    }
   ],
   "source": [
    "require(\"topGO\")\n",
    "library(genefilter)\n",
    "setwd(\"/home/gstupp/projects/Wolan/cmoon/CM7_CM1E2d56col_unenr123_rawextract_2017/\")"
   ]
  },
  {
   "cell_type": "code",
   "execution_count": 2,
   "metadata": {
    "collapsed": false,
    "deletable": true,
    "editable": true
   },
   "outputs": [],
   "source": [
    "# load in the deseq results\n",
    "load(\"out/res_rag_wt\")"
   ]
  },
  {
   "cell_type": "code",
   "execution_count": 3,
   "metadata": {
    "collapsed": false,
    "deletable": true,
    "editable": true,
    "scrolled": false
   },
   "outputs": [
    {
     "data": {
      "text/html": [
       "<dl>\n",
       "\t<dt>$`22855681`</dt>\n",
       "\t\t<dd><ol class=list-inline>\n",
       "\t<li>'GO:0006090'</li>\n",
       "\t<li>'GO:0016301'</li>\n",
       "\t<li>'GO:0003824'</li>\n",
       "\t<li>'GO:0016310'</li>\n",
       "\t<li>'GO:0016772'</li>\n",
       "\t<li>'GO:0050242'</li>\n",
       "\t<li>'GO:0005524'</li>\n",
       "</ol>\n",
       "</dd>\n",
       "\t<dt>$`49973931`</dt>\n",
       "\t\t<dd><ol class=list-inline>\n",
       "\t<li>'GO:0050485'</li>\n",
       "\t<li>'GO:0055114'</li>\n",
       "</ol>\n",
       "</dd>\n",
       "\t<dt>$`61502806`</dt>\n",
       "\t\t<dd><ol class=list-inline>\n",
       "\t<li>'GO:0005509'</li>\n",
       "\t<li>'GO:0005783'</li>\n",
       "\t<li>'GO:0005515'</li>\n",
       "\t<li>'GO:0051082'</li>\n",
       "\t<li>'GO:0006457'</li>\n",
       "</ol>\n",
       "</dd>\n",
       "\t<dt>$`17629190`</dt>\n",
       "\t\t<dd><ol class=list-inline>\n",
       "\t<li>'GO:0006090'</li>\n",
       "\t<li>'GO:0016301'</li>\n",
       "\t<li>'GO:0003824'</li>\n",
       "\t<li>'GO:0016310'</li>\n",
       "\t<li>'GO:0016772'</li>\n",
       "\t<li>'GO:0050242'</li>\n",
       "\t<li>'GO:0005524'</li>\n",
       "</ol>\n",
       "</dd>\n",
       "\t<dt>$`27803655`</dt>\n",
       "\t\t<dd><ol class=list-inline>\n",
       "\t<li>'GO:0016616'</li>\n",
       "\t<li>'GO:0016491'</li>\n",
       "\t<li>'GO:0006631'</li>\n",
       "\t<li>'GO:0055114'</li>\n",
       "\t<li>'GO:0003857'</li>\n",
       "\t<li>'GO:0070403'</li>\n",
       "\t<li>'GO:0050662'</li>\n",
       "</ol>\n",
       "</dd>\n",
       "\t<dt>$`52783963`</dt>\n",
       "\t\t<dd><ol class=list-inline>\n",
       "\t<li>'GO:0016620'</li>\n",
       "\t<li>'GO:0055114'</li>\n",
       "</ol>\n",
       "</dd>\n",
       "</dl>\n"
      ],
      "text/latex": [
       "\\begin{description}\n",
       "\\item[\\$`22855681`] \\begin{enumerate*}\n",
       "\\item 'GO:0006090'\n",
       "\\item 'GO:0016301'\n",
       "\\item 'GO:0003824'\n",
       "\\item 'GO:0016310'\n",
       "\\item 'GO:0016772'\n",
       "\\item 'GO:0050242'\n",
       "\\item 'GO:0005524'\n",
       "\\end{enumerate*}\n",
       "\n",
       "\\item[\\$`49973931`] \\begin{enumerate*}\n",
       "\\item 'GO:0050485'\n",
       "\\item 'GO:0055114'\n",
       "\\end{enumerate*}\n",
       "\n",
       "\\item[\\$`61502806`] \\begin{enumerate*}\n",
       "\\item 'GO:0005509'\n",
       "\\item 'GO:0005783'\n",
       "\\item 'GO:0005515'\n",
       "\\item 'GO:0051082'\n",
       "\\item 'GO:0006457'\n",
       "\\end{enumerate*}\n",
       "\n",
       "\\item[\\$`17629190`] \\begin{enumerate*}\n",
       "\\item 'GO:0006090'\n",
       "\\item 'GO:0016301'\n",
       "\\item 'GO:0003824'\n",
       "\\item 'GO:0016310'\n",
       "\\item 'GO:0016772'\n",
       "\\item 'GO:0050242'\n",
       "\\item 'GO:0005524'\n",
       "\\end{enumerate*}\n",
       "\n",
       "\\item[\\$`27803655`] \\begin{enumerate*}\n",
       "\\item 'GO:0016616'\n",
       "\\item 'GO:0016491'\n",
       "\\item 'GO:0006631'\n",
       "\\item 'GO:0055114'\n",
       "\\item 'GO:0003857'\n",
       "\\item 'GO:0070403'\n",
       "\\item 'GO:0050662'\n",
       "\\end{enumerate*}\n",
       "\n",
       "\\item[\\$`52783963`] \\begin{enumerate*}\n",
       "\\item 'GO:0016620'\n",
       "\\item 'GO:0055114'\n",
       "\\end{enumerate*}\n",
       "\n",
       "\\end{description}\n"
      ],
      "text/markdown": [
       "$`22855681`\n",
       ":   1. 'GO:0006090'\n",
       "2. 'GO:0016301'\n",
       "3. 'GO:0003824'\n",
       "4. 'GO:0016310'\n",
       "5. 'GO:0016772'\n",
       "6. 'GO:0050242'\n",
       "7. 'GO:0005524'\n",
       "\n",
       "\n",
       "\n",
       "$`49973931`\n",
       ":   1. 'GO:0050485'\n",
       "2. 'GO:0055114'\n",
       "\n",
       "\n",
       "\n",
       "$`61502806`\n",
       ":   1. 'GO:0005509'\n",
       "2. 'GO:0005783'\n",
       "3. 'GO:0005515'\n",
       "4. 'GO:0051082'\n",
       "5. 'GO:0006457'\n",
       "\n",
       "\n",
       "\n",
       "$`17629190`\n",
       ":   1. 'GO:0006090'\n",
       "2. 'GO:0016301'\n",
       "3. 'GO:0003824'\n",
       "4. 'GO:0016310'\n",
       "5. 'GO:0016772'\n",
       "6. 'GO:0050242'\n",
       "7. 'GO:0005524'\n",
       "\n",
       "\n",
       "\n",
       "$`27803655`\n",
       ":   1. 'GO:0016616'\n",
       "2. 'GO:0016491'\n",
       "3. 'GO:0006631'\n",
       "4. 'GO:0055114'\n",
       "5. 'GO:0003857'\n",
       "6. 'GO:0070403'\n",
       "7. 'GO:0050662'\n",
       "\n",
       "\n",
       "\n",
       "$`52783963`\n",
       ":   1. 'GO:0016620'\n",
       "2. 'GO:0055114'\n",
       "\n",
       "\n",
       "\n",
       "\n",
       "\n"
      ],
      "text/plain": [
       "$`22855681`\n",
       "[1] \"GO:0006090\" \"GO:0016301\" \"GO:0003824\" \"GO:0016310\" \"GO:0016772\"\n",
       "[6] \"GO:0050242\" \"GO:0005524\"\n",
       "\n",
       "$`49973931`\n",
       "[1] \"GO:0050485\" \"GO:0055114\"\n",
       "\n",
       "$`61502806`\n",
       "[1] \"GO:0005509\" \"GO:0005783\" \"GO:0005515\" \"GO:0051082\" \"GO:0006457\"\n",
       "\n",
       "$`17629190`\n",
       "[1] \"GO:0006090\" \"GO:0016301\" \"GO:0003824\" \"GO:0016310\" \"GO:0016772\"\n",
       "[6] \"GO:0050242\" \"GO:0005524\"\n",
       "\n",
       "$`27803655`\n",
       "[1] \"GO:0016616\" \"GO:0016491\" \"GO:0006631\" \"GO:0055114\" \"GO:0003857\"\n",
       "[6] \"GO:0070403\" \"GO:0050662\"\n",
       "\n",
       "$`52783963`\n",
       "[1] \"GO:0016620\" \"GO:0055114\"\n"
      ]
     },
     "metadata": {},
     "output_type": "display_data"
    }
   ],
   "source": [
    "# load in protein cluster ID -> GO terms mapping\n",
    "geneID2GO <- readMappings(\"out/geneid2go.map\")\n",
    "head(geneID2GO)"
   ]
  },
  {
   "cell_type": "code",
   "execution_count": 4,
   "metadata": {
    "collapsed": false,
    "deletable": true,
    "editable": true
   },
   "outputs": [
    {
     "data": {
      "text/html": [
       "4615"
      ],
      "text/latex": [
       "4615"
      ],
      "text/markdown": [
       "4615"
      ],
      "text/plain": [
       "[1] 4615"
      ]
     },
     "metadata": {},
     "output_type": "display_data"
    },
    {
     "data": {
      "text/html": [
       "<ol class=list-inline>\n",
       "\t<li>5610</li>\n",
       "\t<li>9</li>\n",
       "</ol>\n"
      ],
      "text/latex": [
       "\\begin{enumerate*}\n",
       "\\item 5610\n",
       "\\item 9\n",
       "\\end{enumerate*}\n"
      ],
      "text/markdown": [
       "1. 5610\n",
       "2. 9\n",
       "\n",
       "\n"
      ],
      "text/plain": [
       "[1] 5610    9"
      ]
     },
     "metadata": {},
     "output_type": "display_data"
    }
   ],
   "source": [
    "# load in the count data\n",
    "load(\"out/dds_RTcontrol\")\n",
    "# filter out genes with low expression value as well as with very small variability across samples.\n",
    "selProt <- genefilter(counts(dds), filterfun(kOverA(3, 6), function(x) (IQR(x) > 0.25)))\n",
    "sum(selProt)\n",
    "dim(counts(dds))\n",
    "res=res[selProt,]"
   ]
  },
  {
   "cell_type": "markdown",
   "metadata": {
    "deletable": true,
    "editable": true
   },
   "source": [
    "## human_mouse proteins only"
   ]
  },
  {
   "cell_type": "code",
   "execution_count": 5,
   "metadata": {
    "collapsed": false,
    "deletable": true,
    "editable": true
   },
   "outputs": [],
   "source": [
    "# human_mouse proteins only\n",
    "res_hm = res[res$human_mouse==\"True\",]\n",
    "\n",
    "geneList = res_hm$padj\n",
    "names(geneList)<-rownames(res_hm)"
   ]
  },
  {
   "cell_type": "code",
   "execution_count": 6,
   "metadata": {
    "collapsed": false,
    "deletable": true,
    "editable": true,
    "scrolled": true
   },
   "outputs": [
    {
     "name": "stdout",
     "output_type": "stream",
     "text": [
      "\n",
      "Building most specific GOs .....\t( 50 GO terms found. )\n",
      "\n",
      "Build GO DAG topology ..........\t( 292 GO terms and 557 relations. )\n",
      "\n",
      "Annotating nodes ...............\t( 73 genes annotated to the GO terms. )\n",
      "\n",
      "\t\t\t -- Weight01 Algorithm -- \n",
      "\n",
      "\t\t the algorithm is scoring 16 nontrivial nodes\n",
      "\t\t parameters: \n",
      "\t\t\t test statistic:  fisher \n",
      "\n",
      "\t Level 7:\t1 nodes to be scored\t(0 eliminated genes)\n",
      "\n",
      "\t Level 6:\t2 nodes to be scored\t(0 eliminated genes)\n",
      "\n",
      "\t Level 5:\t2 nodes to be scored\t(2 eliminated genes)\n",
      "\n",
      "\t Level 4:\t3 nodes to be scored\t(25 eliminated genes)\n",
      "\n",
      "\t Level 3:\t4 nodes to be scored\t(39 eliminated genes)\n",
      "\n",
      "\t Level 2:\t3 nodes to be scored\t(49 eliminated genes)\n",
      "\n",
      "\t Level 1:\t1 nodes to be scored\t(57 eliminated genes)\n",
      "\n",
      "\t\t\t -- Weight01 Algorithm -- \n",
      "\n",
      "\t\t the algorithm is scoring 292 nontrivial nodes\n",
      "\t\t parameters: \n",
      "\t\t\t test statistic:  ks \n",
      "\t\t\t score order:  increasing \n",
      "\n",
      "\t Level 13:\t1 nodes to be scored\t(0 eliminated genes)\n",
      "\n",
      "\t Level 12:\t4 nodes to be scored\t(0 eliminated genes)\n",
      "\n",
      "\t Level 11:\t12 nodes to be scored\t(1 eliminated genes)\n",
      "\n",
      "\t Level 10:\t23 nodes to be scored\t(2 eliminated genes)\n",
      "\n",
      "\t Level 9:\t31 nodes to be scored\t(8 eliminated genes)\n",
      "\n",
      "\t Level 8:\t27 nodes to be scored\t(10 eliminated genes)\n",
      "\n",
      "\t Level 7:\t26 nodes to be scored\t(15 eliminated genes)\n",
      "\n",
      "\t Level 6:\t39 nodes to be scored\t(22 eliminated genes)\n",
      "\n",
      "\t Level 5:\t53 nodes to be scored\t(28 eliminated genes)\n",
      "\n",
      "\t Level 4:\t41 nodes to be scored\t(56 eliminated genes)\n",
      "\n",
      "\t Level 3:\t23 nodes to be scored\t(60 eliminated genes)\n",
      "\n",
      "\t Level 2:\t11 nodes to be scored\t(69 eliminated genes)\n",
      "\n",
      "\t Level 1:\t1 nodes to be scored\t(71 eliminated genes)\n"
     ]
    }
   ],
   "source": [
    "# Tests based on gene counts\n",
    "# universe is all proteins observed\n",
    "# \"sig\" proteins are ones with a (adjusted) p-value < 0.01\n",
    "topDiffGenes <- function(allScore) { return(allScore < 0.01)}\n",
    "GOdata <- new(\"topGOdata\", ontology = \"BP\", allGenes = geneList, geneSel = topDiffGenes, annot = annFUN.gene2GO, gene2GO = geneID2GO)\n",
    "resultWeight01 <- runTest(GOdata, statistic = \"fisher\")\n",
    "# \"sig\" proteins are determined by rank\n",
    "resultWeight01ks <- runTest(GOdata, statistic = \"ks\")"
   ]
  },
  {
   "cell_type": "code",
   "execution_count": 7,
   "metadata": {
    "collapsed": false,
    "deletable": true,
    "editable": true
   },
   "outputs": [
    {
     "data": {
      "text/html": [
       "<table>\n",
       "<thead><tr><th scope=col>GO.ID</th><th scope=col>Term</th><th scope=col>Annotated</th><th scope=col>Significant</th><th scope=col>Expected</th><th scope=col>result1</th></tr></thead>\n",
       "<tbody>\n",
       "\t<tr><td>GO:0005975                     </td><td>carbohydrate metabolic process </td><td> 9                             </td><td>2                              </td><td>0.49                           </td><td>0.072                          </td></tr>\n",
       "\t<tr><td>GO:0015671                     </td><td>oxygen transport               </td><td> 2                             </td><td>1                              </td><td>0.11                           </td><td>0.107                          </td></tr>\n",
       "\t<tr><td>GO:0006508                     </td><td>proteolysis                    </td><td>23                             </td><td>1                              </td><td>1.26                           </td><td>0.788                          </td></tr>\n",
       "\t<tr><td>GO:0015669                     </td><td>gas transport                  </td><td> 2                             </td><td>1                              </td><td>0.11                           </td><td>1.000                          </td></tr>\n",
       "\t<tr><td>GO:0019538                     </td><td>protein metabolic process      </td><td>25                             </td><td>1                              </td><td>1.37                           </td><td>1.000                          </td></tr>\n",
       "\t<tr><td>GO:0006810                     </td><td>transport                      </td><td>15                             </td><td>1                              </td><td>0.82                           </td><td>1.000                          </td></tr>\n",
       "\t<tr><td>GO:0043170                     </td><td>macromolecule metabolic process</td><td>26                             </td><td>1                              </td><td>1.42                           </td><td>1.000                          </td></tr>\n",
       "\t<tr><td>GO:0044699                     </td><td>single-organism process        </td><td>34                             </td><td>1                              </td><td>1.86                           </td><td>1.000                          </td></tr>\n",
       "\t<tr><td>GO:0044765                     </td><td>single-organism transport      </td><td>14                             </td><td>1                              </td><td>0.77                           </td><td>1.000                          </td></tr>\n",
       "\t<tr><td>GO:0051234                     </td><td>establishment of localization  </td><td>15                             </td><td>1                              </td><td>0.82                           </td><td>1.000                          </td></tr>\n",
       "</tbody>\n",
       "</table>\n"
      ],
      "text/latex": [
       "\\begin{tabular}{r|llllll}\n",
       " GO.ID & Term & Annotated & Significant & Expected & result1\\\\\n",
       "\\hline\n",
       "\t GO:0005975                      & carbohydrate metabolic process  &  9                              & 2                               & 0.49                            & 0.072                          \\\\\n",
       "\t GO:0015671                      & oxygen transport                &  2                              & 1                               & 0.11                            & 0.107                          \\\\\n",
       "\t GO:0006508                      & proteolysis                     & 23                              & 1                               & 1.26                            & 0.788                          \\\\\n",
       "\t GO:0015669                      & gas transport                   &  2                              & 1                               & 0.11                            & 1.000                          \\\\\n",
       "\t GO:0019538                      & protein metabolic process       & 25                              & 1                               & 1.37                            & 1.000                          \\\\\n",
       "\t GO:0006810                      & transport                       & 15                              & 1                               & 0.82                            & 1.000                          \\\\\n",
       "\t GO:0043170                      & macromolecule metabolic process & 26                              & 1                               & 1.42                            & 1.000                          \\\\\n",
       "\t GO:0044699                      & single-organism process         & 34                              & 1                               & 1.86                            & 1.000                          \\\\\n",
       "\t GO:0044765                      & single-organism transport       & 14                              & 1                               & 0.77                            & 1.000                          \\\\\n",
       "\t GO:0051234                      & establishment of localization   & 15                              & 1                               & 0.82                            & 1.000                          \\\\\n",
       "\\end{tabular}\n"
      ],
      "text/markdown": [
       "\n",
       "GO.ID | Term | Annotated | Significant | Expected | result1 | \n",
       "|---|---|---|---|---|---|---|---|---|---|\n",
       "| GO:0005975                      | carbohydrate metabolic process  |  9                              | 2                               | 0.49                            | 0.072                           | \n",
       "| GO:0015671                      | oxygen transport                |  2                              | 1                               | 0.11                            | 0.107                           | \n",
       "| GO:0006508                      | proteolysis                     | 23                              | 1                               | 1.26                            | 0.788                           | \n",
       "| GO:0015669                      | gas transport                   |  2                              | 1                               | 0.11                            | 1.000                           | \n",
       "| GO:0019538                      | protein metabolic process       | 25                              | 1                               | 1.37                            | 1.000                           | \n",
       "| GO:0006810                      | transport                       | 15                              | 1                               | 0.82                            | 1.000                           | \n",
       "| GO:0043170                      | macromolecule metabolic process | 26                              | 1                               | 1.42                            | 1.000                           | \n",
       "| GO:0044699                      | single-organism process         | 34                              | 1                               | 1.86                            | 1.000                           | \n",
       "| GO:0044765                      | single-organism transport       | 14                              | 1                               | 0.77                            | 1.000                           | \n",
       "| GO:0051234                      | establishment of localization   | 15                              | 1                               | 0.82                            | 1.000                           | \n",
       "\n",
       "\n"
      ],
      "text/plain": [
       "   GO.ID      Term                            Annotated Significant Expected\n",
       "1  GO:0005975 carbohydrate metabolic process   9        2           0.49    \n",
       "2  GO:0015671 oxygen transport                 2        1           0.11    \n",
       "3  GO:0006508 proteolysis                     23        1           1.26    \n",
       "4  GO:0015669 gas transport                    2        1           0.11    \n",
       "5  GO:0019538 protein metabolic process       25        1           1.37    \n",
       "6  GO:0006810 transport                       15        1           0.82    \n",
       "7  GO:0043170 macromolecule metabolic process 26        1           1.42    \n",
       "8  GO:0044699 single-organism process         34        1           1.86    \n",
       "9  GO:0044765 single-organism transport       14        1           0.77    \n",
       "10 GO:0051234 establishment of localization   15        1           0.82    \n",
       "   result1\n",
       "1  0.072  \n",
       "2  0.107  \n",
       "3  0.788  \n",
       "4  1.000  \n",
       "5  1.000  \n",
       "6  1.000  \n",
       "7  1.000  \n",
       "8  1.000  \n",
       "9  1.000  \n",
       "10 1.000  "
      ]
     },
     "metadata": {},
     "output_type": "display_data"
    }
   ],
   "source": [
    "GenTable(GOdata, resultWeight01, topNodes = 10)"
   ]
  },
  {
   "cell_type": "code",
   "execution_count": 8,
   "metadata": {
    "collapsed": false,
    "deletable": true,
    "editable": true
   },
   "outputs": [
    {
     "data": {
      "text/html": [
       "<table>\n",
       "<thead><tr><th scope=col>GO.ID</th><th scope=col>Term</th><th scope=col>Annotated</th><th scope=col>Significant</th><th scope=col>Expected</th><th scope=col>result1</th></tr></thead>\n",
       "<tbody>\n",
       "\t<tr><td>GO:0006813                                 </td><td>potassium ion transport                    </td><td> 2                                         </td><td>0                                          </td><td>0.11                                       </td><td>0.047                                      </td></tr>\n",
       "\t<tr><td>GO:0006814                                 </td><td>sodium ion transport                       </td><td> 2                                         </td><td>0                                          </td><td>0.11                                       </td><td>0.047                                      </td></tr>\n",
       "\t<tr><td>GO:0005975                                 </td><td>carbohydrate metabolic process             </td><td> 9                                         </td><td>2                                          </td><td>0.49                                       </td><td>0.135                                      </td></tr>\n",
       "\t<tr><td>GO:0006810                                 </td><td>transport                                  </td><td>15                                         </td><td>1                                          </td><td>0.82                                       </td><td>0.171                                      </td></tr>\n",
       "\t<tr><td>GO:0006508                                 </td><td>proteolysis                                </td><td>23                                         </td><td>1                                          </td><td>1.26                                       </td><td>0.174                                      </td></tr>\n",
       "\t<tr><td>GO:0015671                                 </td><td>oxygen transport                           </td><td> 2                                         </td><td>1                                          </td><td>0.11                                       </td><td>0.195                                      </td></tr>\n",
       "\t<tr><td>GO:0006955                                 </td><td>immune response                            </td><td> 4                                         </td><td>0                                          </td><td>0.22                                       </td><td>0.271                                      </td></tr>\n",
       "\t<tr><td>GO:0007264                                 </td><td>small GTPase mediated signal transductio...</td><td> 1                                         </td><td>0                                          </td><td>0.05                                       </td><td>0.290                                      </td></tr>\n",
       "\t<tr><td>GO:0006006                                 </td><td>glucose metabolic process                  </td><td> 2                                         </td><td>0                                          </td><td>0.11                                       </td><td>0.368                                      </td></tr>\n",
       "\t<tr><td>GO:0007156                                 </td><td>homophilic cell adhesion via plasma memb...</td><td> 2                                         </td><td>0                                          </td><td>0.11                                       </td><td>0.389                                      </td></tr>\n",
       "</tbody>\n",
       "</table>\n"
      ],
      "text/latex": [
       "\\begin{tabular}{r|llllll}\n",
       " GO.ID & Term & Annotated & Significant & Expected & result1\\\\\n",
       "\\hline\n",
       "\t GO:0006813                                  & potassium ion transport                     &  2                                          & 0                                           & 0.11                                        & 0.047                                      \\\\\n",
       "\t GO:0006814                                  & sodium ion transport                        &  2                                          & 0                                           & 0.11                                        & 0.047                                      \\\\\n",
       "\t GO:0005975                                  & carbohydrate metabolic process              &  9                                          & 2                                           & 0.49                                        & 0.135                                      \\\\\n",
       "\t GO:0006810                                  & transport                                   & 15                                          & 1                                           & 0.82                                        & 0.171                                      \\\\\n",
       "\t GO:0006508                                  & proteolysis                                 & 23                                          & 1                                           & 1.26                                        & 0.174                                      \\\\\n",
       "\t GO:0015671                                  & oxygen transport                            &  2                                          & 1                                           & 0.11                                        & 0.195                                      \\\\\n",
       "\t GO:0006955                                  & immune response                             &  4                                          & 0                                           & 0.22                                        & 0.271                                      \\\\\n",
       "\t GO:0007264                                  & small GTPase mediated signal transductio... &  1                                          & 0                                           & 0.05                                        & 0.290                                      \\\\\n",
       "\t GO:0006006                                  & glucose metabolic process                   &  2                                          & 0                                           & 0.11                                        & 0.368                                      \\\\\n",
       "\t GO:0007156                                  & homophilic cell adhesion via plasma memb... &  2                                          & 0                                           & 0.11                                        & 0.389                                      \\\\\n",
       "\\end{tabular}\n"
      ],
      "text/markdown": [
       "\n",
       "GO.ID | Term | Annotated | Significant | Expected | result1 | \n",
       "|---|---|---|---|---|---|---|---|---|---|\n",
       "| GO:0006813                                  | potassium ion transport                     |  2                                          | 0                                           | 0.11                                        | 0.047                                       | \n",
       "| GO:0006814                                  | sodium ion transport                        |  2                                          | 0                                           | 0.11                                        | 0.047                                       | \n",
       "| GO:0005975                                  | carbohydrate metabolic process              |  9                                          | 2                                           | 0.49                                        | 0.135                                       | \n",
       "| GO:0006810                                  | transport                                   | 15                                          | 1                                           | 0.82                                        | 0.171                                       | \n",
       "| GO:0006508                                  | proteolysis                                 | 23                                          | 1                                           | 1.26                                        | 0.174                                       | \n",
       "| GO:0015671                                  | oxygen transport                            |  2                                          | 1                                           | 0.11                                        | 0.195                                       | \n",
       "| GO:0006955                                  | immune response                             |  4                                          | 0                                           | 0.22                                        | 0.271                                       | \n",
       "| GO:0007264                                  | small GTPase mediated signal transductio... |  1                                          | 0                                           | 0.05                                        | 0.290                                       | \n",
       "| GO:0006006                                  | glucose metabolic process                   |  2                                          | 0                                           | 0.11                                        | 0.368                                       | \n",
       "| GO:0007156                                  | homophilic cell adhesion via plasma memb... |  2                                          | 0                                           | 0.11                                        | 0.389                                       | \n",
       "\n",
       "\n"
      ],
      "text/plain": [
       "   GO.ID      Term                                        Annotated Significant\n",
       "1  GO:0006813 potassium ion transport                      2        0          \n",
       "2  GO:0006814 sodium ion transport                         2        0          \n",
       "3  GO:0005975 carbohydrate metabolic process               9        2          \n",
       "4  GO:0006810 transport                                   15        1          \n",
       "5  GO:0006508 proteolysis                                 23        1          \n",
       "6  GO:0015671 oxygen transport                             2        1          \n",
       "7  GO:0006955 immune response                              4        0          \n",
       "8  GO:0007264 small GTPase mediated signal transductio...  1        0          \n",
       "9  GO:0006006 glucose metabolic process                    2        0          \n",
       "10 GO:0007156 homophilic cell adhesion via plasma memb...  2        0          \n",
       "   Expected result1\n",
       "1  0.11     0.047  \n",
       "2  0.11     0.047  \n",
       "3  0.49     0.135  \n",
       "4  0.82     0.171  \n",
       "5  1.26     0.174  \n",
       "6  0.11     0.195  \n",
       "7  0.22     0.271  \n",
       "8  0.05     0.290  \n",
       "9  0.11     0.368  \n",
       "10 0.11     0.389  "
      ]
     },
     "metadata": {},
     "output_type": "display_data"
    }
   ],
   "source": [
    "GenTable(GOdata, resultWeight01ks, topNodes = 10)"
   ]
  },
  {
   "cell_type": "code",
   "execution_count": 9,
   "metadata": {
    "collapsed": false,
    "deletable": true,
    "editable": true,
    "scrolled": true
   },
   "outputs": [
    {
     "name": "stdout",
     "output_type": "stream",
     "text": [
      "\n",
      "Building most specific GOs .....\t( 82 GO terms found. )\n",
      "\n",
      "Build GO DAG topology ..........\t( 205 GO terms and 267 relations. )\n",
      "\n",
      "Annotating nodes ...............\t( 101 genes annotated to the GO terms. )\n",
      "\n",
      "\t\t\t -- Weight01 Algorithm -- \n",
      "\n",
      "\t\t the algorithm is scoring 21 nontrivial nodes\n",
      "\t\t parameters: \n",
      "\t\t\t test statistic:  fisher \n",
      "\n",
      "\t Level 7:\t2 nodes to be scored\t(0 eliminated genes)\n",
      "\n",
      "\t Level 6:\t3 nodes to be scored\t(0 eliminated genes)\n",
      "\n",
      "\t Level 5:\t3 nodes to be scored\t(17 eliminated genes)\n",
      "\n",
      "\t Level 4:\t4 nodes to be scored\t(32 eliminated genes)\n",
      "\n",
      "\t Level 3:\t6 nodes to be scored\t(48 eliminated genes)\n",
      "\n",
      "\t Level 2:\t2 nodes to be scored\t(51 eliminated genes)\n",
      "\n",
      "\t Level 1:\t1 nodes to be scored\t(77 eliminated genes)\n",
      "\n",
      "\t\t\t -- Weight01 Algorithm -- \n",
      "\n",
      "\t\t the algorithm is scoring 205 nontrivial nodes\n",
      "\t\t parameters: \n",
      "\t\t\t test statistic:  ks \n",
      "\t\t\t score order:  increasing \n",
      "\n",
      "\t Level 14:\t1 nodes to be scored\t(0 eliminated genes)\n",
      "\n",
      "\t Level 13:\t2 nodes to be scored\t(0 eliminated genes)\n",
      "\n",
      "\t Level 12:\t1 nodes to be scored\t(1 eliminated genes)\n",
      "\n",
      "\t Level 11:\t1 nodes to be scored\t(1 eliminated genes)\n",
      "\n",
      "\t Level 10:\t2 nodes to be scored\t(1 eliminated genes)\n",
      "\n",
      "\t Level 9:\t6 nodes to be scored\t(1 eliminated genes)\n",
      "\n",
      "\t Level 8:\t15 nodes to be scored\t(3 eliminated genes)\n",
      "\n",
      "\t Level 7:\t26 nodes to be scored\t(8 eliminated genes)\n",
      "\n",
      "\t Level 6:\t39 nodes to be scored\t(17 eliminated genes)\n",
      "\n",
      "\t Level 5:\t43 nodes to be scored\t(48 eliminated genes)\n",
      "\n",
      "\t Level 4:\t37 nodes to be scored\t(67 eliminated genes)\n",
      "\n",
      "\t Level 3:\t25 nodes to be scored\t(75 eliminated genes)\n",
      "\n",
      "\t Level 2:\t6 nodes to be scored\t(81 eliminated genes)\n",
      "\n",
      "\t Level 1:\t1 nodes to be scored\t(99 eliminated genes)\n"
     ]
    }
   ],
   "source": [
    "# same thing using GO MF\n",
    "GOdataMF <- new(\"topGOdata\", ontology = \"MF\", allGenes = geneList, geneSel = topDiffGenes, annot = annFUN.gene2GO, gene2GO = geneID2GO)\n",
    "resultWeight01MF <- runTest(GOdataMF, statistic = \"fisher\")\n",
    "resultWeight01ksMF <- runTest(GOdataMF, statistic = \"ks\")"
   ]
  },
  {
   "cell_type": "code",
   "execution_count": 10,
   "metadata": {
    "collapsed": false,
    "deletable": true,
    "editable": true
   },
   "outputs": [
    {
     "data": {
      "text/html": [
       "<table>\n",
       "<thead><tr><th scope=col>GO.ID</th><th scope=col>Term</th><th scope=col>Annotated</th><th scope=col>Significant</th><th scope=col>Expected</th><th scope=col>result1</th></tr></thead>\n",
       "<tbody>\n",
       "\t<tr><td>GO:0043169                        </td><td>cation binding                    </td><td> 36                               </td><td>3                                 </td><td>2.85                              </td><td>0.026                             </td></tr>\n",
       "\t<tr><td>GO:0005515                        </td><td>protein binding                   </td><td> 21                               </td><td>4                                 </td><td>1.66                              </td><td>0.056                             </td></tr>\n",
       "\t<tr><td>GO:0019825                        </td><td>oxygen binding                    </td><td>  2                               </td><td>1                                 </td><td>0.16                              </td><td>0.153                             </td></tr>\n",
       "\t<tr><td>GO:0020037                        </td><td>heme binding                      </td><td>  3                               </td><td>1                                 </td><td>0.24                              </td><td>0.221                             </td></tr>\n",
       "\t<tr><td>GO:0005506                        </td><td>iron ion binding                  </td><td>  7                               </td><td>1                                 </td><td>0.55                              </td><td>0.449                             </td></tr>\n",
       "\t<tr><td>GO:0004252                        </td><td>serine-type endopeptidase activity</td><td> 10                               </td><td>1                                 </td><td>0.79                              </td><td>0.579                             </td></tr>\n",
       "\t<tr><td>GO:0003824                        </td><td>catalytic activity                </td><td> 55                               </td><td>3                                 </td><td>4.36                              </td><td>0.667                             </td></tr>\n",
       "\t<tr><td>GO:0003674                        </td><td>molecular_function                </td><td>101                               </td><td>8                                 </td><td>8.00                              </td><td>1.000                             </td></tr>\n",
       "\t<tr><td>GO:0008233                        </td><td>peptidase activity                </td><td> 25                               </td><td>1                                 </td><td>1.98                              </td><td>1.000                             </td></tr>\n",
       "\t<tr><td>GO:0004175                        </td><td>endopeptidase activity            </td><td> 12                               </td><td>1                                 </td><td>0.95                              </td><td>1.000                             </td></tr>\n",
       "</tbody>\n",
       "</table>\n"
      ],
      "text/latex": [
       "\\begin{tabular}{r|llllll}\n",
       " GO.ID & Term & Annotated & Significant & Expected & result1\\\\\n",
       "\\hline\n",
       "\t GO:0043169                         & cation binding                     &  36                                & 3                                  & 2.85                               & 0.026                             \\\\\n",
       "\t GO:0005515                         & protein binding                    &  21                                & 4                                  & 1.66                               & 0.056                             \\\\\n",
       "\t GO:0019825                         & oxygen binding                     &   2                                & 1                                  & 0.16                               & 0.153                             \\\\\n",
       "\t GO:0020037                         & heme binding                       &   3                                & 1                                  & 0.24                               & 0.221                             \\\\\n",
       "\t GO:0005506                         & iron ion binding                   &   7                                & 1                                  & 0.55                               & 0.449                             \\\\\n",
       "\t GO:0004252                         & serine-type endopeptidase activity &  10                                & 1                                  & 0.79                               & 0.579                             \\\\\n",
       "\t GO:0003824                         & catalytic activity                 &  55                                & 3                                  & 4.36                               & 0.667                             \\\\\n",
       "\t GO:0003674                           & molecular\\_function                 & 101                                  & 8                                    & 8.00                                 & 1.000                               \\\\\n",
       "\t GO:0008233                         & peptidase activity                 &  25                                & 1                                  & 1.98                               & 1.000                             \\\\\n",
       "\t GO:0004175                         & endopeptidase activity             &  12                                & 1                                  & 0.95                               & 1.000                             \\\\\n",
       "\\end{tabular}\n"
      ],
      "text/markdown": [
       "\n",
       "GO.ID | Term | Annotated | Significant | Expected | result1 | \n",
       "|---|---|---|---|---|---|---|---|---|---|\n",
       "| GO:0043169                         | cation binding                     |  36                                | 3                                  | 2.85                               | 0.026                              | \n",
       "| GO:0005515                         | protein binding                    |  21                                | 4                                  | 1.66                               | 0.056                              | \n",
       "| GO:0019825                         | oxygen binding                     |   2                                | 1                                  | 0.16                               | 0.153                              | \n",
       "| GO:0020037                         | heme binding                       |   3                                | 1                                  | 0.24                               | 0.221                              | \n",
       "| GO:0005506                         | iron ion binding                   |   7                                | 1                                  | 0.55                               | 0.449                              | \n",
       "| GO:0004252                         | serine-type endopeptidase activity |  10                                | 1                                  | 0.79                               | 0.579                              | \n",
       "| GO:0003824                         | catalytic activity                 |  55                                | 3                                  | 4.36                               | 0.667                              | \n",
       "| GO:0003674                         | molecular_function                 | 101                                | 8                                  | 8.00                               | 1.000                              | \n",
       "| GO:0008233                         | peptidase activity                 |  25                                | 1                                  | 1.98                               | 1.000                              | \n",
       "| GO:0004175                         | endopeptidase activity             |  12                                | 1                                  | 0.95                               | 1.000                              | \n",
       "\n",
       "\n"
      ],
      "text/plain": [
       "   GO.ID      Term                               Annotated Significant Expected\n",
       "1  GO:0043169 cation binding                      36       3           2.85    \n",
       "2  GO:0005515 protein binding                     21       4           1.66    \n",
       "3  GO:0019825 oxygen binding                       2       1           0.16    \n",
       "4  GO:0020037 heme binding                         3       1           0.24    \n",
       "5  GO:0005506 iron ion binding                     7       1           0.55    \n",
       "6  GO:0004252 serine-type endopeptidase activity  10       1           0.79    \n",
       "7  GO:0003824 catalytic activity                  55       3           4.36    \n",
       "8  GO:0003674 molecular_function                 101       8           8.00    \n",
       "9  GO:0008233 peptidase activity                  25       1           1.98    \n",
       "10 GO:0004175 endopeptidase activity              12       1           0.95    \n",
       "   result1\n",
       "1  0.026  \n",
       "2  0.056  \n",
       "3  0.153  \n",
       "4  0.221  \n",
       "5  0.449  \n",
       "6  0.579  \n",
       "7  0.667  \n",
       "8  1.000  \n",
       "9  1.000  \n",
       "10 1.000  "
      ]
     },
     "metadata": {},
     "output_type": "display_data"
    }
   ],
   "source": [
    "GenTable(GOdataMF, resultWeight01MF, topNodes = 10)"
   ]
  },
  {
   "cell_type": "code",
   "execution_count": 11,
   "metadata": {
    "collapsed": false,
    "deletable": true,
    "editable": true
   },
   "outputs": [
    {
     "data": {
      "text/html": [
       "<table>\n",
       "<thead><tr><th scope=col>GO.ID</th><th scope=col>Term</th><th scope=col>Annotated</th><th scope=col>Significant</th><th scope=col>Expected</th><th scope=col>result1</th></tr></thead>\n",
       "<tbody>\n",
       "\t<tr><td>GO:0016787                                 </td><td>hydrolase activity                         </td><td>36                                         </td><td>1                                          </td><td>2.85                                       </td><td>0.016                                      </td></tr>\n",
       "\t<tr><td>GO:0043169                                 </td><td>cation binding                             </td><td>36                                         </td><td>3                                          </td><td>2.85                                       </td><td>0.038                                      </td></tr>\n",
       "\t<tr><td>GO:0030145                                 </td><td>manganese ion binding                      </td><td> 2                                         </td><td>0                                          </td><td>0.16                                       </td><td>0.064                                      </td></tr>\n",
       "\t<tr><td>GO:0005515                                 </td><td>protein binding                            </td><td>21                                         </td><td>4                                          </td><td>1.66                                       </td><td>0.148                                      </td></tr>\n",
       "\t<tr><td>GO:0003676                                 </td><td>nucleic acid binding                       </td><td> 4                                         </td><td>0                                          </td><td>0.32                                       </td><td>0.163                                      </td></tr>\n",
       "\t<tr><td>GO:0004181                                 </td><td>metallocarboxypeptidase activity           </td><td> 2                                         </td><td>0                                          </td><td>0.16                                       </td><td>0.166                                      </td></tr>\n",
       "\t<tr><td>GO:0005215                                 </td><td>transporter activity                       </td><td> 4                                         </td><td>0                                          </td><td>0.32                                       </td><td>0.189                                      </td></tr>\n",
       "\t<tr><td>GO:0003824                                 </td><td>catalytic activity                         </td><td>55                                         </td><td>3                                          </td><td>4.36                                       </td><td>0.200                                      </td></tr>\n",
       "\t<tr><td>GO:0008235                                 </td><td>metalloexopeptidase activity               </td><td> 4                                         </td><td>0                                          </td><td>0.32                                       </td><td>0.212                                      </td></tr>\n",
       "\t<tr><td>GO:0004867                                 </td><td>serine-type endopeptidase inhibitor acti...</td><td> 3                                         </td><td>0                                          </td><td>0.24                                       </td><td>0.215                                      </td></tr>\n",
       "</tbody>\n",
       "</table>\n"
      ],
      "text/latex": [
       "\\begin{tabular}{r|llllll}\n",
       " GO.ID & Term & Annotated & Significant & Expected & result1\\\\\n",
       "\\hline\n",
       "\t GO:0016787                                  & hydrolase activity                          & 36                                          & 1                                           & 2.85                                        & 0.016                                      \\\\\n",
       "\t GO:0043169                                  & cation binding                              & 36                                          & 3                                           & 2.85                                        & 0.038                                      \\\\\n",
       "\t GO:0030145                                  & manganese ion binding                       &  2                                          & 0                                           & 0.16                                        & 0.064                                      \\\\\n",
       "\t GO:0005515                                  & protein binding                             & 21                                          & 4                                           & 1.66                                        & 0.148                                      \\\\\n",
       "\t GO:0003676                                  & nucleic acid binding                        &  4                                          & 0                                           & 0.32                                        & 0.163                                      \\\\\n",
       "\t GO:0004181                                  & metallocarboxypeptidase activity            &  2                                          & 0                                           & 0.16                                        & 0.166                                      \\\\\n",
       "\t GO:0005215                                  & transporter activity                        &  4                                          & 0                                           & 0.32                                        & 0.189                                      \\\\\n",
       "\t GO:0003824                                  & catalytic activity                          & 55                                          & 3                                           & 4.36                                        & 0.200                                      \\\\\n",
       "\t GO:0008235                                  & metalloexopeptidase activity                &  4                                          & 0                                           & 0.32                                        & 0.212                                      \\\\\n",
       "\t GO:0004867                                  & serine-type endopeptidase inhibitor acti... &  3                                          & 0                                           & 0.24                                        & 0.215                                      \\\\\n",
       "\\end{tabular}\n"
      ],
      "text/markdown": [
       "\n",
       "GO.ID | Term | Annotated | Significant | Expected | result1 | \n",
       "|---|---|---|---|---|---|---|---|---|---|\n",
       "| GO:0016787                                  | hydrolase activity                          | 36                                          | 1                                           | 2.85                                        | 0.016                                       | \n",
       "| GO:0043169                                  | cation binding                              | 36                                          | 3                                           | 2.85                                        | 0.038                                       | \n",
       "| GO:0030145                                  | manganese ion binding                       |  2                                          | 0                                           | 0.16                                        | 0.064                                       | \n",
       "| GO:0005515                                  | protein binding                             | 21                                          | 4                                           | 1.66                                        | 0.148                                       | \n",
       "| GO:0003676                                  | nucleic acid binding                        |  4                                          | 0                                           | 0.32                                        | 0.163                                       | \n",
       "| GO:0004181                                  | metallocarboxypeptidase activity            |  2                                          | 0                                           | 0.16                                        | 0.166                                       | \n",
       "| GO:0005215                                  | transporter activity                        |  4                                          | 0                                           | 0.32                                        | 0.189                                       | \n",
       "| GO:0003824                                  | catalytic activity                          | 55                                          | 3                                           | 4.36                                        | 0.200                                       | \n",
       "| GO:0008235                                  | metalloexopeptidase activity                |  4                                          | 0                                           | 0.32                                        | 0.212                                       | \n",
       "| GO:0004867                                  | serine-type endopeptidase inhibitor acti... |  3                                          | 0                                           | 0.24                                        | 0.215                                       | \n",
       "\n",
       "\n"
      ],
      "text/plain": [
       "   GO.ID      Term                                        Annotated Significant\n",
       "1  GO:0016787 hydrolase activity                          36        1          \n",
       "2  GO:0043169 cation binding                              36        3          \n",
       "3  GO:0030145 manganese ion binding                        2        0          \n",
       "4  GO:0005515 protein binding                             21        4          \n",
       "5  GO:0003676 nucleic acid binding                         4        0          \n",
       "6  GO:0004181 metallocarboxypeptidase activity             2        0          \n",
       "7  GO:0005215 transporter activity                         4        0          \n",
       "8  GO:0003824 catalytic activity                          55        3          \n",
       "9  GO:0008235 metalloexopeptidase activity                 4        0          \n",
       "10 GO:0004867 serine-type endopeptidase inhibitor acti...  3        0          \n",
       "   Expected result1\n",
       "1  2.85     0.016  \n",
       "2  2.85     0.038  \n",
       "3  0.16     0.064  \n",
       "4  1.66     0.148  \n",
       "5  0.32     0.163  \n",
       "6  0.16     0.166  \n",
       "7  0.32     0.189  \n",
       "8  4.36     0.200  \n",
       "9  0.32     0.212  \n",
       "10 0.24     0.215  "
      ]
     },
     "metadata": {},
     "output_type": "display_data"
    }
   ],
   "source": [
    "GenTable(GOdataMF, resultWeight01ksMF, topNodes = 10)"
   ]
  },
  {
   "cell_type": "markdown",
   "metadata": {
    "deletable": true,
    "editable": true
   },
   "source": [
    "## Non -human/mouse"
   ]
  },
  {
   "cell_type": "code",
   "execution_count": 12,
   "metadata": {
    "collapsed": false,
    "deletable": true,
    "editable": true
   },
   "outputs": [
    {
     "data": {
      "text/html": [
       "4463"
      ],
      "text/latex": [
       "4463"
      ],
      "text/markdown": [
       "4463"
      ],
      "text/plain": [
       "[1] 4463"
      ]
     },
     "metadata": {},
     "output_type": "display_data"
    }
   ],
   "source": [
    "res_nh = res[res$human_mouse==\"False\",]\n",
    "\n",
    "geneList = res_nh$padj\n",
    "names(geneList)<-rownames(res_nh)\n",
    "length(geneList)"
   ]
  },
  {
   "cell_type": "code",
   "execution_count": 13,
   "metadata": {
    "collapsed": false,
    "deletable": true,
    "editable": true,
    "scrolled": true
   },
   "outputs": [
    {
     "name": "stdout",
     "output_type": "stream",
     "text": [
      "\n",
      "Building most specific GOs .....\t( 170 GO terms found. )\n",
      "\n",
      "Build GO DAG topology ..........\t( 546 GO terms and 1107 relations. )\n",
      "\n",
      "Annotating nodes ...............\t( 3558 genes annotated to the GO terms. )\n",
      "\n",
      "\t\t\t -- Weight01 Algorithm -- \n",
      "\n",
      "\t\t the algorithm is scoring 226 nontrivial nodes\n",
      "\t\t parameters: \n",
      "\t\t\t test statistic:  fisher \n",
      "\n",
      "\t Level 13:\t1 nodes to be scored\t(0 eliminated genes)\n",
      "\n",
      "\t Level 12:\t2 nodes to be scored\t(0 eliminated genes)\n",
      "\n",
      "\t Level 11:\t6 nodes to be scored\t(259 eliminated genes)\n",
      "\n",
      "\t Level 10:\t14 nodes to be scored\t(262 eliminated genes)\n",
      "\n",
      "\t Level 9:\t23 nodes to be scored\t(381 eliminated genes)\n",
      "\n",
      "\t Level 8:\t23 nodes to be scored\t(904 eliminated genes)\n",
      "\n",
      "\t Level 7:\t21 nodes to be scored\t(1398 eliminated genes)\n",
      "\n",
      "\t Level 6:\t37 nodes to be scored\t(2317 eliminated genes)\n",
      "\n",
      "\t Level 5:\t44 nodes to be scored\t(2437 eliminated genes)\n",
      "\n",
      "\t Level 4:\t29 nodes to be scored\t(2571 eliminated genes)\n",
      "\n",
      "\t Level 3:\t17 nodes to be scored\t(2663 eliminated genes)\n",
      "\n",
      "\t Level 2:\t8 nodes to be scored\t(3348 eliminated genes)\n",
      "\n",
      "\t Level 1:\t1 nodes to be scored\t(3414 eliminated genes)\n",
      "\n",
      "\t\t\t -- Weight01 Algorithm -- \n",
      "\n",
      "\t\t the algorithm is scoring 546 nontrivial nodes\n",
      "\t\t parameters: \n",
      "\t\t\t test statistic:  ks \n",
      "\t\t\t score order:  increasing \n",
      "\n",
      "\t Level 13:\t6 nodes to be scored\t(0 eliminated genes)\n",
      "\n",
      "\t Level 12:\t31 nodes to be scored\t(0 eliminated genes)\n",
      "\n",
      "\t Level 11:\t41 nodes to be scored\t(337 eliminated genes)\n",
      "\n",
      "\t Level 10:\t48 nodes to be scored\t(488 eliminated genes)\n",
      "\n",
      "\t Level 9:\t61 nodes to be scored\t(626 eliminated genes)\n",
      "\n",
      "\t Level 8:\t63 nodes to be scored\t(1134 eliminated genes)\n",
      "\n",
      "\t Level 7:\t58 nodes to be scored\t(1679 eliminated genes)\n",
      "\n",
      "\t Level 6:\t79 nodes to be scored\t(2479 eliminated genes)\n",
      "\n",
      "\t Level 5:\t74 nodes to be scored\t(2542 eliminated genes)\n",
      "\n",
      "\t Level 4:\t45 nodes to be scored\t(2666 eliminated genes)\n",
      "\n",
      "\t Level 3:\t28 nodes to be scored\t(2757 eliminated genes)\n",
      "\n",
      "\t Level 2:\t11 nodes to be scored\t(3378 eliminated genes)\n",
      "\n",
      "\t Level 1:\t1 nodes to be scored\t(3418 eliminated genes)\n"
     ]
    }
   ],
   "source": [
    "GOdataBP <- new(\"topGOdata\", ontology = \"BP\", allGenes = geneList, geneSel = topDiffGenes, annot = annFUN.gene2GO, gene2GO = geneID2GO)\n",
    "resultWeight01BP <- runTest(GOdataBP, statistic = \"fisher\")\n",
    "resultWeight01ksBP <- runTest(GOdataBP, statistic = \"ks\")"
   ]
  },
  {
   "cell_type": "code",
   "execution_count": 14,
   "metadata": {
    "collapsed": false,
    "deletable": true,
    "editable": true
   },
   "outputs": [
    {
     "data": {
      "text/html": [
       "<table>\n",
       "<thead><tr><th scope=col>GO.ID</th><th scope=col>Term</th><th scope=col>Annotated</th><th scope=col>Significant</th><th scope=col>Expected</th><th scope=col>result1</th></tr></thead>\n",
       "<tbody>\n",
       "\t<tr><td>GO:0071973                                 </td><td>bacterial-type flagellum-dependent cell ...</td><td>238                                        </td><td>32                                         </td><td>9.03                                       </td><td>8.0e-11                                    </td></tr>\n",
       "\t<tr><td>GO:0006633                                 </td><td>fatty acid biosynthetic process            </td><td> 14                                        </td><td> 6                                         </td><td>0.53                                       </td><td>6.2e-06                                    </td></tr>\n",
       "\t<tr><td>GO:0032784                                 </td><td>regulation of DNA-templated transcriptio...</td><td>  3                                        </td><td> 3                                         </td><td>0.11                                       </td><td>5.3e-05                                    </td></tr>\n",
       "\t<tr><td>GO:0006629                                 </td><td>lipid metabolic process                    </td><td> 61                                        </td><td> 8                                         </td><td>2.31                                       </td><td>0.0013                                     </td></tr>\n",
       "\t<tr><td>GO:0035556                                 </td><td>intracellular signal transduction          </td><td>  4                                        </td><td> 3                                         </td><td>0.15                                       </td><td>0.0014                                     </td></tr>\n",
       "\t<tr><td>GO:0006084                                 </td><td>acetyl-CoA metabolic process               </td><td>  9                                        </td><td> 3                                         </td><td>0.34                                       </td><td>0.0038                                     </td></tr>\n",
       "\t<tr><td>GO:0006066                                 </td><td>alcohol metabolic process                  </td><td> 20                                        </td><td> 4                                         </td><td>0.76                                       </td><td>0.0080                                     </td></tr>\n",
       "\t<tr><td>GO:0015976                                 </td><td>carbon utilization                         </td><td>  4                                        </td><td> 2                                         </td><td>0.15                                       </td><td>0.0082                                     </td></tr>\n",
       "\t<tr><td>GO:0006096                                 </td><td>glycolytic process                         </td><td>259                                        </td><td>16                                         </td><td>9.83                                       </td><td>0.0341                                     </td></tr>\n",
       "\t<tr><td>GO:0006284                                 </td><td>base-excision repair                       </td><td>  1                                        </td><td> 1                                         </td><td>0.04                                       </td><td>0.0379                                     </td></tr>\n",
       "</tbody>\n",
       "</table>\n"
      ],
      "text/latex": [
       "\\begin{tabular}{r|llllll}\n",
       " GO.ID & Term & Annotated & Significant & Expected & result1\\\\\n",
       "\\hline\n",
       "\t GO:0071973                                  & bacterial-type flagellum-dependent cell ... & 238                                         & 32                                          & 9.03                                        & 8.0e-11                                    \\\\\n",
       "\t GO:0006633                                  & fatty acid biosynthetic process             &  14                                         &  6                                          & 0.53                                        & 6.2e-06                                    \\\\\n",
       "\t GO:0032784                                  & regulation of DNA-templated transcriptio... &   3                                         &  3                                          & 0.11                                        & 5.3e-05                                    \\\\\n",
       "\t GO:0006629                                  & lipid metabolic process                     &  61                                         &  8                                          & 2.31                                        & 0.0013                                     \\\\\n",
       "\t GO:0035556                                  & intracellular signal transduction           &   4                                         &  3                                          & 0.15                                        & 0.0014                                     \\\\\n",
       "\t GO:0006084                                  & acetyl-CoA metabolic process                &   9                                         &  3                                          & 0.34                                        & 0.0038                                     \\\\\n",
       "\t GO:0006066                                  & alcohol metabolic process                   &  20                                         &  4                                          & 0.76                                        & 0.0080                                     \\\\\n",
       "\t GO:0015976                                  & carbon utilization                          &   4                                         &  2                                          & 0.15                                        & 0.0082                                     \\\\\n",
       "\t GO:0006096                                  & glycolytic process                          & 259                                         & 16                                          & 9.83                                        & 0.0341                                     \\\\\n",
       "\t GO:0006284                                  & base-excision repair                        &   1                                         &  1                                          & 0.04                                        & 0.0379                                     \\\\\n",
       "\\end{tabular}\n"
      ],
      "text/markdown": [
       "\n",
       "GO.ID | Term | Annotated | Significant | Expected | result1 | \n",
       "|---|---|---|---|---|---|---|---|---|---|\n",
       "| GO:0071973                                  | bacterial-type flagellum-dependent cell ... | 238                                         | 32                                          | 9.03                                        | 8.0e-11                                     | \n",
       "| GO:0006633                                  | fatty acid biosynthetic process             |  14                                         |  6                                          | 0.53                                        | 6.2e-06                                     | \n",
       "| GO:0032784                                  | regulation of DNA-templated transcriptio... |   3                                         |  3                                          | 0.11                                        | 5.3e-05                                     | \n",
       "| GO:0006629                                  | lipid metabolic process                     |  61                                         |  8                                          | 2.31                                        | 0.0013                                      | \n",
       "| GO:0035556                                  | intracellular signal transduction           |   4                                         |  3                                          | 0.15                                        | 0.0014                                      | \n",
       "| GO:0006084                                  | acetyl-CoA metabolic process                |   9                                         |  3                                          | 0.34                                        | 0.0038                                      | \n",
       "| GO:0006066                                  | alcohol metabolic process                   |  20                                         |  4                                          | 0.76                                        | 0.0080                                      | \n",
       "| GO:0015976                                  | carbon utilization                          |   4                                         |  2                                          | 0.15                                        | 0.0082                                      | \n",
       "| GO:0006096                                  | glycolytic process                          | 259                                         | 16                                          | 9.83                                        | 0.0341                                      | \n",
       "| GO:0006284                                  | base-excision repair                        |   1                                         |  1                                          | 0.04                                        | 0.0379                                      | \n",
       "\n",
       "\n"
      ],
      "text/plain": [
       "   GO.ID      Term                                        Annotated Significant\n",
       "1  GO:0071973 bacterial-type flagellum-dependent cell ... 238       32         \n",
       "2  GO:0006633 fatty acid biosynthetic process              14        6         \n",
       "3  GO:0032784 regulation of DNA-templated transcriptio...   3        3         \n",
       "4  GO:0006629 lipid metabolic process                      61        8         \n",
       "5  GO:0035556 intracellular signal transduction             4        3         \n",
       "6  GO:0006084 acetyl-CoA metabolic process                  9        3         \n",
       "7  GO:0006066 alcohol metabolic process                    20        4         \n",
       "8  GO:0015976 carbon utilization                            4        2         \n",
       "9  GO:0006096 glycolytic process                          259       16         \n",
       "10 GO:0006284 base-excision repair                          1        1         \n",
       "   Expected result1\n",
       "1  9.03     8.0e-11\n",
       "2  0.53     6.2e-06\n",
       "3  0.11     5.3e-05\n",
       "4  2.31     0.0013 \n",
       "5  0.15     0.0014 \n",
       "6  0.34     0.0038 \n",
       "7  0.76     0.0080 \n",
       "8  0.15     0.0082 \n",
       "9  9.83     0.0341 \n",
       "10 0.04     0.0379 "
      ]
     },
     "metadata": {},
     "output_type": "display_data"
    }
   ],
   "source": [
    "GenTable(GOdataBP, resultWeight01BP, topNodes = 10)"
   ]
  },
  {
   "cell_type": "code",
   "execution_count": 15,
   "metadata": {
    "collapsed": false,
    "deletable": true,
    "editable": true
   },
   "outputs": [
    {
     "data": {
      "text/html": [
       "<table>\n",
       "<thead><tr><th scope=col>GO.ID</th><th scope=col>Term</th><th scope=col>Annotated</th><th scope=col>Significant</th><th scope=col>Expected</th><th scope=col>result1</th></tr></thead>\n",
       "<tbody>\n",
       "\t<tr><td>GO:0006090                                                                         </td><td><span style=white-space:pre-wrap>pyruvate metabolic process                 </span></td><td>551                                                                                </td><td>24                                                                                 </td><td>20.91                                                                              </td><td>&lt; 1e-30                                                                         </td></tr>\n",
       "\t<tr><td>GO:0016310                                                                         </td><td><span style=white-space:pre-wrap>phosphorylation                            </span></td><td>585                                                                                </td><td>24                                                                                 </td><td>22.20                                                                              </td><td>&lt; 1e-30                                                                         </td></tr>\n",
       "\t<tr><td>GO:0071973                                 </td><td>bacterial-type flagellum-dependent cell ...</td><td>238                                        </td><td>32                                         </td><td> 9.03                                      </td><td>7.4e-14                                    </td></tr>\n",
       "\t<tr><td>GO:0006102                                 </td><td>isocitrate metabolic process               </td><td> 20                                        </td><td> 0                                         </td><td> 0.76                                      </td><td>2.3e-11                                    </td></tr>\n",
       "\t<tr><td>GO:0006351                                 </td><td>transcription, DNA-templated               </td><td>350                                        </td><td> 5                                         </td><td>13.28                                      </td><td>1.6e-08                                    </td></tr>\n",
       "\t<tr><td>GO:0006810                                 </td><td>transport                                  </td><td>243                                        </td><td> 5                                         </td><td> 9.22                                      </td><td>8.8e-08                                    </td></tr>\n",
       "\t<tr><td>GO:0006164                                 </td><td>purine nucleotide biosynthetic process     </td><td>124                                        </td><td> 1                                         </td><td> 4.70                                      </td><td>4.8e-05                                    </td></tr>\n",
       "\t<tr><td>GO:0009396                                 </td><td>folic acid-containing compound biosynthe...</td><td> 20                                        </td><td> 2                                         </td><td> 0.76                                      </td><td>0.00013                                    </td></tr>\n",
       "\t<tr><td>GO:0017038                                 </td><td>protein import                             </td><td> 21                                        </td><td> 0                                         </td><td> 0.80                                      </td><td>0.00016                                    </td></tr>\n",
       "\t<tr><td>GO:0006633                                 </td><td>fatty acid biosynthetic process            </td><td> 14                                        </td><td> 6                                         </td><td> 0.53                                      </td><td>0.00056                                    </td></tr>\n",
       "</tbody>\n",
       "</table>\n"
      ],
      "text/latex": [
       "\\begin{tabular}{r|llllll}\n",
       " GO.ID & Term & Annotated & Significant & Expected & result1\\\\\n",
       "\\hline\n",
       "\t GO:0006090                                  & pyruvate metabolic process                  & 551                                         & 24                                          & 20.91                                       & < 1e-30                                    \\\\\n",
       "\t GO:0016310                                  & phosphorylation                             & 585                                         & 24                                          & 22.20                                       & < 1e-30                                    \\\\\n",
       "\t GO:0071973                                  & bacterial-type flagellum-dependent cell ... & 238                                         & 32                                          &  9.03                                       & 7.4e-14                                    \\\\\n",
       "\t GO:0006102                                  & isocitrate metabolic process                &  20                                         &  0                                          &  0.76                                       & 2.3e-11                                    \\\\\n",
       "\t GO:0006351                                  & transcription, DNA-templated                & 350                                         &  5                                          & 13.28                                       & 1.6e-08                                    \\\\\n",
       "\t GO:0006810                                  & transport                                   & 243                                         &  5                                          &  9.22                                       & 8.8e-08                                    \\\\\n",
       "\t GO:0006164                                  & purine nucleotide biosynthetic process      & 124                                         &  1                                          &  4.70                                       & 4.8e-05                                    \\\\\n",
       "\t GO:0009396                                  & folic acid-containing compound biosynthe... &  20                                         &  2                                          &  0.76                                       & 0.00013                                    \\\\\n",
       "\t GO:0017038                                  & protein import                              &  21                                         &  0                                          &  0.80                                       & 0.00016                                    \\\\\n",
       "\t GO:0006633                                  & fatty acid biosynthetic process             &  14                                         &  6                                          &  0.53                                       & 0.00056                                    \\\\\n",
       "\\end{tabular}\n"
      ],
      "text/markdown": [
       "\n",
       "GO.ID | Term | Annotated | Significant | Expected | result1 | \n",
       "|---|---|---|---|---|---|---|---|---|---|\n",
       "| GO:0006090                                  | pyruvate metabolic process                  | 551                                         | 24                                          | 20.91                                       | < 1e-30                                     | \n",
       "| GO:0016310                                  | phosphorylation                             | 585                                         | 24                                          | 22.20                                       | < 1e-30                                     | \n",
       "| GO:0071973                                  | bacterial-type flagellum-dependent cell ... | 238                                         | 32                                          |  9.03                                       | 7.4e-14                                     | \n",
       "| GO:0006102                                  | isocitrate metabolic process                |  20                                         |  0                                          |  0.76                                       | 2.3e-11                                     | \n",
       "| GO:0006351                                  | transcription, DNA-templated                | 350                                         |  5                                          | 13.28                                       | 1.6e-08                                     | \n",
       "| GO:0006810                                  | transport                                   | 243                                         |  5                                          |  9.22                                       | 8.8e-08                                     | \n",
       "| GO:0006164                                  | purine nucleotide biosynthetic process      | 124                                         |  1                                          |  4.70                                       | 4.8e-05                                     | \n",
       "| GO:0009396                                  | folic acid-containing compound biosynthe... |  20                                         |  2                                          |  0.76                                       | 0.00013                                     | \n",
       "| GO:0017038                                  | protein import                              |  21                                         |  0                                          |  0.80                                       | 0.00016                                     | \n",
       "| GO:0006633                                  | fatty acid biosynthetic process             |  14                                         |  6                                          |  0.53                                       | 0.00056                                     | \n",
       "\n",
       "\n"
      ],
      "text/plain": [
       "   GO.ID      Term                                        Annotated Significant\n",
       "1  GO:0006090 pyruvate metabolic process                  551       24         \n",
       "2  GO:0016310 phosphorylation                             585       24         \n",
       "3  GO:0071973 bacterial-type flagellum-dependent cell ... 238       32         \n",
       "4  GO:0006102 isocitrate metabolic process                 20        0         \n",
       "5  GO:0006351 transcription, DNA-templated                350        5         \n",
       "6  GO:0006810 transport                                   243        5         \n",
       "7  GO:0006164 purine nucleotide biosynthetic process      124        1         \n",
       "8  GO:0009396 folic acid-containing compound biosynthe...  20        2         \n",
       "9  GO:0017038 protein import                               21        0         \n",
       "10 GO:0006633 fatty acid biosynthetic process              14        6         \n",
       "   Expected result1\n",
       "1  20.91    < 1e-30\n",
       "2  22.20    < 1e-30\n",
       "3   9.03    7.4e-14\n",
       "4   0.76    2.3e-11\n",
       "5  13.28    1.6e-08\n",
       "6   9.22    8.8e-08\n",
       "7   4.70    4.8e-05\n",
       "8   0.76    0.00013\n",
       "9   0.80    0.00016\n",
       "10  0.53    0.00056"
      ]
     },
     "metadata": {},
     "output_type": "display_data"
    }
   ],
   "source": [
    "GenTable(GOdataBP, resultWeight01ksBP, topNodes = 10)"
   ]
  },
  {
   "cell_type": "code",
   "execution_count": 16,
   "metadata": {
    "collapsed": false,
    "deletable": true,
    "editable": true,
    "scrolled": true
   },
   "outputs": [
    {
     "name": "stdout",
     "output_type": "stream",
     "text": [
      "\n",
      "Building most specific GOs .....\t( 280 GO terms found. )\n",
      "\n",
      "Build GO DAG topology ..........\t( 447 GO terms and 535 relations. )\n",
      "\n",
      "Annotating nodes ...............\t( 3889 genes annotated to the GO terms. )\n",
      "\n",
      "\t\t\t -- Weight01 Algorithm -- \n",
      "\n",
      "\t\t the algorithm is scoring 160 nontrivial nodes\n",
      "\t\t parameters: \n",
      "\t\t\t test statistic:  fisher \n",
      "\n",
      "\t Level 9:\t2 nodes to be scored\t(0 eliminated genes)\n",
      "\n",
      "\t Level 8:\t7 nodes to be scored\t(0 eliminated genes)\n",
      "\n",
      "\t Level 7:\t19 nodes to be scored\t(971 eliminated genes)\n",
      "\n",
      "\t Level 6:\t35 nodes to be scored\t(977 eliminated genes)\n",
      "\n",
      "\t Level 5:\t41 nodes to be scored\t(1632 eliminated genes)\n",
      "\n",
      "\t Level 4:\t30 nodes to be scored\t(1996 eliminated genes)\n",
      "\n",
      "\t Level 3:\t19 nodes to be scored\t(2890 eliminated genes)\n",
      "\n",
      "\t Level 2:\t6 nodes to be scored\t(3022 eliminated genes)\n",
      "\n",
      "\t Level 1:\t1 nodes to be scored\t(3515 eliminated genes)\n",
      "\n",
      "\t\t\t -- Weight01 Algorithm -- \n",
      "\n",
      "\t\t the algorithm is scoring 447 nontrivial nodes\n",
      "\t\t parameters: \n",
      "\t\t\t test statistic:  ks \n",
      "\t\t\t score order:  increasing \n",
      "\n",
      "\t Level 15:\t1 nodes to be scored\t(0 eliminated genes)\n",
      "\n",
      "\t Level 14:\t2 nodes to be scored\t(0 eliminated genes)\n",
      "\n",
      "\t Level 13:\t2 nodes to be scored\t(3 eliminated genes)\n",
      "\n",
      "\t Level 12:\t1 nodes to be scored\t(62 eliminated genes)\n",
      "\n",
      "\t Level 11:\t2 nodes to be scored\t(62 eliminated genes)\n",
      "\n",
      "\t Level 10:\t2 nodes to be scored\t(62 eliminated genes)\n",
      "\n",
      "\t Level 9:\t6 nodes to be scored\t(63 eliminated genes)\n",
      "\n",
      "\t Level 8:\t19 nodes to be scored\t(63 eliminated genes)\n",
      "\n",
      "\t Level 7:\t70 nodes to be scored\t(992 eliminated genes)\n",
      "\n",
      "\t Level 6:\t147 nodes to be scored\t(1075 eliminated genes)\n",
      "\n",
      "\t Level 5:\t98 nodes to be scored\t(1874 eliminated genes)\n",
      "\n",
      "\t Level 4:\t56 nodes to be scored\t(2495 eliminated genes)\n",
      "\n",
      "\t Level 3:\t31 nodes to be scored\t(3092 eliminated genes)\n",
      "\n",
      "\t Level 2:\t9 nodes to be scored\t(3193 eliminated genes)\n",
      "\n",
      "\t Level 1:\t1 nodes to be scored\t(3523 eliminated genes)\n"
     ]
    }
   ],
   "source": [
    "# Molecular function\n",
    "GOdataMF <- new(\"topGOdata\", ontology = \"MF\", allGenes = geneList, geneSel = topDiffGenes, annot = annFUN.gene2GO, gene2GO = geneID2GO)\n",
    "resultWeight01MF <- runTest(GOdataMF, statistic = \"fisher\")\n",
    "resultWeight01ksMF <- runTest(GOdataMF, statistic = \"ks\")"
   ]
  },
  {
   "cell_type": "code",
   "execution_count": 17,
   "metadata": {
    "collapsed": false,
    "deletable": true,
    "editable": true
   },
   "outputs": [
    {
     "data": {
      "text/html": [
       "<table>\n",
       "<thead><tr><th scope=col>GO.ID</th><th scope=col>Term</th><th scope=col>Annotated</th><th scope=col>Significant</th><th scope=col>Expected</th><th scope=col>result1</th></tr></thead>\n",
       "<tbody>\n",
       "\t<tr><td>GO:0004634                                 </td><td>phosphopyruvate hydratase activity         </td><td> 36                                        </td><td>13                                         </td><td> 1.35                                      </td><td>1.9e-10                                    </td></tr>\n",
       "\t<tr><td>GO:0005198                                 </td><td>structural molecule activity               </td><td>535                                        </td><td>36                                         </td><td>20.08                                      </td><td>2.9e-10                                    </td></tr>\n",
       "\t<tr><td>GO:0004315                                 </td><td>3-oxoacyl-[acyl-carrier-protein] synthas...</td><td>  7                                        </td><td> 6                                         </td><td> 0.26                                      </td><td>1.7e-08                                    </td></tr>\n",
       "\t<tr><td>GO:0000287                                 </td><td>magnesium ion binding                      </td><td> 90                                        </td><td>15                                         </td><td> 3.38                                      </td><td>8.2e-07                                    </td></tr>\n",
       "\t<tr><td>GO:0008762                                 </td><td>UDP-N-acetylmuramate dehydrogenase activ...</td><td>  2                                        </td><td> 2                                         </td><td> 0.08                                      </td><td>0.0014                                     </td></tr>\n",
       "\t<tr><td>GO:0004435                                 </td><td>phosphatidylinositol phospholipase C act...</td><td>  2                                        </td><td> 2                                         </td><td> 0.08                                      </td><td>0.0014                                     </td></tr>\n",
       "\t<tr><td>GO:0004022                                 </td><td>alcohol dehydrogenase (NAD) activity       </td><td>  6                                        </td><td> 3                                         </td><td> 0.23                                      </td><td>0.0079                                     </td></tr>\n",
       "\t<tr><td>GO:0008774                                 </td><td>acetaldehyde dehydrogenase (acetylating)...</td><td>  4                                        </td><td> 2                                         </td><td> 0.15                                      </td><td>0.0080                                     </td></tr>\n",
       "\t<tr><td>GO:0018492                                 </td><td>carbon-monoxide dehydrogenase (acceptor)...</td><td> 16                                        </td><td> 3                                         </td><td> 0.60                                      </td><td>0.0203                                     </td></tr>\n",
       "\t<tr><td>GO:0004853                                 </td><td>uroporphyrinogen decarboxylase activity    </td><td>  1                                        </td><td> 1                                         </td><td> 0.04                                      </td><td>0.0375                                     </td></tr>\n",
       "</tbody>\n",
       "</table>\n"
      ],
      "text/latex": [
       "\\begin{tabular}{r|llllll}\n",
       " GO.ID & Term & Annotated & Significant & Expected & result1\\\\\n",
       "\\hline\n",
       "\t GO:0004634                                  & phosphopyruvate hydratase activity          &  36                                         & 13                                          &  1.35                                       & 1.9e-10                                    \\\\\n",
       "\t GO:0005198                                  & structural molecule activity                & 535                                         & 36                                          & 20.08                                       & 2.9e-10                                    \\\\\n",
       "\t GO:0004315                                      & 3-oxoacyl-{[}acyl-carrier-protein{]} synthas... &   7                                             &  6                                              &  0.26                                           & 1.7e-08                                        \\\\\n",
       "\t GO:0000287                                  & magnesium ion binding                       &  90                                         & 15                                          &  3.38                                       & 8.2e-07                                    \\\\\n",
       "\t GO:0008762                                  & UDP-N-acetylmuramate dehydrogenase activ... &   2                                         &  2                                          &  0.08                                       & 0.0014                                     \\\\\n",
       "\t GO:0004435                                  & phosphatidylinositol phospholipase C act... &   2                                         &  2                                          &  0.08                                       & 0.0014                                     \\\\\n",
       "\t GO:0004022                                  & alcohol dehydrogenase (NAD) activity        &   6                                         &  3                                          &  0.23                                       & 0.0079                                     \\\\\n",
       "\t GO:0008774                                  & acetaldehyde dehydrogenase (acetylating)... &   4                                         &  2                                          &  0.15                                       & 0.0080                                     \\\\\n",
       "\t GO:0018492                                  & carbon-monoxide dehydrogenase (acceptor)... &  16                                         &  3                                          &  0.60                                       & 0.0203                                     \\\\\n",
       "\t GO:0004853                                  & uroporphyrinogen decarboxylase activity     &   1                                         &  1                                          &  0.04                                       & 0.0375                                     \\\\\n",
       "\\end{tabular}\n"
      ],
      "text/markdown": [
       "\n",
       "GO.ID | Term | Annotated | Significant | Expected | result1 | \n",
       "|---|---|---|---|---|---|---|---|---|---|\n",
       "| GO:0004634                                  | phosphopyruvate hydratase activity          |  36                                         | 13                                          |  1.35                                       | 1.9e-10                                     | \n",
       "| GO:0005198                                  | structural molecule activity                | 535                                         | 36                                          | 20.08                                       | 2.9e-10                                     | \n",
       "| GO:0004315                                  | 3-oxoacyl-[acyl-carrier-protein] synthas... |   7                                         |  6                                          |  0.26                                       | 1.7e-08                                     | \n",
       "| GO:0000287                                  | magnesium ion binding                       |  90                                         | 15                                          |  3.38                                       | 8.2e-07                                     | \n",
       "| GO:0008762                                  | UDP-N-acetylmuramate dehydrogenase activ... |   2                                         |  2                                          |  0.08                                       | 0.0014                                      | \n",
       "| GO:0004435                                  | phosphatidylinositol phospholipase C act... |   2                                         |  2                                          |  0.08                                       | 0.0014                                      | \n",
       "| GO:0004022                                  | alcohol dehydrogenase (NAD) activity        |   6                                         |  3                                          |  0.23                                       | 0.0079                                      | \n",
       "| GO:0008774                                  | acetaldehyde dehydrogenase (acetylating)... |   4                                         |  2                                          |  0.15                                       | 0.0080                                      | \n",
       "| GO:0018492                                  | carbon-monoxide dehydrogenase (acceptor)... |  16                                         |  3                                          |  0.60                                       | 0.0203                                      | \n",
       "| GO:0004853                                  | uroporphyrinogen decarboxylase activity     |   1                                         |  1                                          |  0.04                                       | 0.0375                                      | \n",
       "\n",
       "\n"
      ],
      "text/plain": [
       "   GO.ID      Term                                        Annotated Significant\n",
       "1  GO:0004634 phosphopyruvate hydratase activity           36       13         \n",
       "2  GO:0005198 structural molecule activity                535       36         \n",
       "3  GO:0004315 3-oxoacyl-[acyl-carrier-protein] synthas...   7        6         \n",
       "4  GO:0000287 magnesium ion binding                        90       15         \n",
       "5  GO:0008762 UDP-N-acetylmuramate dehydrogenase activ...   2        2         \n",
       "6  GO:0004435 phosphatidylinositol phospholipase C act...   2        2         \n",
       "7  GO:0004022 alcohol dehydrogenase (NAD) activity          6        3         \n",
       "8  GO:0008774 acetaldehyde dehydrogenase (acetylating)...   4        2         \n",
       "9  GO:0018492 carbon-monoxide dehydrogenase (acceptor)...  16        3         \n",
       "10 GO:0004853 uroporphyrinogen decarboxylase activity       1        1         \n",
       "   Expected result1\n",
       "1   1.35    1.9e-10\n",
       "2  20.08    2.9e-10\n",
       "3   0.26    1.7e-08\n",
       "4   3.38    8.2e-07\n",
       "5   0.08    0.0014 \n",
       "6   0.08    0.0014 \n",
       "7   0.23    0.0079 \n",
       "8   0.15    0.0080 \n",
       "9   0.60    0.0203 \n",
       "10  0.04    0.0375 "
      ]
     },
     "metadata": {},
     "output_type": "display_data"
    }
   ],
   "source": [
    "GenTable(GOdataMF, resultWeight01MF, topNodes=10)"
   ]
  },
  {
   "cell_type": "code",
   "execution_count": 18,
   "metadata": {
    "collapsed": false,
    "deletable": true,
    "editable": true,
    "scrolled": true
   },
   "outputs": [
    {
     "data": {
      "text/html": [
       "<table>\n",
       "<thead><tr><th scope=col>GO.ID</th><th scope=col>Term</th><th scope=col>Annotated</th><th scope=col>Significant</th><th scope=col>Expected</th><th scope=col>result1</th></tr></thead>\n",
       "<tbody>\n",
       "\t<tr><td>GO:0050242                                                                         </td><td><span style=white-space:pre-wrap>pyruvate, phosphate dikinase activity      </span></td><td>286                                                                                </td><td> 8                                                                                 </td><td>10.74                                                                              </td><td>&lt; 1e-30                                                                         </td></tr>\n",
       "\t<tr><td>GO:0016301                                                                         </td><td><span style=white-space:pre-wrap>kinase activity                            </span></td><td>407                                                                                </td><td> 6                                                                                 </td><td>15.28                                                                              </td><td>&lt; 1e-30                                                                         </td></tr>\n",
       "\t<tr><td>GO:0016887                                 </td><td>ATPase activity                            </td><td>166                                        </td><td> 5                                         </td><td> 6.23                                      </td><td>2.4e-15                                    </td></tr>\n",
       "\t<tr><td>GO:0005198                                 </td><td>structural molecule activity               </td><td>535                                        </td><td>36                                         </td><td>20.08                                      </td><td>9.9e-14                                    </td></tr>\n",
       "\t<tr><td>GO:0004450                                 </td><td>isocitrate dehydrogenase (NADP+) activit...</td><td> 20                                        </td><td> 0                                         </td><td> 0.75                                      </td><td>1.3e-11                                    </td></tr>\n",
       "\t<tr><td>GO:0003677                                 </td><td>DNA binding                                </td><td>349                                        </td><td> 5                                         </td><td>13.10                                      </td><td>1.2e-10                                    </td></tr>\n",
       "\t<tr><td>GO:0005524                                 </td><td>ATP binding                                </td><td>756                                        </td><td> 7                                         </td><td>28.38                                      </td><td>1.8e-10                                    </td></tr>\n",
       "\t<tr><td>GO:0003899                                 </td><td>DNA-directed RNA polymerase activity       </td><td>338                                        </td><td> 2                                         </td><td>12.69                                      </td><td>1.4e-09                                    </td></tr>\n",
       "\t<tr><td>GO:0016820                                 </td><td>hydrolase activity, acting on acid anhyd...</td><td>138                                        </td><td> 2                                         </td><td> 5.18                                      </td><td>3.2e-08                                    </td></tr>\n",
       "\t<tr><td>GO:0004315                                 </td><td>3-oxoacyl-[acyl-carrier-protein] synthas...</td><td>  7                                        </td><td> 6                                         </td><td> 0.26                                      </td><td>3.5e-06                                    </td></tr>\n",
       "</tbody>\n",
       "</table>\n"
      ],
      "text/latex": [
       "\\begin{tabular}{r|llllll}\n",
       " GO.ID & Term & Annotated & Significant & Expected & result1\\\\\n",
       "\\hline\n",
       "\t GO:0050242                                  & pyruvate, phosphate dikinase activity       & 286                                         &  8                                          & 10.74                                       & < 1e-30                                    \\\\\n",
       "\t GO:0016301                                  & kinase activity                             & 407                                         &  6                                          & 15.28                                       & < 1e-30                                    \\\\\n",
       "\t GO:0016887                                  & ATPase activity                             & 166                                         &  5                                          &  6.23                                       & 2.4e-15                                    \\\\\n",
       "\t GO:0005198                                  & structural molecule activity                & 535                                         & 36                                          & 20.08                                       & 9.9e-14                                    \\\\\n",
       "\t GO:0004450                                  & isocitrate dehydrogenase (NADP+) activit... &  20                                         &  0                                          &  0.75                                       & 1.3e-11                                    \\\\\n",
       "\t GO:0003677                                  & DNA binding                                 & 349                                         &  5                                          & 13.10                                       & 1.2e-10                                    \\\\\n",
       "\t GO:0005524                                  & ATP binding                                 & 756                                         &  7                                          & 28.38                                       & 1.8e-10                                    \\\\\n",
       "\t GO:0003899                                  & DNA-directed RNA polymerase activity        & 338                                         &  2                                          & 12.69                                       & 1.4e-09                                    \\\\\n",
       "\t GO:0016820                                  & hydrolase activity, acting on acid anhyd... & 138                                         &  2                                          &  5.18                                       & 3.2e-08                                    \\\\\n",
       "\t GO:0004315                                      & 3-oxoacyl-{[}acyl-carrier-protein{]} synthas... &   7                                             &  6                                              &  0.26                                           & 3.5e-06                                        \\\\\n",
       "\\end{tabular}\n"
      ],
      "text/markdown": [
       "\n",
       "GO.ID | Term | Annotated | Significant | Expected | result1 | \n",
       "|---|---|---|---|---|---|---|---|---|---|\n",
       "| GO:0050242                                  | pyruvate, phosphate dikinase activity       | 286                                         |  8                                          | 10.74                                       | < 1e-30                                     | \n",
       "| GO:0016301                                  | kinase activity                             | 407                                         |  6                                          | 15.28                                       | < 1e-30                                     | \n",
       "| GO:0016887                                  | ATPase activity                             | 166                                         |  5                                          |  6.23                                       | 2.4e-15                                     | \n",
       "| GO:0005198                                  | structural molecule activity                | 535                                         | 36                                          | 20.08                                       | 9.9e-14                                     | \n",
       "| GO:0004450                                  | isocitrate dehydrogenase (NADP+) activit... |  20                                         |  0                                          |  0.75                                       | 1.3e-11                                     | \n",
       "| GO:0003677                                  | DNA binding                                 | 349                                         |  5                                          | 13.10                                       | 1.2e-10                                     | \n",
       "| GO:0005524                                  | ATP binding                                 | 756                                         |  7                                          | 28.38                                       | 1.8e-10                                     | \n",
       "| GO:0003899                                  | DNA-directed RNA polymerase activity        | 338                                         |  2                                          | 12.69                                       | 1.4e-09                                     | \n",
       "| GO:0016820                                  | hydrolase activity, acting on acid anhyd... | 138                                         |  2                                          |  5.18                                       | 3.2e-08                                     | \n",
       "| GO:0004315                                  | 3-oxoacyl-[acyl-carrier-protein] synthas... |   7                                         |  6                                          |  0.26                                       | 3.5e-06                                     | \n",
       "\n",
       "\n"
      ],
      "text/plain": [
       "   GO.ID      Term                                        Annotated Significant\n",
       "1  GO:0050242 pyruvate, phosphate dikinase activity       286        8         \n",
       "2  GO:0016301 kinase activity                             407        6         \n",
       "3  GO:0016887 ATPase activity                             166        5         \n",
       "4  GO:0005198 structural molecule activity                535       36         \n",
       "5  GO:0004450 isocitrate dehydrogenase (NADP+) activit...  20        0         \n",
       "6  GO:0003677 DNA binding                                 349        5         \n",
       "7  GO:0005524 ATP binding                                 756        7         \n",
       "8  GO:0003899 DNA-directed RNA polymerase activity        338        2         \n",
       "9  GO:0016820 hydrolase activity, acting on acid anhyd... 138        2         \n",
       "10 GO:0004315 3-oxoacyl-[acyl-carrier-protein] synthas...   7        6         \n",
       "   Expected result1\n",
       "1  10.74    < 1e-30\n",
       "2  15.28    < 1e-30\n",
       "3   6.23    2.4e-15\n",
       "4  20.08    9.9e-14\n",
       "5   0.75    1.3e-11\n",
       "6  13.10    1.2e-10\n",
       "7  28.38    1.8e-10\n",
       "8  12.69    1.4e-09\n",
       "9   5.18    3.2e-08\n",
       "10  0.26    3.5e-06"
      ]
     },
     "metadata": {},
     "output_type": "display_data"
    }
   ],
   "source": [
    "GenTable(GOdataMF, resultWeight01ksMF, topNodes = 10)"
   ]
  },
  {
   "cell_type": "code",
   "execution_count": 19,
   "metadata": {
    "collapsed": false,
    "deletable": true,
    "editable": true
   },
   "outputs": [
    {
     "data": {
      "image/png": "[encoded data removed]",
      "text/plain": [
       "plot without title"
      ]
     },
     "metadata": {},
     "output_type": "display_data"
    }
   ],
   "source": [
    "print(showGroupDensity(GOdataMF, \"GO:0050242\", ranks = TRUE))"
   ]
  }
 ],
 "metadata": {
  "kernelspec": {
   "display_name": "R",
   "language": "R",
   "name": "ir"
  },
  "language_info": {
   "codemirror_mode": "r",
   "file_extension": ".r",
   "mimetype": "text/x-r-source",
   "name": "R",
   "pygments_lexer": "r",
   "version": "3.2.3"
  }
 },
 "nbformat": 4,
 "nbformat_minor": 0
}
