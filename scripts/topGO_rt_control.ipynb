{
 "cells": [
  {
   "cell_type": "markdown",
   "metadata": {
    "deletable": true,
    "editable": true
   },
   "source": [
    "## Running topGO"
   ]
  },
  {
   "cell_type": "code",
   "execution_count": 1,
   "metadata": {
    "collapsed": false,
    "deletable": true,
    "editable": true,
    "scrolled": true
   },
   "outputs": [
    {
     "name": "stderr",
     "output_type": "stream",
     "text": [
      "Loading required package: topGO\n",
      "Loading required package: BiocGenerics\n",
      "Loading required package: parallel\n",
      "\n",
      "Attaching package: ‘BiocGenerics’\n",
      "\n",
      "The following objects are masked from ‘package:parallel’:\n",
      "\n",
      "    clusterApply, clusterApplyLB, clusterCall, clusterEvalQ,\n",
      "    clusterExport, clusterMap, parApply, parCapply, parLapply,\n",
      "    parLapplyLB, parRapply, parSapply, parSapplyLB\n",
      "\n",
      "The following objects are masked from ‘package:stats’:\n",
      "\n",
      "    IQR, mad, xtabs\n",
      "\n",
      "The following objects are masked from ‘package:base’:\n",
      "\n",
      "    anyDuplicated, append, as.data.frame, as.vector, cbind, colnames,\n",
      "    do.call, duplicated, eval, evalq, Filter, Find, get, grep, grepl,\n",
      "    intersect, is.unsorted, lapply, lengths, Map, mapply, match, mget,\n",
      "    order, paste, pmax, pmax.int, pmin, pmin.int, Position, rank,\n",
      "    rbind, Reduce, rownames, sapply, setdiff, sort, table, tapply,\n",
      "    union, unique, unlist, unsplit\n",
      "\n",
      "Loading required package: graph\n",
      "Loading required package: Biobase\n",
      "Welcome to Bioconductor\n",
      "\n",
      "    Vignettes contain introductory material; view with\n",
      "    'browseVignettes()'. To cite Bioconductor, see\n",
      "    'citation(\"Biobase\")', and for packages 'citation(\"pkgname\")'.\n",
      "\n",
      "Loading required package: GO.db\n",
      "Loading required package: AnnotationDbi\n",
      "Loading required package: stats4\n",
      "Loading required package: IRanges\n",
      "Loading required package: S4Vectors\n",
      "\n",
      "Loading required package: SparseM\n",
      "\n",
      "Attaching package: ‘SparseM’\n",
      "\n",
      "The following object is masked from ‘package:base’:\n",
      "\n",
      "    backsolve\n",
      "\n",
      "Warning message:\n",
      "“replacing previous import by ‘graph::.__C__dist’ when loading ‘topGO’”"
     ]
    },
    {
     "name": "stdout",
     "output_type": "stream",
     "text": [
      "\n",
      "groupGOTerms: \tGOBPTerm, GOMFTerm, GOCCTerm environments built.\n"
     ]
    },
    {
     "name": "stderr",
     "output_type": "stream",
     "text": [
      "\n",
      "Attaching package: ‘topGO’\n",
      "\n",
      "The following object is masked from ‘package:IRanges’:\n",
      "\n",
      "    members\n",
      "\n",
      "\n",
      "Attaching package: ‘genefilter’\n",
      "\n",
      "The following object is masked from ‘package:base’:\n",
      "\n",
      "    anyNA\n",
      "\n"
     ]
    }
   ],
   "source": [
    "require(\"topGO\")\n",
    "library(genefilter)\n",
    "setwd(\"/home/gstupp/projects/Wolan/cmoon/CM7_CM1E2d56col_unenr123_rawextract_2017/\")"
   ]
  },
  {
   "cell_type": "code",
   "execution_count": 2,
   "metadata": {
    "collapsed": false,
    "deletable": true,
    "editable": true
   },
   "outputs": [],
   "source": [
    "# load in the deseq results\n",
    "load(\"out/res_rt_control\")"
   ]
  },
  {
   "cell_type": "code",
   "execution_count": 3,
   "metadata": {
    "collapsed": false,
    "deletable": true,
    "editable": true,
    "scrolled": false
   },
   "outputs": [
    {
     "data": {
      "text/html": [
       "<dl>\n",
       "\t<dt>$`22855681`</dt>\n",
       "\t\t<dd><ol class=list-inline>\n",
       "\t<li>'GO:0006090'</li>\n",
       "\t<li>'GO:0016301'</li>\n",
       "\t<li>'GO:0003824'</li>\n",
       "\t<li>'GO:0016310'</li>\n",
       "\t<li>'GO:0016772'</li>\n",
       "\t<li>'GO:0050242'</li>\n",
       "\t<li>'GO:0005524'</li>\n",
       "</ol>\n",
       "</dd>\n",
       "\t<dt>$`49973931`</dt>\n",
       "\t\t<dd><ol class=list-inline>\n",
       "\t<li>'GO:0050485'</li>\n",
       "\t<li>'GO:0055114'</li>\n",
       "</ol>\n",
       "</dd>\n",
       "\t<dt>$`61502806`</dt>\n",
       "\t\t<dd><ol class=list-inline>\n",
       "\t<li>'GO:0005509'</li>\n",
       "\t<li>'GO:0005783'</li>\n",
       "\t<li>'GO:0005515'</li>\n",
       "\t<li>'GO:0051082'</li>\n",
       "\t<li>'GO:0006457'</li>\n",
       "</ol>\n",
       "</dd>\n",
       "\t<dt>$`17629190`</dt>\n",
       "\t\t<dd><ol class=list-inline>\n",
       "\t<li>'GO:0006090'</li>\n",
       "\t<li>'GO:0016301'</li>\n",
       "\t<li>'GO:0003824'</li>\n",
       "\t<li>'GO:0016310'</li>\n",
       "\t<li>'GO:0016772'</li>\n",
       "\t<li>'GO:0050242'</li>\n",
       "\t<li>'GO:0005524'</li>\n",
       "</ol>\n",
       "</dd>\n",
       "\t<dt>$`27803655`</dt>\n",
       "\t\t<dd><ol class=list-inline>\n",
       "\t<li>'GO:0016616'</li>\n",
       "\t<li>'GO:0016491'</li>\n",
       "\t<li>'GO:0006631'</li>\n",
       "\t<li>'GO:0055114'</li>\n",
       "\t<li>'GO:0003857'</li>\n",
       "\t<li>'GO:0070403'</li>\n",
       "\t<li>'GO:0050662'</li>\n",
       "</ol>\n",
       "</dd>\n",
       "\t<dt>$`52783963`</dt>\n",
       "\t\t<dd><ol class=list-inline>\n",
       "\t<li>'GO:0016620'</li>\n",
       "\t<li>'GO:0055114'</li>\n",
       "</ol>\n",
       "</dd>\n",
       "</dl>\n"
      ],
      "text/latex": [
       "\\begin{description}\n",
       "\\item[\\$`22855681`] \\begin{enumerate*}\n",
       "\\item 'GO:0006090'\n",
       "\\item 'GO:0016301'\n",
       "\\item 'GO:0003824'\n",
       "\\item 'GO:0016310'\n",
       "\\item 'GO:0016772'\n",
       "\\item 'GO:0050242'\n",
       "\\item 'GO:0005524'\n",
       "\\end{enumerate*}\n",
       "\n",
       "\\item[\\$`49973931`] \\begin{enumerate*}\n",
       "\\item 'GO:0050485'\n",
       "\\item 'GO:0055114'\n",
       "\\end{enumerate*}\n",
       "\n",
       "\\item[\\$`61502806`] \\begin{enumerate*}\n",
       "\\item 'GO:0005509'\n",
       "\\item 'GO:0005783'\n",
       "\\item 'GO:0005515'\n",
       "\\item 'GO:0051082'\n",
       "\\item 'GO:0006457'\n",
       "\\end{enumerate*}\n",
       "\n",
       "\\item[\\$`17629190`] \\begin{enumerate*}\n",
       "\\item 'GO:0006090'\n",
       "\\item 'GO:0016301'\n",
       "\\item 'GO:0003824'\n",
       "\\item 'GO:0016310'\n",
       "\\item 'GO:0016772'\n",
       "\\item 'GO:0050242'\n",
       "\\item 'GO:0005524'\n",
       "\\end{enumerate*}\n",
       "\n",
       "\\item[\\$`27803655`] \\begin{enumerate*}\n",
       "\\item 'GO:0016616'\n",
       "\\item 'GO:0016491'\n",
       "\\item 'GO:0006631'\n",
       "\\item 'GO:0055114'\n",
       "\\item 'GO:0003857'\n",
       "\\item 'GO:0070403'\n",
       "\\item 'GO:0050662'\n",
       "\\end{enumerate*}\n",
       "\n",
       "\\item[\\$`52783963`] \\begin{enumerate*}\n",
       "\\item 'GO:0016620'\n",
       "\\item 'GO:0055114'\n",
       "\\end{enumerate*}\n",
       "\n",
       "\\end{description}\n"
      ],
      "text/markdown": [
       "$`22855681`\n",
       ":   1. 'GO:0006090'\n",
       "2. 'GO:0016301'\n",
       "3. 'GO:0003824'\n",
       "4. 'GO:0016310'\n",
       "5. 'GO:0016772'\n",
       "6. 'GO:0050242'\n",
       "7. 'GO:0005524'\n",
       "\n",
       "\n",
       "\n",
       "$`49973931`\n",
       ":   1. 'GO:0050485'\n",
       "2. 'GO:0055114'\n",
       "\n",
       "\n",
       "\n",
       "$`61502806`\n",
       ":   1. 'GO:0005509'\n",
       "2. 'GO:0005783'\n",
       "3. 'GO:0005515'\n",
       "4. 'GO:0051082'\n",
       "5. 'GO:0006457'\n",
       "\n",
       "\n",
       "\n",
       "$`17629190`\n",
       ":   1. 'GO:0006090'\n",
       "2. 'GO:0016301'\n",
       "3. 'GO:0003824'\n",
       "4. 'GO:0016310'\n",
       "5. 'GO:0016772'\n",
       "6. 'GO:0050242'\n",
       "7. 'GO:0005524'\n",
       "\n",
       "\n",
       "\n",
       "$`27803655`\n",
       ":   1. 'GO:0016616'\n",
       "2. 'GO:0016491'\n",
       "3. 'GO:0006631'\n",
       "4. 'GO:0055114'\n",
       "5. 'GO:0003857'\n",
       "6. 'GO:0070403'\n",
       "7. 'GO:0050662'\n",
       "\n",
       "\n",
       "\n",
       "$`52783963`\n",
       ":   1. 'GO:0016620'\n",
       "2. 'GO:0055114'\n",
       "\n",
       "\n",
       "\n",
       "\n",
       "\n"
      ],
      "text/plain": [
       "$`22855681`\n",
       "[1] \"GO:0006090\" \"GO:0016301\" \"GO:0003824\" \"GO:0016310\" \"GO:0016772\"\n",
       "[6] \"GO:0050242\" \"GO:0005524\"\n",
       "\n",
       "$`49973931`\n",
       "[1] \"GO:0050485\" \"GO:0055114\"\n",
       "\n",
       "$`61502806`\n",
       "[1] \"GO:0005509\" \"GO:0005783\" \"GO:0005515\" \"GO:0051082\" \"GO:0006457\"\n",
       "\n",
       "$`17629190`\n",
       "[1] \"GO:0006090\" \"GO:0016301\" \"GO:0003824\" \"GO:0016310\" \"GO:0016772\"\n",
       "[6] \"GO:0050242\" \"GO:0005524\"\n",
       "\n",
       "$`27803655`\n",
       "[1] \"GO:0016616\" \"GO:0016491\" \"GO:0006631\" \"GO:0055114\" \"GO:0003857\"\n",
       "[6] \"GO:0070403\" \"GO:0050662\"\n",
       "\n",
       "$`52783963`\n",
       "[1] \"GO:0016620\" \"GO:0055114\"\n"
      ]
     },
     "metadata": {},
     "output_type": "display_data"
    }
   ],
   "source": [
    "# load in protein cluster ID -> GO terms mapping\n",
    "geneID2GO <- readMappings(\"out/geneid2go.map\")\n",
    "head(geneID2GO)"
   ]
  },
  {
   "cell_type": "code",
   "execution_count": 4,
   "metadata": {
    "collapsed": false,
    "deletable": true,
    "editable": true
   },
   "outputs": [
    {
     "data": {
      "text/html": [
       "4615"
      ],
      "text/latex": [
       "4615"
      ],
      "text/markdown": [
       "4615"
      ],
      "text/plain": [
       "[1] 4615"
      ]
     },
     "metadata": {},
     "output_type": "display_data"
    },
    {
     "data": {
      "text/html": [
       "<ol class=list-inline>\n",
       "\t<li>5610</li>\n",
       "\t<li>9</li>\n",
       "</ol>\n"
      ],
      "text/latex": [
       "\\begin{enumerate*}\n",
       "\\item 5610\n",
       "\\item 9\n",
       "\\end{enumerate*}\n"
      ],
      "text/markdown": [
       "1. 5610\n",
       "2. 9\n",
       "\n",
       "\n"
      ],
      "text/plain": [
       "[1] 5610    9"
      ]
     },
     "metadata": {},
     "output_type": "display_data"
    }
   ],
   "source": [
    "# load in the count data\n",
    "load(\"out/dds_RTcontrol\")\n",
    "# filter out genes with low expression value as well as with very small variability across samples.\n",
    "selProt <- genefilter(counts(dds), filterfun(kOverA(3, 6), function(x) (IQR(x) > 0.25)))\n",
    "sum(selProt)\n",
    "dim(counts(dds))\n",
    "res=res[selProt,]"
   ]
  },
  {
   "cell_type": "markdown",
   "metadata": {
    "deletable": true,
    "editable": true
   },
   "source": [
    "## human_mouse proteins only"
   ]
  },
  {
   "cell_type": "code",
   "execution_count": 5,
   "metadata": {
    "collapsed": false,
    "deletable": true,
    "editable": true
   },
   "outputs": [],
   "source": [
    "# human_mouse proteins only\n",
    "res_hm = res[res$human_mouse==\"True\",]\n",
    "\n",
    "geneList = res_hm$padj\n",
    "names(geneList)<-rownames(res_hm)"
   ]
  },
  {
   "cell_type": "code",
   "execution_count": 6,
   "metadata": {
    "collapsed": false,
    "deletable": true,
    "editable": true,
    "scrolled": true
   },
   "outputs": [
    {
     "name": "stdout",
     "output_type": "stream",
     "text": [
      "\n",
      "Building most specific GOs .....\t( 50 GO terms found. )\n",
      "\n",
      "Build GO DAG topology ..........\t( 292 GO terms and 557 relations. )\n",
      "\n",
      "Annotating nodes ...............\t( 73 genes annotated to the GO terms. )\n",
      "\n",
      "\t\t\t -- Weight01 Algorithm -- \n",
      "\n",
      "\t\t the algorithm is scoring 189 nontrivial nodes\n",
      "\t\t parameters: \n",
      "\t\t\t test statistic:  fisher \n",
      "\n",
      "\t Level 13:\t1 nodes to be scored\t(0 eliminated genes)\n",
      "\n",
      "\t Level 12:\t1 nodes to be scored\t(0 eliminated genes)\n",
      "\n",
      "\t Level 11:\t3 nodes to be scored\t(1 eliminated genes)\n",
      "\n",
      "\t Level 10:\t9 nodes to be scored\t(1 eliminated genes)\n",
      "\n",
      "\t Level 9:\t18 nodes to be scored\t(6 eliminated genes)\n",
      "\n",
      "\t Level 8:\t17 nodes to be scored\t(7 eliminated genes)\n",
      "\n",
      "\t Level 7:\t18 nodes to be scored\t(10 eliminated genes)\n",
      "\n",
      "\t Level 6:\t25 nodes to be scored\t(16 eliminated genes)\n",
      "\n",
      "\t Level 5:\t39 nodes to be scored\t(22 eliminated genes)\n",
      "\n",
      "\t Level 4:\t32 nodes to be scored\t(49 eliminated genes)\n",
      "\n",
      "\t Level 3:\t17 nodes to be scored\t(54 eliminated genes)\n",
      "\n",
      "\t Level 2:\t8 nodes to be scored\t(64 eliminated genes)\n",
      "\n",
      "\t Level 1:\t1 nodes to be scored\t(69 eliminated genes)\n",
      "\n",
      "\t\t\t -- Weight01 Algorithm -- \n",
      "\n",
      "\t\t the algorithm is scoring 292 nontrivial nodes\n",
      "\t\t parameters: \n",
      "\t\t\t test statistic:  ks \n",
      "\t\t\t score order:  increasing \n",
      "\n",
      "\t Level 13:\t1 nodes to be scored\t(0 eliminated genes)\n",
      "\n",
      "\t Level 12:\t4 nodes to be scored\t(0 eliminated genes)\n",
      "\n",
      "\t Level 11:\t12 nodes to be scored\t(1 eliminated genes)\n",
      "\n",
      "\t Level 10:\t23 nodes to be scored\t(2 eliminated genes)\n",
      "\n",
      "\t Level 9:\t31 nodes to be scored\t(8 eliminated genes)\n",
      "\n",
      "\t Level 8:\t27 nodes to be scored\t(10 eliminated genes)\n",
      "\n",
      "\t Level 7:\t26 nodes to be scored\t(15 eliminated genes)\n",
      "\n",
      "\t Level 6:\t39 nodes to be scored\t(22 eliminated genes)\n",
      "\n",
      "\t Level 5:\t53 nodes to be scored\t(28 eliminated genes)\n",
      "\n",
      "\t Level 4:\t41 nodes to be scored\t(56 eliminated genes)\n",
      "\n",
      "\t Level 3:\t23 nodes to be scored\t(60 eliminated genes)\n",
      "\n",
      "\t Level 2:\t11 nodes to be scored\t(69 eliminated genes)\n",
      "\n",
      "\t Level 1:\t1 nodes to be scored\t(71 eliminated genes)\n"
     ]
    }
   ],
   "source": [
    "# Tests based on gene counts\n",
    "# universe is all proteins observed\n",
    "# \"sig\" proteins are ones with a (adjusted) p-value < 0.01\n",
    "topDiffGenes <- function(allScore) { return(allScore < 0.01)}\n",
    "GOdata <- new(\"topGOdata\", ontology = \"BP\", allGenes = geneList, geneSel = topDiffGenes, annot = annFUN.gene2GO, gene2GO = geneID2GO)\n",
    "resultWeight01 <- runTest(GOdata, statistic = \"fisher\")\n",
    "# \"sig\" proteins are determined by rank\n",
    "resultWeight01ks <- runTest(GOdata, statistic = \"ks\")"
   ]
  },
  {
   "cell_type": "code",
   "execution_count": 7,
   "metadata": {
    "collapsed": false,
    "deletable": true,
    "editable": true
   },
   "outputs": [
    {
     "data": {
      "text/html": [
       "<table>\n",
       "<thead><tr><th scope=col>GO.ID</th><th scope=col>Term</th><th scope=col>Annotated</th><th scope=col>Significant</th><th scope=col>Expected</th><th scope=col>result1</th></tr></thead>\n",
       "<tbody>\n",
       "\t<tr><td>GO:0005975                         </td><td>carbohydrate metabolic process     </td><td>9                                  </td><td>5                                  </td><td>2.34                               </td><td>0.046                              </td></tr>\n",
       "\t<tr><td>GO:0045087                         </td><td>innate immune response             </td><td>2                                  </td><td>2                                  </td><td>0.52                               </td><td>0.065                              </td></tr>\n",
       "\t<tr><td>GO:0050727                         </td><td>regulation of inflammatory response</td><td>2                                  </td><td>2                                  </td><td>0.52                               </td><td>0.065                              </td></tr>\n",
       "\t<tr><td>GO:0006952                         </td><td>defense response                   </td><td>5                                  </td><td>4                                  </td><td>1.30                               </td><td>0.140                              </td></tr>\n",
       "\t<tr><td>GO:0045454                         </td><td>cell redox homeostasis             </td><td>3                                  </td><td>2                                  </td><td>0.78                               </td><td>0.164                              </td></tr>\n",
       "\t<tr><td>GO:0055114                         </td><td>oxidation-reduction process        </td><td>7                                  </td><td>3                                  </td><td>1.82                               </td><td>0.258                              </td></tr>\n",
       "\t<tr><td>GO:0006979                         </td><td>response to oxidative stress       </td><td>1                                  </td><td>1                                  </td><td>0.26                               </td><td>0.260                              </td></tr>\n",
       "\t<tr><td>GO:0006749                         </td><td>glutathione metabolic process      </td><td>1                                  </td><td>1                                  </td><td>0.26                               </td><td>0.260                              </td></tr>\n",
       "\t<tr><td>GO:0019882                         </td><td>antigen processing and presentation</td><td>1                                  </td><td>1                                  </td><td>0.26                               </td><td>0.260                              </td></tr>\n",
       "\t<tr><td>GO:0006414                         </td><td>translational elongation           </td><td>1                                  </td><td>1                                  </td><td>0.26                               </td><td>0.260                              </td></tr>\n",
       "</tbody>\n",
       "</table>\n"
      ],
      "text/latex": [
       "\\begin{tabular}{r|llllll}\n",
       " GO.ID & Term & Annotated & Significant & Expected & result1\\\\\n",
       "\\hline\n",
       "\t GO:0005975                          & carbohydrate metabolic process      & 9                                   & 5                                   & 2.34                                & 0.046                              \\\\\n",
       "\t GO:0045087                          & innate immune response              & 2                                   & 2                                   & 0.52                                & 0.065                              \\\\\n",
       "\t GO:0050727                          & regulation of inflammatory response & 2                                   & 2                                   & 0.52                                & 0.065                              \\\\\n",
       "\t GO:0006952                          & defense response                    & 5                                   & 4                                   & 1.30                                & 0.140                              \\\\\n",
       "\t GO:0045454                          & cell redox homeostasis              & 3                                   & 2                                   & 0.78                                & 0.164                              \\\\\n",
       "\t GO:0055114                          & oxidation-reduction process         & 7                                   & 3                                   & 1.82                                & 0.258                              \\\\\n",
       "\t GO:0006979                          & response to oxidative stress        & 1                                   & 1                                   & 0.26                                & 0.260                              \\\\\n",
       "\t GO:0006749                          & glutathione metabolic process       & 1                                   & 1                                   & 0.26                                & 0.260                              \\\\\n",
       "\t GO:0019882                          & antigen processing and presentation & 1                                   & 1                                   & 0.26                                & 0.260                              \\\\\n",
       "\t GO:0006414                          & translational elongation            & 1                                   & 1                                   & 0.26                                & 0.260                              \\\\\n",
       "\\end{tabular}\n"
      ],
      "text/markdown": [
       "\n",
       "GO.ID | Term | Annotated | Significant | Expected | result1 | \n",
       "|---|---|---|---|---|---|---|---|---|---|\n",
       "| GO:0005975                          | carbohydrate metabolic process      | 9                                   | 5                                   | 2.34                                | 0.046                               | \n",
       "| GO:0045087                          | innate immune response              | 2                                   | 2                                   | 0.52                                | 0.065                               | \n",
       "| GO:0050727                          | regulation of inflammatory response | 2                                   | 2                                   | 0.52                                | 0.065                               | \n",
       "| GO:0006952                          | defense response                    | 5                                   | 4                                   | 1.30                                | 0.140                               | \n",
       "| GO:0045454                          | cell redox homeostasis              | 3                                   | 2                                   | 0.78                                | 0.164                               | \n",
       "| GO:0055114                          | oxidation-reduction process         | 7                                   | 3                                   | 1.82                                | 0.258                               | \n",
       "| GO:0006979                          | response to oxidative stress        | 1                                   | 1                                   | 0.26                                | 0.260                               | \n",
       "| GO:0006749                          | glutathione metabolic process       | 1                                   | 1                                   | 0.26                                | 0.260                               | \n",
       "| GO:0019882                          | antigen processing and presentation | 1                                   | 1                                   | 0.26                                | 0.260                               | \n",
       "| GO:0006414                          | translational elongation            | 1                                   | 1                                   | 0.26                                | 0.260                               | \n",
       "\n",
       "\n"
      ],
      "text/plain": [
       "   GO.ID      Term                                Annotated Significant\n",
       "1  GO:0005975 carbohydrate metabolic process      9         5          \n",
       "2  GO:0045087 innate immune response              2         2          \n",
       "3  GO:0050727 regulation of inflammatory response 2         2          \n",
       "4  GO:0006952 defense response                    5         4          \n",
       "5  GO:0045454 cell redox homeostasis              3         2          \n",
       "6  GO:0055114 oxidation-reduction process         7         3          \n",
       "7  GO:0006979 response to oxidative stress        1         1          \n",
       "8  GO:0006749 glutathione metabolic process       1         1          \n",
       "9  GO:0019882 antigen processing and presentation 1         1          \n",
       "10 GO:0006414 translational elongation            1         1          \n",
       "   Expected result1\n",
       "1  2.34     0.046  \n",
       "2  0.52     0.065  \n",
       "3  0.52     0.065  \n",
       "4  1.30     0.140  \n",
       "5  0.78     0.164  \n",
       "6  1.82     0.258  \n",
       "7  0.26     0.260  \n",
       "8  0.26     0.260  \n",
       "9  0.26     0.260  \n",
       "10 0.26     0.260  "
      ]
     },
     "metadata": {},
     "output_type": "display_data"
    }
   ],
   "source": [
    "GenTable(GOdata, resultWeight01, topNodes = 10)"
   ]
  },
  {
   "cell_type": "code",
   "execution_count": 8,
   "metadata": {
    "collapsed": false,
    "deletable": true,
    "editable": true
   },
   "outputs": [
    {
     "data": {
      "text/html": [
       "<table>\n",
       "<thead><tr><th scope=col>GO.ID</th><th scope=col>Term</th><th scope=col>Annotated</th><th scope=col>Significant</th><th scope=col>Expected</th><th scope=col>result1</th></tr></thead>\n",
       "<tbody>\n",
       "\t<tr><td>GO:0045087                             </td><td>innate immune response                 </td><td>2                                      </td><td>2                                      </td><td>0.52                                   </td><td>0.023                                  </td></tr>\n",
       "\t<tr><td>GO:0050727                             </td><td>regulation of inflammatory response    </td><td>2                                      </td><td>2                                      </td><td>0.52                                   </td><td>0.023                                  </td></tr>\n",
       "\t<tr><td>GO:0006952                             </td><td>defense response                       </td><td>5                                      </td><td>4                                      </td><td>1.30                                   </td><td>0.035                                  </td></tr>\n",
       "\t<tr><td>GO:0045454                             </td><td>cell redox homeostasis                 </td><td>3                                      </td><td>2                                      </td><td>0.78                                   </td><td>0.047                                  </td></tr>\n",
       "\t<tr><td>GO:0005975                             </td><td>carbohydrate metabolic process         </td><td>9                                      </td><td>5                                      </td><td>2.34                                   </td><td>0.092                                  </td></tr>\n",
       "\t<tr><td>GO:0006032                             </td><td>chitin catabolic process               </td><td>1                                      </td><td>1                                      </td><td>0.26                                   </td><td>0.147                                  </td></tr>\n",
       "\t<tr><td>GO:0019882                             </td><td>antigen processing and presentation    </td><td>1                                      </td><td>1                                      </td><td>0.26                                   </td><td>0.163                                  </td></tr>\n",
       "\t<tr><td>GO:0044262                             </td><td>cellular carbohydrate metabolic process</td><td>2                                      </td><td>1                                      </td><td>0.52                                   </td><td>0.169                                  </td></tr>\n",
       "\t<tr><td>GO:0006749                             </td><td>glutathione metabolic process          </td><td>1                                      </td><td>1                                      </td><td>0.26                                   </td><td>0.172                                  </td></tr>\n",
       "\t<tr><td>GO:0006096                             </td><td>glycolytic process                     </td><td>1                                      </td><td>1                                      </td><td>0.26                                   </td><td>0.200                                  </td></tr>\n",
       "</tbody>\n",
       "</table>\n"
      ],
      "text/latex": [
       "\\begin{tabular}{r|llllll}\n",
       " GO.ID & Term & Annotated & Significant & Expected & result1\\\\\n",
       "\\hline\n",
       "\t GO:0045087                              & innate immune response                  & 2                                       & 2                                       & 0.52                                    & 0.023                                  \\\\\n",
       "\t GO:0050727                              & regulation of inflammatory response     & 2                                       & 2                                       & 0.52                                    & 0.023                                  \\\\\n",
       "\t GO:0006952                              & defense response                        & 5                                       & 4                                       & 1.30                                    & 0.035                                  \\\\\n",
       "\t GO:0045454                              & cell redox homeostasis                  & 3                                       & 2                                       & 0.78                                    & 0.047                                  \\\\\n",
       "\t GO:0005975                              & carbohydrate metabolic process          & 9                                       & 5                                       & 2.34                                    & 0.092                                  \\\\\n",
       "\t GO:0006032                              & chitin catabolic process                & 1                                       & 1                                       & 0.26                                    & 0.147                                  \\\\\n",
       "\t GO:0019882                              & antigen processing and presentation     & 1                                       & 1                                       & 0.26                                    & 0.163                                  \\\\\n",
       "\t GO:0044262                              & cellular carbohydrate metabolic process & 2                                       & 1                                       & 0.52                                    & 0.169                                  \\\\\n",
       "\t GO:0006749                              & glutathione metabolic process           & 1                                       & 1                                       & 0.26                                    & 0.172                                  \\\\\n",
       "\t GO:0006096                              & glycolytic process                      & 1                                       & 1                                       & 0.26                                    & 0.200                                  \\\\\n",
       "\\end{tabular}\n"
      ],
      "text/markdown": [
       "\n",
       "GO.ID | Term | Annotated | Significant | Expected | result1 | \n",
       "|---|---|---|---|---|---|---|---|---|---|\n",
       "| GO:0045087                              | innate immune response                  | 2                                       | 2                                       | 0.52                                    | 0.023                                   | \n",
       "| GO:0050727                              | regulation of inflammatory response     | 2                                       | 2                                       | 0.52                                    | 0.023                                   | \n",
       "| GO:0006952                              | defense response                        | 5                                       | 4                                       | 1.30                                    | 0.035                                   | \n",
       "| GO:0045454                              | cell redox homeostasis                  | 3                                       | 2                                       | 0.78                                    | 0.047                                   | \n",
       "| GO:0005975                              | carbohydrate metabolic process          | 9                                       | 5                                       | 2.34                                    | 0.092                                   | \n",
       "| GO:0006032                              | chitin catabolic process                | 1                                       | 1                                       | 0.26                                    | 0.147                                   | \n",
       "| GO:0019882                              | antigen processing and presentation     | 1                                       | 1                                       | 0.26                                    | 0.163                                   | \n",
       "| GO:0044262                              | cellular carbohydrate metabolic process | 2                                       | 1                                       | 0.52                                    | 0.169                                   | \n",
       "| GO:0006749                              | glutathione metabolic process           | 1                                       | 1                                       | 0.26                                    | 0.172                                   | \n",
       "| GO:0006096                              | glycolytic process                      | 1                                       | 1                                       | 0.26                                    | 0.200                                   | \n",
       "\n",
       "\n"
      ],
      "text/plain": [
       "   GO.ID      Term                                    Annotated Significant\n",
       "1  GO:0045087 innate immune response                  2         2          \n",
       "2  GO:0050727 regulation of inflammatory response     2         2          \n",
       "3  GO:0006952 defense response                        5         4          \n",
       "4  GO:0045454 cell redox homeostasis                  3         2          \n",
       "5  GO:0005975 carbohydrate metabolic process          9         5          \n",
       "6  GO:0006032 chitin catabolic process                1         1          \n",
       "7  GO:0019882 antigen processing and presentation     1         1          \n",
       "8  GO:0044262 cellular carbohydrate metabolic process 2         1          \n",
       "9  GO:0006749 glutathione metabolic process           1         1          \n",
       "10 GO:0006096 glycolytic process                      1         1          \n",
       "   Expected result1\n",
       "1  0.52     0.023  \n",
       "2  0.52     0.023  \n",
       "3  1.30     0.035  \n",
       "4  0.78     0.047  \n",
       "5  2.34     0.092  \n",
       "6  0.26     0.147  \n",
       "7  0.26     0.163  \n",
       "8  0.52     0.169  \n",
       "9  0.26     0.172  \n",
       "10 0.26     0.200  "
      ]
     },
     "metadata": {},
     "output_type": "display_data"
    }
   ],
   "source": [
    "GenTable(GOdata, resultWeight01ks, topNodes = 10)"
   ]
  },
  {
   "cell_type": "code",
   "execution_count": 9,
   "metadata": {
    "collapsed": false,
    "deletable": true,
    "editable": true,
    "scrolled": true
   },
   "outputs": [
    {
     "name": "stdout",
     "output_type": "stream",
     "text": [
      "\n",
      "Building most specific GOs .....\t( 82 GO terms found. )\n",
      "\n",
      "Build GO DAG topology ..........\t( 205 GO terms and 267 relations. )\n",
      "\n",
      "Annotating nodes ...............\t( 101 genes annotated to the GO terms. )\n",
      "\n",
      "\t\t\t -- Weight01 Algorithm -- \n",
      "\n",
      "\t\t the algorithm is scoring 133 nontrivial nodes\n",
      "\t\t parameters: \n",
      "\t\t\t test statistic:  fisher \n",
      "\n",
      "\t Level 10:\t1 nodes to be scored\t(0 eliminated genes)\n",
      "\n",
      "\t Level 9:\t3 nodes to be scored\t(0 eliminated genes)\n",
      "\n",
      "\t Level 8:\t8 nodes to be scored\t(2 eliminated genes)\n",
      "\n",
      "\t Level 7:\t14 nodes to be scored\t(5 eliminated genes)\n",
      "\n",
      "\t Level 6:\t27 nodes to be scored\t(12 eliminated genes)\n",
      "\n",
      "\t Level 5:\t28 nodes to be scored\t(32 eliminated genes)\n",
      "\n",
      "\t Level 4:\t25 nodes to be scored\t(51 eliminated genes)\n",
      "\n",
      "\t Level 3:\t20 nodes to be scored\t(66 eliminated genes)\n",
      "\n",
      "\t Level 2:\t6 nodes to be scored\t(74 eliminated genes)\n",
      "\n",
      "\t Level 1:\t1 nodes to be scored\t(99 eliminated genes)\n",
      "\n",
      "\t\t\t -- Weight01 Algorithm -- \n",
      "\n",
      "\t\t the algorithm is scoring 205 nontrivial nodes\n",
      "\t\t parameters: \n",
      "\t\t\t test statistic:  ks \n",
      "\t\t\t score order:  increasing \n",
      "\n",
      "\t Level 14:\t1 nodes to be scored\t(0 eliminated genes)\n",
      "\n",
      "\t Level 13:\t2 nodes to be scored\t(0 eliminated genes)\n",
      "\n",
      "\t Level 12:\t1 nodes to be scored\t(1 eliminated genes)\n",
      "\n",
      "\t Level 11:\t1 nodes to be scored\t(1 eliminated genes)\n",
      "\n",
      "\t Level 10:\t2 nodes to be scored\t(1 eliminated genes)\n",
      "\n",
      "\t Level 9:\t6 nodes to be scored\t(1 eliminated genes)\n",
      "\n",
      "\t Level 8:\t15 nodes to be scored\t(3 eliminated genes)\n",
      "\n",
      "\t Level 7:\t26 nodes to be scored\t(8 eliminated genes)\n",
      "\n",
      "\t Level 6:\t39 nodes to be scored\t(17 eliminated genes)\n",
      "\n",
      "\t Level 5:\t43 nodes to be scored\t(48 eliminated genes)\n",
      "\n",
      "\t Level 4:\t37 nodes to be scored\t(67 eliminated genes)\n",
      "\n",
      "\t Level 3:\t25 nodes to be scored\t(75 eliminated genes)\n",
      "\n",
      "\t Level 2:\t6 nodes to be scored\t(81 eliminated genes)\n",
      "\n",
      "\t Level 1:\t1 nodes to be scored\t(99 eliminated genes)\n"
     ]
    }
   ],
   "source": [
    "# same thing using GO MF\n",
    "GOdataMF <- new(\"topGOdata\", ontology = \"MF\", allGenes = geneList, geneSel = topDiffGenes, annot = annFUN.gene2GO, gene2GO = geneID2GO)\n",
    "resultWeight01MF <- runTest(GOdataMF, statistic = \"fisher\")\n",
    "resultWeight01ksMF <- runTest(GOdataMF, statistic = \"ks\")"
   ]
  },
  {
   "cell_type": "code",
   "execution_count": 10,
   "metadata": {
    "collapsed": false,
    "deletable": true,
    "editable": true
   },
   "outputs": [
    {
     "data": {
      "text/html": [
       "<table>\n",
       "<thead><tr><th scope=col>GO.ID</th><th scope=col>Term</th><th scope=col>Annotated</th><th scope=col>Significant</th><th scope=col>Expected</th><th scope=col>result1</th></tr></thead>\n",
       "<tbody>\n",
       "\t<tr><td>GO:0005544                            </td><td>calcium-dependent phospholipid binding</td><td>5                                     </td><td>5                                     </td><td>1.58                                  </td><td>0.0025                                </td></tr>\n",
       "\t<tr><td>GO:0005509                            </td><td>calcium ion binding                   </td><td>9                                     </td><td>7                                     </td><td>2.85                                  </td><td>0.0041                                </td></tr>\n",
       "\t<tr><td>GO:0004866                            </td><td>endopeptidase inhibitor activity      </td><td>6                                     </td><td>4                                     </td><td>1.90                                  </td><td>0.0296                                </td></tr>\n",
       "\t<tr><td>GO:0004859                            </td><td>phospholipase inhibitor activity      </td><td>3                                     </td><td>3                                     </td><td>0.95                                  </td><td>0.0298                                </td></tr>\n",
       "\t<tr><td>GO:0008092                            </td><td>cytoskeletal protein binding          </td><td>4                                     </td><td>4                                     </td><td>1.27                                  </td><td>0.0897                                </td></tr>\n",
       "\t<tr><td>GO:0008017                            </td><td>microtubule binding                   </td><td>2                                     </td><td>2                                     </td><td>0.63                                  </td><td>0.0982                                </td></tr>\n",
       "\t<tr><td>GO:0050544                            </td><td>arachidonic acid binding              </td><td>2                                     </td><td>2                                     </td><td>0.63                                  </td><td>0.0982                                </td></tr>\n",
       "\t<tr><td>GO:0050786                            </td><td>RAGE receptor binding                 </td><td>2                                     </td><td>2                                     </td><td>0.63                                  </td><td>0.0982                                </td></tr>\n",
       "\t<tr><td>GO:0035662                            </td><td>Toll-like receptor 4 binding          </td><td>2                                     </td><td>2                                     </td><td>0.63                                  </td><td>0.0982                                </td></tr>\n",
       "\t<tr><td>GO:0030246                            </td><td>carbohydrate binding                  </td><td>7                                     </td><td>4                                     </td><td>2.22                                  </td><td>0.1408                                </td></tr>\n",
       "</tbody>\n",
       "</table>\n"
      ],
      "text/latex": [
       "\\begin{tabular}{r|llllll}\n",
       " GO.ID & Term & Annotated & Significant & Expected & result1\\\\\n",
       "\\hline\n",
       "\t GO:0005544                             & calcium-dependent phospholipid binding & 5                                      & 5                                      & 1.58                                   & 0.0025                                \\\\\n",
       "\t GO:0005509                             & calcium ion binding                    & 9                                      & 7                                      & 2.85                                   & 0.0041                                \\\\\n",
       "\t GO:0004866                             & endopeptidase inhibitor activity       & 6                                      & 4                                      & 1.90                                   & 0.0296                                \\\\\n",
       "\t GO:0004859                             & phospholipase inhibitor activity       & 3                                      & 3                                      & 0.95                                   & 0.0298                                \\\\\n",
       "\t GO:0008092                             & cytoskeletal protein binding           & 4                                      & 4                                      & 1.27                                   & 0.0897                                \\\\\n",
       "\t GO:0008017                             & microtubule binding                    & 2                                      & 2                                      & 0.63                                   & 0.0982                                \\\\\n",
       "\t GO:0050544                             & arachidonic acid binding               & 2                                      & 2                                      & 0.63                                   & 0.0982                                \\\\\n",
       "\t GO:0050786                             & RAGE receptor binding                  & 2                                      & 2                                      & 0.63                                   & 0.0982                                \\\\\n",
       "\t GO:0035662                             & Toll-like receptor 4 binding           & 2                                      & 2                                      & 0.63                                   & 0.0982                                \\\\\n",
       "\t GO:0030246                             & carbohydrate binding                   & 7                                      & 4                                      & 2.22                                   & 0.1408                                \\\\\n",
       "\\end{tabular}\n"
      ],
      "text/markdown": [
       "\n",
       "GO.ID | Term | Annotated | Significant | Expected | result1 | \n",
       "|---|---|---|---|---|---|---|---|---|---|\n",
       "| GO:0005544                             | calcium-dependent phospholipid binding | 5                                      | 5                                      | 1.58                                   | 0.0025                                 | \n",
       "| GO:0005509                             | calcium ion binding                    | 9                                      | 7                                      | 2.85                                   | 0.0041                                 | \n",
       "| GO:0004866                             | endopeptidase inhibitor activity       | 6                                      | 4                                      | 1.90                                   | 0.0296                                 | \n",
       "| GO:0004859                             | phospholipase inhibitor activity       | 3                                      | 3                                      | 0.95                                   | 0.0298                                 | \n",
       "| GO:0008092                             | cytoskeletal protein binding           | 4                                      | 4                                      | 1.27                                   | 0.0897                                 | \n",
       "| GO:0008017                             | microtubule binding                    | 2                                      | 2                                      | 0.63                                   | 0.0982                                 | \n",
       "| GO:0050544                             | arachidonic acid binding               | 2                                      | 2                                      | 0.63                                   | 0.0982                                 | \n",
       "| GO:0050786                             | RAGE receptor binding                  | 2                                      | 2                                      | 0.63                                   | 0.0982                                 | \n",
       "| GO:0035662                             | Toll-like receptor 4 binding           | 2                                      | 2                                      | 0.63                                   | 0.0982                                 | \n",
       "| GO:0030246                             | carbohydrate binding                   | 7                                      | 4                                      | 2.22                                   | 0.1408                                 | \n",
       "\n",
       "\n"
      ],
      "text/plain": [
       "   GO.ID      Term                                   Annotated Significant\n",
       "1  GO:0005544 calcium-dependent phospholipid binding 5         5          \n",
       "2  GO:0005509 calcium ion binding                    9         7          \n",
       "3  GO:0004866 endopeptidase inhibitor activity       6         4          \n",
       "4  GO:0004859 phospholipase inhibitor activity       3         3          \n",
       "5  GO:0008092 cytoskeletal protein binding           4         4          \n",
       "6  GO:0008017 microtubule binding                    2         2          \n",
       "7  GO:0050544 arachidonic acid binding               2         2          \n",
       "8  GO:0050786 RAGE receptor binding                  2         2          \n",
       "9  GO:0035662 Toll-like receptor 4 binding           2         2          \n",
       "10 GO:0030246 carbohydrate binding                   7         4          \n",
       "   Expected result1\n",
       "1  1.58     0.0025 \n",
       "2  2.85     0.0041 \n",
       "3  1.90     0.0296 \n",
       "4  0.95     0.0298 \n",
       "5  1.27     0.0897 \n",
       "6  0.63     0.0982 \n",
       "7  0.63     0.0982 \n",
       "8  0.63     0.0982 \n",
       "9  0.63     0.0982 \n",
       "10 2.22     0.1408 "
      ]
     },
     "metadata": {},
     "output_type": "display_data"
    }
   ],
   "source": [
    "GenTable(GOdataMF, resultWeight01MF, topNodes = 10)"
   ]
  },
  {
   "cell_type": "code",
   "execution_count": 11,
   "metadata": {
    "collapsed": false,
    "deletable": true,
    "editable": true
   },
   "outputs": [
    {
     "data": {
      "text/html": [
       "<table>\n",
       "<thead><tr><th scope=col>GO.ID</th><th scope=col>Term</th><th scope=col>Annotated</th><th scope=col>Significant</th><th scope=col>Expected</th><th scope=col>result1</th></tr></thead>\n",
       "<tbody>\n",
       "\t<tr><td>GO:0005544                            </td><td>calcium-dependent phospholipid binding</td><td>5                                     </td><td>5                                     </td><td>1.58                                  </td><td>0.0064                                </td></tr>\n",
       "\t<tr><td>GO:0030246                            </td><td>carbohydrate binding                  </td><td>7                                     </td><td>4                                     </td><td>2.22                                  </td><td>0.0124                                </td></tr>\n",
       "\t<tr><td>GO:0005509                            </td><td>calcium ion binding                   </td><td>9                                     </td><td>7                                     </td><td>2.85                                  </td><td>0.0125                                </td></tr>\n",
       "\t<tr><td>GO:0004859                            </td><td>phospholipase inhibitor activity      </td><td>3                                     </td><td>3                                     </td><td>0.95                                  </td><td>0.0228                                </td></tr>\n",
       "\t<tr><td>GO:0050786                            </td><td>RAGE receptor binding                 </td><td>2                                     </td><td>2                                     </td><td>0.63                                  </td><td>0.0232                                </td></tr>\n",
       "\t<tr><td>GO:0035662                            </td><td>Toll-like receptor 4 binding          </td><td>2                                     </td><td>2                                     </td><td>0.63                                  </td><td>0.0232                                </td></tr>\n",
       "\t<tr><td>GO:0008017                            </td><td>microtubule binding                   </td><td>2                                     </td><td>2                                     </td><td>0.63                                  </td><td>0.0232                                </td></tr>\n",
       "\t<tr><td>GO:0050544                            </td><td>arachidonic acid binding              </td><td>2                                     </td><td>2                                     </td><td>0.63                                  </td><td>0.0232                                </td></tr>\n",
       "\t<tr><td>GO:0004866                            </td><td>endopeptidase inhibitor activity      </td><td>6                                     </td><td>4                                     </td><td>1.90                                  </td><td>0.0322                                </td></tr>\n",
       "\t<tr><td>GO:0008092                            </td><td>cytoskeletal protein binding          </td><td>4                                     </td><td>4                                     </td><td>1.27                                  </td><td>0.0743                                </td></tr>\n",
       "</tbody>\n",
       "</table>\n"
      ],
      "text/latex": [
       "\\begin{tabular}{r|llllll}\n",
       " GO.ID & Term & Annotated & Significant & Expected & result1\\\\\n",
       "\\hline\n",
       "\t GO:0005544                             & calcium-dependent phospholipid binding & 5                                      & 5                                      & 1.58                                   & 0.0064                                \\\\\n",
       "\t GO:0030246                             & carbohydrate binding                   & 7                                      & 4                                      & 2.22                                   & 0.0124                                \\\\\n",
       "\t GO:0005509                             & calcium ion binding                    & 9                                      & 7                                      & 2.85                                   & 0.0125                                \\\\\n",
       "\t GO:0004859                             & phospholipase inhibitor activity       & 3                                      & 3                                      & 0.95                                   & 0.0228                                \\\\\n",
       "\t GO:0050786                             & RAGE receptor binding                  & 2                                      & 2                                      & 0.63                                   & 0.0232                                \\\\\n",
       "\t GO:0035662                             & Toll-like receptor 4 binding           & 2                                      & 2                                      & 0.63                                   & 0.0232                                \\\\\n",
       "\t GO:0008017                             & microtubule binding                    & 2                                      & 2                                      & 0.63                                   & 0.0232                                \\\\\n",
       "\t GO:0050544                             & arachidonic acid binding               & 2                                      & 2                                      & 0.63                                   & 0.0232                                \\\\\n",
       "\t GO:0004866                             & endopeptidase inhibitor activity       & 6                                      & 4                                      & 1.90                                   & 0.0322                                \\\\\n",
       "\t GO:0008092                             & cytoskeletal protein binding           & 4                                      & 4                                      & 1.27                                   & 0.0743                                \\\\\n",
       "\\end{tabular}\n"
      ],
      "text/markdown": [
       "\n",
       "GO.ID | Term | Annotated | Significant | Expected | result1 | \n",
       "|---|---|---|---|---|---|---|---|---|---|\n",
       "| GO:0005544                             | calcium-dependent phospholipid binding | 5                                      | 5                                      | 1.58                                   | 0.0064                                 | \n",
       "| GO:0030246                             | carbohydrate binding                   | 7                                      | 4                                      | 2.22                                   | 0.0124                                 | \n",
       "| GO:0005509                             | calcium ion binding                    | 9                                      | 7                                      | 2.85                                   | 0.0125                                 | \n",
       "| GO:0004859                             | phospholipase inhibitor activity       | 3                                      | 3                                      | 0.95                                   | 0.0228                                 | \n",
       "| GO:0050786                             | RAGE receptor binding                  | 2                                      | 2                                      | 0.63                                   | 0.0232                                 | \n",
       "| GO:0035662                             | Toll-like receptor 4 binding           | 2                                      | 2                                      | 0.63                                   | 0.0232                                 | \n",
       "| GO:0008017                             | microtubule binding                    | 2                                      | 2                                      | 0.63                                   | 0.0232                                 | \n",
       "| GO:0050544                             | arachidonic acid binding               | 2                                      | 2                                      | 0.63                                   | 0.0232                                 | \n",
       "| GO:0004866                             | endopeptidase inhibitor activity       | 6                                      | 4                                      | 1.90                                   | 0.0322                                 | \n",
       "| GO:0008092                             | cytoskeletal protein binding           | 4                                      | 4                                      | 1.27                                   | 0.0743                                 | \n",
       "\n",
       "\n"
      ],
      "text/plain": [
       "   GO.ID      Term                                   Annotated Significant\n",
       "1  GO:0005544 calcium-dependent phospholipid binding 5         5          \n",
       "2  GO:0030246 carbohydrate binding                   7         4          \n",
       "3  GO:0005509 calcium ion binding                    9         7          \n",
       "4  GO:0004859 phospholipase inhibitor activity       3         3          \n",
       "5  GO:0050786 RAGE receptor binding                  2         2          \n",
       "6  GO:0035662 Toll-like receptor 4 binding           2         2          \n",
       "7  GO:0008017 microtubule binding                    2         2          \n",
       "8  GO:0050544 arachidonic acid binding               2         2          \n",
       "9  GO:0004866 endopeptidase inhibitor activity       6         4          \n",
       "10 GO:0008092 cytoskeletal protein binding           4         4          \n",
       "   Expected result1\n",
       "1  1.58     0.0064 \n",
       "2  2.22     0.0124 \n",
       "3  2.85     0.0125 \n",
       "4  0.95     0.0228 \n",
       "5  0.63     0.0232 \n",
       "6  0.63     0.0232 \n",
       "7  0.63     0.0232 \n",
       "8  0.63     0.0232 \n",
       "9  1.90     0.0322 \n",
       "10 1.27     0.0743 "
      ]
     },
     "metadata": {},
     "output_type": "display_data"
    }
   ],
   "source": [
    "GenTable(GOdataMF, resultWeight01ksMF, topNodes = 10)"
   ]
  },
  {
   "cell_type": "markdown",
   "metadata": {
    "deletable": true,
    "editable": true
   },
   "source": [
    "## Non -human/mouse"
   ]
  },
  {
   "cell_type": "code",
   "execution_count": 12,
   "metadata": {
    "collapsed": false,
    "deletable": true,
    "editable": true
   },
   "outputs": [
    {
     "data": {
      "text/html": [
       "4463"
      ],
      "text/latex": [
       "4463"
      ],
      "text/markdown": [
       "4463"
      ],
      "text/plain": [
       "[1] 4463"
      ]
     },
     "metadata": {},
     "output_type": "display_data"
    }
   ],
   "source": [
    "res_nh = res[res$human_mouse==\"False\",]\n",
    "\n",
    "geneList = res_nh$padj\n",
    "names(geneList)<-rownames(res_nh)\n",
    "length(geneList)"
   ]
  },
  {
   "cell_type": "code",
   "execution_count": 13,
   "metadata": {
    "collapsed": false,
    "deletable": true,
    "editable": true,
    "scrolled": true
   },
   "outputs": [
    {
     "name": "stdout",
     "output_type": "stream",
     "text": [
      "\n",
      "Building most specific GOs .....\t( 170 GO terms found. )\n",
      "\n",
      "Build GO DAG topology ..........\t( 546 GO terms and 1107 relations. )\n",
      "\n",
      "Annotating nodes ...............\t( 3558 genes annotated to the GO terms. )\n",
      "\n",
      "\t\t\t -- Weight01 Algorithm -- \n",
      "\n",
      "\t\t the algorithm is scoring 213 nontrivial nodes\n",
      "\t\t parameters: \n",
      "\t\t\t test statistic:  fisher \n",
      "\n",
      "\t Level 13:\t2 nodes to be scored\t(0 eliminated genes)\n",
      "\n",
      "\t Level 12:\t3 nodes to be scored\t(0 eliminated genes)\n",
      "\n",
      "\t Level 11:\t8 nodes to be scored\t(321 eliminated genes)\n",
      "\n",
      "\t Level 10:\t19 nodes to be scored\t(330 eliminated genes)\n",
      "\n",
      "\t Level 9:\t31 nodes to be scored\t(368 eliminated genes)\n",
      "\n",
      "\t Level 8:\t27 nodes to be scored\t(816 eliminated genes)\n",
      "\n",
      "\t Level 7:\t20 nodes to be scored\t(1348 eliminated genes)\n",
      "\n",
      "\t Level 6:\t29 nodes to be scored\t(2308 eliminated genes)\n",
      "\n",
      "\t Level 5:\t30 nodes to be scored\t(2403 eliminated genes)\n",
      "\n",
      "\t Level 4:\t24 nodes to be scored\t(2589 eliminated genes)\n",
      "\n",
      "\t Level 3:\t13 nodes to be scored\t(2705 eliminated genes)\n",
      "\n",
      "\t Level 2:\t6 nodes to be scored\t(3344 eliminated genes)\n",
      "\n",
      "\t Level 1:\t1 nodes to be scored\t(3414 eliminated genes)\n",
      "\n",
      "\t\t\t -- Weight01 Algorithm -- \n",
      "\n",
      "\t\t the algorithm is scoring 546 nontrivial nodes\n",
      "\t\t parameters: \n",
      "\t\t\t test statistic:  ks \n",
      "\t\t\t score order:  increasing \n",
      "\n",
      "\t Level 13:\t6 nodes to be scored\t(0 eliminated genes)\n",
      "\n",
      "\t Level 12:\t31 nodes to be scored\t(0 eliminated genes)\n",
      "\n",
      "\t Level 11:\t41 nodes to be scored\t(337 eliminated genes)\n",
      "\n",
      "\t Level 10:\t48 nodes to be scored\t(488 eliminated genes)\n",
      "\n",
      "\t Level 9:\t61 nodes to be scored\t(626 eliminated genes)\n",
      "\n",
      "\t Level 8:\t63 nodes to be scored\t(1134 eliminated genes)\n",
      "\n",
      "\t Level 7:\t58 nodes to be scored\t(1679 eliminated genes)\n",
      "\n",
      "\t Level 6:\t79 nodes to be scored\t(2479 eliminated genes)\n",
      "\n",
      "\t Level 5:\t74 nodes to be scored\t(2542 eliminated genes)\n",
      "\n",
      "\t Level 4:\t45 nodes to be scored\t(2666 eliminated genes)\n",
      "\n",
      "\t Level 3:\t28 nodes to be scored\t(2757 eliminated genes)\n",
      "\n",
      "\t Level 2:\t11 nodes to be scored\t(3378 eliminated genes)\n",
      "\n",
      "\t Level 1:\t1 nodes to be scored\t(3418 eliminated genes)\n"
     ]
    }
   ],
   "source": [
    "GOdataBP <- new(\"topGOdata\", ontology = \"BP\", allGenes = geneList, geneSel = topDiffGenes, annot = annFUN.gene2GO, gene2GO = geneID2GO)\n",
    "resultWeight01BP <- runTest(GOdataBP, statistic = \"fisher\")\n",
    "resultWeight01ksBP <- runTest(GOdataBP, statistic = \"ks\")"
   ]
  },
  {
   "cell_type": "code",
   "execution_count": 14,
   "metadata": {
    "collapsed": false,
    "deletable": true,
    "editable": true
   },
   "outputs": [
    {
     "data": {
      "text/html": [
       "<table>\n",
       "<thead><tr><th scope=col>GO.ID</th><th scope=col>Term</th><th scope=col>Annotated</th><th scope=col>Significant</th><th scope=col>Expected</th><th scope=col>result1</th></tr></thead>\n",
       "<tbody>\n",
       "\t<tr><td>GO:0015768                                 </td><td>maltose transport                          </td><td>  4                                        </td><td> 4                                         </td><td> 0.13                                      </td><td>1.2e-06                                    </td></tr>\n",
       "\t<tr><td>GO:0006096                                 </td><td>glycolytic process                         </td><td>259                                        </td><td>20                                         </td><td> 8.74                                      </td><td>0.00032                                    </td></tr>\n",
       "\t<tr><td>GO:0019512                                 </td><td>lactose catabolic process via tagatose-6...</td><td>  2                                        </td><td> 2                                         </td><td> 0.07                                      </td><td>0.00113                                    </td></tr>\n",
       "\t<tr><td>GO:0006099                                 </td><td>tricarboxylic acid cycle                   </td><td>  2                                        </td><td> 2                                         </td><td> 0.07                                      </td><td>0.00113                                    </td></tr>\n",
       "\t<tr><td>GO:0006108                                 </td><td>malate metabolic process                   </td><td>  7                                        </td><td> 3                                         </td><td> 0.24                                      </td><td>0.00119                                    </td></tr>\n",
       "\t<tr><td>GO:0006457                                 </td><td>protein folding                            </td><td> 35                                        </td><td> 5                                         </td><td> 1.18                                      </td><td>0.00162                                    </td></tr>\n",
       "\t<tr><td>GO:0006412                                 </td><td>translation                                </td><td>464                                        </td><td>29                                         </td><td>15.65                                      </td><td>0.00192                                    </td></tr>\n",
       "\t<tr><td>GO:0009401                                 </td><td>phosphoenolpyruvate-dependent sugar phos...</td><td> 14                                        </td><td> 3                                         </td><td> 0.47                                      </td><td>0.01037                                    </td></tr>\n",
       "\t<tr><td>GO:0005975                                 </td><td>carbohydrate metabolic process             </td><td>753                                        </td><td>45                                         </td><td>25.40                                      </td><td>0.02318                                    </td></tr>\n",
       "\t<tr><td>GO:0016485                                 </td><td>protein processing                         </td><td>  1                                        </td><td> 1                                         </td><td> 0.03                                      </td><td>0.03373                                    </td></tr>\n",
       "</tbody>\n",
       "</table>\n"
      ],
      "text/latex": [
       "\\begin{tabular}{r|llllll}\n",
       " GO.ID & Term & Annotated & Significant & Expected & result1\\\\\n",
       "\\hline\n",
       "\t GO:0015768                                  & maltose transport                           &   4                                         &  4                                          &  0.13                                       & 1.2e-06                                    \\\\\n",
       "\t GO:0006096                                  & glycolytic process                          & 259                                         & 20                                          &  8.74                                       & 0.00032                                    \\\\\n",
       "\t GO:0019512                                  & lactose catabolic process via tagatose-6... &   2                                         &  2                                          &  0.07                                       & 0.00113                                    \\\\\n",
       "\t GO:0006099                                  & tricarboxylic acid cycle                    &   2                                         &  2                                          &  0.07                                       & 0.00113                                    \\\\\n",
       "\t GO:0006108                                  & malate metabolic process                    &   7                                         &  3                                          &  0.24                                       & 0.00119                                    \\\\\n",
       "\t GO:0006457                                  & protein folding                             &  35                                         &  5                                          &  1.18                                       & 0.00162                                    \\\\\n",
       "\t GO:0006412                                  & translation                                 & 464                                         & 29                                          & 15.65                                       & 0.00192                                    \\\\\n",
       "\t GO:0009401                                  & phosphoenolpyruvate-dependent sugar phos... &  14                                         &  3                                          &  0.47                                       & 0.01037                                    \\\\\n",
       "\t GO:0005975                                  & carbohydrate metabolic process              & 753                                         & 45                                          & 25.40                                       & 0.02318                                    \\\\\n",
       "\t GO:0016485                                  & protein processing                          &   1                                         &  1                                          &  0.03                                       & 0.03373                                    \\\\\n",
       "\\end{tabular}\n"
      ],
      "text/markdown": [
       "\n",
       "GO.ID | Term | Annotated | Significant | Expected | result1 | \n",
       "|---|---|---|---|---|---|---|---|---|---|\n",
       "| GO:0015768                                  | maltose transport                           |   4                                         |  4                                          |  0.13                                       | 1.2e-06                                     | \n",
       "| GO:0006096                                  | glycolytic process                          | 259                                         | 20                                          |  8.74                                       | 0.00032                                     | \n",
       "| GO:0019512                                  | lactose catabolic process via tagatose-6... |   2                                         |  2                                          |  0.07                                       | 0.00113                                     | \n",
       "| GO:0006099                                  | tricarboxylic acid cycle                    |   2                                         |  2                                          |  0.07                                       | 0.00113                                     | \n",
       "| GO:0006108                                  | malate metabolic process                    |   7                                         |  3                                          |  0.24                                       | 0.00119                                     | \n",
       "| GO:0006457                                  | protein folding                             |  35                                         |  5                                          |  1.18                                       | 0.00162                                     | \n",
       "| GO:0006412                                  | translation                                 | 464                                         | 29                                          | 15.65                                       | 0.00192                                     | \n",
       "| GO:0009401                                  | phosphoenolpyruvate-dependent sugar phos... |  14                                         |  3                                          |  0.47                                       | 0.01037                                     | \n",
       "| GO:0005975                                  | carbohydrate metabolic process              | 753                                         | 45                                          | 25.40                                       | 0.02318                                     | \n",
       "| GO:0016485                                  | protein processing                          |   1                                         |  1                                          |  0.03                                       | 0.03373                                     | \n",
       "\n",
       "\n"
      ],
      "text/plain": [
       "   GO.ID      Term                                        Annotated Significant\n",
       "1  GO:0015768 maltose transport                             4        4         \n",
       "2  GO:0006096 glycolytic process                          259       20         \n",
       "3  GO:0019512 lactose catabolic process via tagatose-6...   2        2         \n",
       "4  GO:0006099 tricarboxylic acid cycle                      2        2         \n",
       "5  GO:0006108 malate metabolic process                      7        3         \n",
       "6  GO:0006457 protein folding                              35        5         \n",
       "7  GO:0006412 translation                                 464       29         \n",
       "8  GO:0009401 phosphoenolpyruvate-dependent sugar phos...  14        3         \n",
       "9  GO:0005975 carbohydrate metabolic process              753       45         \n",
       "10 GO:0016485 protein processing                            1        1         \n",
       "   Expected result1\n",
       "1   0.13    1.2e-06\n",
       "2   8.74    0.00032\n",
       "3   0.07    0.00113\n",
       "4   0.07    0.00113\n",
       "5   0.24    0.00119\n",
       "6   1.18    0.00162\n",
       "7  15.65    0.00192\n",
       "8   0.47    0.01037\n",
       "9  25.40    0.02318\n",
       "10  0.03    0.03373"
      ]
     },
     "metadata": {},
     "output_type": "display_data"
    }
   ],
   "source": [
    "GenTable(GOdataBP, resultWeight01BP, topNodes = 10)"
   ]
  },
  {
   "cell_type": "code",
   "execution_count": 15,
   "metadata": {
    "collapsed": false,
    "deletable": true,
    "editable": true
   },
   "outputs": [
    {
     "data": {
      "text/html": [
       "<table>\n",
       "<thead><tr><th scope=col>GO.ID</th><th scope=col>Term</th><th scope=col>Annotated</th><th scope=col>Significant</th><th scope=col>Expected</th><th scope=col>result1</th></tr></thead>\n",
       "<tbody>\n",
       "\t<tr><td>GO:0006810                                 </td><td>transport                                  </td><td>243                                        </td><td>14                                         </td><td> 8.20                                      </td><td>5.6e-17                                    </td></tr>\n",
       "\t<tr><td>GO:0006412                                 </td><td>translation                                </td><td>464                                        </td><td>29                                         </td><td>15.65                                      </td><td>9.9e-12                                    </td></tr>\n",
       "\t<tr><td>GO:0005975                                 </td><td>carbohydrate metabolic process             </td><td>753                                        </td><td>45                                         </td><td>25.40                                      </td><td>2.7e-10                                    </td></tr>\n",
       "\t<tr><td>GO:0006090                                 </td><td>pyruvate metabolic process                 </td><td>551                                        </td><td>20                                         </td><td>18.58                                      </td><td>1.4e-09                                    </td></tr>\n",
       "\t<tr><td>GO:0006814                                 </td><td>sodium ion transport                       </td><td> 17                                        </td><td> 0                                         </td><td> 0.57                                      </td><td>3.8e-09                                    </td></tr>\n",
       "\t<tr><td>GO:0016310                                 </td><td>phosphorylation                            </td><td>585                                        </td><td>21                                         </td><td>19.73                                      </td><td>4.0e-07                                    </td></tr>\n",
       "\t<tr><td>GO:0009401                                 </td><td>phosphoenolpyruvate-dependent sugar phos...</td><td> 14                                        </td><td> 3                                         </td><td> 0.47                                      </td><td>1.1e-06                                    </td></tr>\n",
       "\t<tr><td>GO:0005996                                 </td><td>monosaccharide metabolic process           </td><td>188                                        </td><td> 7                                         </td><td> 6.34                                      </td><td>1.3e-06                                    </td></tr>\n",
       "\t<tr><td>GO:0009082                                 </td><td>branched-chain amino acid biosynthetic p...</td><td> 37                                        </td><td> 0                                         </td><td> 1.25                                      </td><td>1.9e-06                                    </td></tr>\n",
       "\t<tr><td>GO:0006438                                 </td><td>valyl-tRNA aminoacylation                  </td><td> 16                                        </td><td> 0                                         </td><td> 0.54                                      </td><td>5.3e-06                                    </td></tr>\n",
       "</tbody>\n",
       "</table>\n"
      ],
      "text/latex": [
       "\\begin{tabular}{r|llllll}\n",
       " GO.ID & Term & Annotated & Significant & Expected & result1\\\\\n",
       "\\hline\n",
       "\t GO:0006810                                  & transport                                   & 243                                         & 14                                          &  8.20                                       & 5.6e-17                                    \\\\\n",
       "\t GO:0006412                                  & translation                                 & 464                                         & 29                                          & 15.65                                       & 9.9e-12                                    \\\\\n",
       "\t GO:0005975                                  & carbohydrate metabolic process              & 753                                         & 45                                          & 25.40                                       & 2.7e-10                                    \\\\\n",
       "\t GO:0006090                                  & pyruvate metabolic process                  & 551                                         & 20                                          & 18.58                                       & 1.4e-09                                    \\\\\n",
       "\t GO:0006814                                  & sodium ion transport                        &  17                                         &  0                                          &  0.57                                       & 3.8e-09                                    \\\\\n",
       "\t GO:0016310                                  & phosphorylation                             & 585                                         & 21                                          & 19.73                                       & 4.0e-07                                    \\\\\n",
       "\t GO:0009401                                  & phosphoenolpyruvate-dependent sugar phos... &  14                                         &  3                                          &  0.47                                       & 1.1e-06                                    \\\\\n",
       "\t GO:0005996                                  & monosaccharide metabolic process            & 188                                         &  7                                          &  6.34                                       & 1.3e-06                                    \\\\\n",
       "\t GO:0009082                                  & branched-chain amino acid biosynthetic p... &  37                                         &  0                                          &  1.25                                       & 1.9e-06                                    \\\\\n",
       "\t GO:0006438                                  & valyl-tRNA aminoacylation                   &  16                                         &  0                                          &  0.54                                       & 5.3e-06                                    \\\\\n",
       "\\end{tabular}\n"
      ],
      "text/markdown": [
       "\n",
       "GO.ID | Term | Annotated | Significant | Expected | result1 | \n",
       "|---|---|---|---|---|---|---|---|---|---|\n",
       "| GO:0006810                                  | transport                                   | 243                                         | 14                                          |  8.20                                       | 5.6e-17                                     | \n",
       "| GO:0006412                                  | translation                                 | 464                                         | 29                                          | 15.65                                       | 9.9e-12                                     | \n",
       "| GO:0005975                                  | carbohydrate metabolic process              | 753                                         | 45                                          | 25.40                                       | 2.7e-10                                     | \n",
       "| GO:0006090                                  | pyruvate metabolic process                  | 551                                         | 20                                          | 18.58                                       | 1.4e-09                                     | \n",
       "| GO:0006814                                  | sodium ion transport                        |  17                                         |  0                                          |  0.57                                       | 3.8e-09                                     | \n",
       "| GO:0016310                                  | phosphorylation                             | 585                                         | 21                                          | 19.73                                       | 4.0e-07                                     | \n",
       "| GO:0009401                                  | phosphoenolpyruvate-dependent sugar phos... |  14                                         |  3                                          |  0.47                                       | 1.1e-06                                     | \n",
       "| GO:0005996                                  | monosaccharide metabolic process            | 188                                         |  7                                          |  6.34                                       | 1.3e-06                                     | \n",
       "| GO:0009082                                  | branched-chain amino acid biosynthetic p... |  37                                         |  0                                          |  1.25                                       | 1.9e-06                                     | \n",
       "| GO:0006438                                  | valyl-tRNA aminoacylation                   |  16                                         |  0                                          |  0.54                                       | 5.3e-06                                     | \n",
       "\n",
       "\n"
      ],
      "text/plain": [
       "   GO.ID      Term                                        Annotated Significant\n",
       "1  GO:0006810 transport                                   243       14         \n",
       "2  GO:0006412 translation                                 464       29         \n",
       "3  GO:0005975 carbohydrate metabolic process              753       45         \n",
       "4  GO:0006090 pyruvate metabolic process                  551       20         \n",
       "5  GO:0006814 sodium ion transport                         17        0         \n",
       "6  GO:0016310 phosphorylation                             585       21         \n",
       "7  GO:0009401 phosphoenolpyruvate-dependent sugar phos...  14        3         \n",
       "8  GO:0005996 monosaccharide metabolic process            188        7         \n",
       "9  GO:0009082 branched-chain amino acid biosynthetic p...  37        0         \n",
       "10 GO:0006438 valyl-tRNA aminoacylation                    16        0         \n",
       "   Expected result1\n",
       "1   8.20    5.6e-17\n",
       "2  15.65    9.9e-12\n",
       "3  25.40    2.7e-10\n",
       "4  18.58    1.4e-09\n",
       "5   0.57    3.8e-09\n",
       "6  19.73    4.0e-07\n",
       "7   0.47    1.1e-06\n",
       "8   6.34    1.3e-06\n",
       "9   1.25    1.9e-06\n",
       "10  0.54    5.3e-06"
      ]
     },
     "metadata": {},
     "output_type": "display_data"
    }
   ],
   "source": [
    "GenTable(GOdataBP, resultWeight01ksBP, topNodes = 10)"
   ]
  },
  {
   "cell_type": "code",
   "execution_count": 16,
   "metadata": {
    "collapsed": false,
    "deletable": true,
    "editable": true,
    "scrolled": true
   },
   "outputs": [
    {
     "name": "stdout",
     "output_type": "stream",
     "text": [
      "\n",
      "Building most specific GOs .....\t( 280 GO terms found. )\n",
      "\n",
      "Build GO DAG topology ..........\t( 447 GO terms and 535 relations. )\n",
      "\n",
      "Annotating nodes ...............\t( 3889 genes annotated to the GO terms. )\n",
      "\n",
      "\t\t\t -- Weight01 Algorithm -- \n",
      "\n",
      "\t\t the algorithm is scoring 170 nontrivial nodes\n",
      "\t\t parameters: \n",
      "\t\t\t test statistic:  fisher \n",
      "\n",
      "\t Level 14:\t1 nodes to be scored\t(0 eliminated genes)\n",
      "\n",
      "\t Level 13:\t2 nodes to be scored\t(0 eliminated genes)\n",
      "\n",
      "\t Level 12:\t1 nodes to be scored\t(62 eliminated genes)\n",
      "\n",
      "\t Level 11:\t1 nodes to be scored\t(62 eliminated genes)\n",
      "\n",
      "\t Level 10:\t1 nodes to be scored\t(62 eliminated genes)\n",
      "\n",
      "\t Level 9:\t4 nodes to be scored\t(62 eliminated genes)\n",
      "\n",
      "\t Level 8:\t9 nodes to be scored\t(62 eliminated genes)\n",
      "\n",
      "\t Level 7:\t22 nodes to be scored\t(972 eliminated genes)\n",
      "\n",
      "\t Level 6:\t40 nodes to be scored\t(1040 eliminated genes)\n",
      "\n",
      "\t Level 5:\t35 nodes to be scored\t(1658 eliminated genes)\n",
      "\n",
      "\t Level 4:\t28 nodes to be scored\t(2004 eliminated genes)\n",
      "\n",
      "\t Level 3:\t20 nodes to be scored\t(2751 eliminated genes)\n",
      "\n",
      "\t Level 2:\t5 nodes to be scored\t(3013 eliminated genes)\n",
      "\n",
      "\t Level 1:\t1 nodes to be scored\t(3513 eliminated genes)\n",
      "\n",
      "\t\t\t -- Weight01 Algorithm -- \n",
      "\n",
      "\t\t the algorithm is scoring 447 nontrivial nodes\n",
      "\t\t parameters: \n",
      "\t\t\t test statistic:  ks \n",
      "\t\t\t score order:  increasing \n",
      "\n",
      "\t Level 15:\t1 nodes to be scored\t(0 eliminated genes)\n",
      "\n",
      "\t Level 14:\t2 nodes to be scored\t(0 eliminated genes)\n",
      "\n",
      "\t Level 13:\t2 nodes to be scored\t(3 eliminated genes)\n",
      "\n",
      "\t Level 12:\t1 nodes to be scored\t(62 eliminated genes)\n",
      "\n",
      "\t Level 11:\t2 nodes to be scored\t(62 eliminated genes)\n",
      "\n",
      "\t Level 10:\t2 nodes to be scored\t(62 eliminated genes)\n",
      "\n",
      "\t Level 9:\t6 nodes to be scored\t(63 eliminated genes)\n",
      "\n",
      "\t Level 8:\t19 nodes to be scored\t(63 eliminated genes)\n",
      "\n",
      "\t Level 7:\t70 nodes to be scored\t(992 eliminated genes)\n",
      "\n",
      "\t Level 6:\t147 nodes to be scored\t(1075 eliminated genes)\n",
      "\n",
      "\t Level 5:\t98 nodes to be scored\t(1874 eliminated genes)\n",
      "\n",
      "\t Level 4:\t56 nodes to be scored\t(2495 eliminated genes)\n",
      "\n",
      "\t Level 3:\t31 nodes to be scored\t(3092 eliminated genes)\n",
      "\n",
      "\t Level 2:\t9 nodes to be scored\t(3193 eliminated genes)\n",
      "\n",
      "\t Level 1:\t1 nodes to be scored\t(3523 eliminated genes)\n"
     ]
    }
   ],
   "source": [
    "# Molecular function\n",
    "GOdataMF <- new(\"topGOdata\", ontology = \"MF\", allGenes = geneList, geneSel = topDiffGenes, annot = annFUN.gene2GO, gene2GO = geneID2GO)\n",
    "resultWeight01MF <- runTest(GOdataMF, statistic = \"fisher\")\n",
    "resultWeight01ksMF <- runTest(GOdataMF, statistic = \"ks\")"
   ]
  },
  {
   "cell_type": "code",
   "execution_count": 17,
   "metadata": {
    "collapsed": false,
    "deletable": true,
    "editable": true
   },
   "outputs": [
    {
     "data": {
      "text/html": [
       "<table>\n",
       "<thead><tr><th scope=col>GO.ID</th><th scope=col>Term</th><th scope=col>Annotated</th><th scope=col>Significant</th><th scope=col>Expected</th><th scope=col>result1</th></tr></thead>\n",
       "<tbody>\n",
       "\t<tr><td>GO:0005363                                 </td><td>maltose transmembrane transporter activi...</td><td>  4                                        </td><td> 4                                         </td><td> 0.15                                      </td><td>1.8e-06                                    </td></tr>\n",
       "\t<tr><td>GO:0051920                                 </td><td>peroxiredoxin activity                     </td><td>  8                                        </td><td> 5                                         </td><td> 0.30                                      </td><td>3.3e-06                                    </td></tr>\n",
       "\t<tr><td>GO:0005509                                 </td><td>calcium ion binding                        </td><td>  3                                        </td><td> 3                                         </td><td> 0.11                                      </td><td>5.0e-05                                    </td></tr>\n",
       "\t<tr><td>GO:0004618                                 </td><td>phosphoglycerate kinase activity           </td><td> 72                                        </td><td>11                                         </td><td> 2.67                                      </td><td>5.3e-05                                    </td></tr>\n",
       "\t<tr><td>GO:0005525                                 </td><td>GTP binding                                </td><td>215                                        </td><td>20                                         </td><td> 7.96                                      </td><td>9.8e-05                                    </td></tr>\n",
       "\t<tr><td>GO:0003735                                 </td><td>structural constituent of ribosome         </td><td>296                                        </td><td>24                                         </td><td>10.96                                      </td><td>0.00017                                    </td></tr>\n",
       "\t<tr><td>GO:0009045                                 </td><td>xylose isomerase activity                  </td><td> 10                                        </td><td> 4                                         </td><td> 0.37                                      </td><td>0.00032                                    </td></tr>\n",
       "\t<tr><td>GO:0051082                                 </td><td>unfolded protein binding                   </td><td> 11                                        </td><td> 4                                         </td><td> 0.41                                      </td><td>0.00049                                    </td></tr>\n",
       "\t<tr><td>GO:0033920                                 </td><td>6-phospho-beta-galactosidase activity      </td><td>  2                                        </td><td> 2                                         </td><td> 0.07                                      </td><td>0.00136                                    </td></tr>\n",
       "\t<tr><td>GO:0004802                                 </td><td>transketolase activity                     </td><td>  3                                        </td><td> 2                                         </td><td> 0.11                                      </td><td>0.00399                                    </td></tr>\n",
       "</tbody>\n",
       "</table>\n"
      ],
      "text/latex": [
       "\\begin{tabular}{r|llllll}\n",
       " GO.ID & Term & Annotated & Significant & Expected & result1\\\\\n",
       "\\hline\n",
       "\t GO:0005363                                  & maltose transmembrane transporter activi... &   4                                         &  4                                          &  0.15                                       & 1.8e-06                                    \\\\\n",
       "\t GO:0051920                                  & peroxiredoxin activity                      &   8                                         &  5                                          &  0.30                                       & 3.3e-06                                    \\\\\n",
       "\t GO:0005509                                  & calcium ion binding                         &   3                                         &  3                                          &  0.11                                       & 5.0e-05                                    \\\\\n",
       "\t GO:0004618                                  & phosphoglycerate kinase activity            &  72                                         & 11                                          &  2.67                                       & 5.3e-05                                    \\\\\n",
       "\t GO:0005525                                  & GTP binding                                 & 215                                         & 20                                          &  7.96                                       & 9.8e-05                                    \\\\\n",
       "\t GO:0003735                                  & structural constituent of ribosome          & 296                                         & 24                                          & 10.96                                       & 0.00017                                    \\\\\n",
       "\t GO:0009045                                  & xylose isomerase activity                   &  10                                         &  4                                          &  0.37                                       & 0.00032                                    \\\\\n",
       "\t GO:0051082                                  & unfolded protein binding                    &  11                                         &  4                                          &  0.41                                       & 0.00049                                    \\\\\n",
       "\t GO:0033920                                  & 6-phospho-beta-galactosidase activity       &   2                                         &  2                                          &  0.07                                       & 0.00136                                    \\\\\n",
       "\t GO:0004802                                  & transketolase activity                      &   3                                         &  2                                          &  0.11                                       & 0.00399                                    \\\\\n",
       "\\end{tabular}\n"
      ],
      "text/markdown": [
       "\n",
       "GO.ID | Term | Annotated | Significant | Expected | result1 | \n",
       "|---|---|---|---|---|---|---|---|---|---|\n",
       "| GO:0005363                                  | maltose transmembrane transporter activi... |   4                                         |  4                                          |  0.15                                       | 1.8e-06                                     | \n",
       "| GO:0051920                                  | peroxiredoxin activity                      |   8                                         |  5                                          |  0.30                                       | 3.3e-06                                     | \n",
       "| GO:0005509                                  | calcium ion binding                         |   3                                         |  3                                          |  0.11                                       | 5.0e-05                                     | \n",
       "| GO:0004618                                  | phosphoglycerate kinase activity            |  72                                         | 11                                          |  2.67                                       | 5.3e-05                                     | \n",
       "| GO:0005525                                  | GTP binding                                 | 215                                         | 20                                          |  7.96                                       | 9.8e-05                                     | \n",
       "| GO:0003735                                  | structural constituent of ribosome          | 296                                         | 24                                          | 10.96                                       | 0.00017                                     | \n",
       "| GO:0009045                                  | xylose isomerase activity                   |  10                                         |  4                                          |  0.37                                       | 0.00032                                     | \n",
       "| GO:0051082                                  | unfolded protein binding                    |  11                                         |  4                                          |  0.41                                       | 0.00049                                     | \n",
       "| GO:0033920                                  | 6-phospho-beta-galactosidase activity       |   2                                         |  2                                          |  0.07                                       | 0.00136                                     | \n",
       "| GO:0004802                                  | transketolase activity                      |   3                                         |  2                                          |  0.11                                       | 0.00399                                     | \n",
       "\n",
       "\n"
      ],
      "text/plain": [
       "   GO.ID      Term                                        Annotated Significant\n",
       "1  GO:0005363 maltose transmembrane transporter activi...   4        4         \n",
       "2  GO:0051920 peroxiredoxin activity                        8        5         \n",
       "3  GO:0005509 calcium ion binding                           3        3         \n",
       "4  GO:0004618 phosphoglycerate kinase activity             72       11         \n",
       "5  GO:0005525 GTP binding                                 215       20         \n",
       "6  GO:0003735 structural constituent of ribosome          296       24         \n",
       "7  GO:0009045 xylose isomerase activity                    10        4         \n",
       "8  GO:0051082 unfolded protein binding                     11        4         \n",
       "9  GO:0033920 6-phospho-beta-galactosidase activity         2        2         \n",
       "10 GO:0004802 transketolase activity                        3        2         \n",
       "   Expected result1\n",
       "1   0.15    1.8e-06\n",
       "2   0.30    3.3e-06\n",
       "3   0.11    5.0e-05\n",
       "4   2.67    5.3e-05\n",
       "5   7.96    9.8e-05\n",
       "6  10.96    0.00017\n",
       "7   0.37    0.00032\n",
       "8   0.41    0.00049\n",
       "9   0.07    0.00136\n",
       "10  0.11    0.00399"
      ]
     },
     "metadata": {},
     "output_type": "display_data"
    }
   ],
   "source": [
    "GenTable(GOdataMF, resultWeight01MF, topNodes=10)"
   ]
  },
  {
   "cell_type": "code",
   "execution_count": 18,
   "metadata": {
    "collapsed": false,
    "deletable": true,
    "editable": true,
    "scrolled": true
   },
   "outputs": [
    {
     "data": {
      "text/html": [
       "<table>\n",
       "<thead><tr><th scope=col>GO.ID</th><th scope=col>Term</th><th scope=col>Annotated</th><th scope=col>Significant</th><th scope=col>Expected</th><th scope=col>result1</th></tr></thead>\n",
       "<tbody>\n",
       "\t<tr><td>GO:0016887                                 </td><td>ATPase activity                            </td><td> 166                                       </td><td> 5                                         </td><td>  6.15                                     </td><td>4.3e-19                                    </td></tr>\n",
       "\t<tr><td>GO:0003824                                 </td><td>catalytic activity                         </td><td>3075                                       </td><td>87                                         </td><td>113.86                                     </td><td>1.9e-12                                    </td></tr>\n",
       "\t<tr><td>GO:0016820                                 </td><td>hydrolase activity, acting on acid anhyd...</td><td> 138                                       </td><td> 4                                         </td><td>  5.11                                     </td><td>2.3e-12                                    </td></tr>\n",
       "\t<tr><td>GO:0003735                                 </td><td>structural constituent of ribosome         </td><td> 296                                       </td><td>24                                         </td><td> 10.96                                     </td><td>3.5e-11                                    </td></tr>\n",
       "\t<tr><td>GO:0046872                                 </td><td>metal ion binding                          </td><td> 378                                       </td><td>17                                         </td><td> 14.00                                     </td><td>8.6e-10                                    </td></tr>\n",
       "\t<tr><td>GO:0016740                                 </td><td>transferase activity                       </td><td>1198                                       </td><td>33                                         </td><td> 44.36                                     </td><td>1.9e-09                                    </td></tr>\n",
       "\t<tr><td>GO:0050242                                 </td><td>pyruvate, phosphate dikinase activity      </td><td> 286                                       </td><td> 0                                         </td><td> 10.59                                     </td><td>2.5e-09                                    </td></tr>\n",
       "\t<tr><td>GO:0016301                                 </td><td>kinase activity                            </td><td> 407                                       </td><td>13                                         </td><td> 15.07                                     </td><td>6.0e-08                                    </td></tr>\n",
       "\t<tr><td>GO:0016829                                 </td><td>lyase activity                             </td><td> 239                                       </td><td> 8                                         </td><td>  8.85                                     </td><td>1.4e-07                                    </td></tr>\n",
       "\t<tr><td>GO:0008861                                 </td><td>formate C-acetyltransferase activity       </td><td>  20                                       </td><td> 3                                         </td><td>  0.74                                     </td><td>2.4e-07                                    </td></tr>\n",
       "</tbody>\n",
       "</table>\n"
      ],
      "text/latex": [
       "\\begin{tabular}{r|llllll}\n",
       " GO.ID & Term & Annotated & Significant & Expected & result1\\\\\n",
       "\\hline\n",
       "\t GO:0016887                                  & ATPase activity                             &  166                                        &  5                                          &   6.15                                      & 4.3e-19                                    \\\\\n",
       "\t GO:0003824                                  & catalytic activity                          & 3075                                        & 87                                          & 113.86                                      & 1.9e-12                                    \\\\\n",
       "\t GO:0016820                                  & hydrolase activity, acting on acid anhyd... &  138                                        &  4                                          &   5.11                                      & 2.3e-12                                    \\\\\n",
       "\t GO:0003735                                  & structural constituent of ribosome          &  296                                        & 24                                          &  10.96                                      & 3.5e-11                                    \\\\\n",
       "\t GO:0046872                                  & metal ion binding                           &  378                                        & 17                                          &  14.00                                      & 8.6e-10                                    \\\\\n",
       "\t GO:0016740                                  & transferase activity                        & 1198                                        & 33                                          &  44.36                                      & 1.9e-09                                    \\\\\n",
       "\t GO:0050242                                  & pyruvate, phosphate dikinase activity       &  286                                        &  0                                          &  10.59                                      & 2.5e-09                                    \\\\\n",
       "\t GO:0016301                                  & kinase activity                             &  407                                        & 13                                          &  15.07                                      & 6.0e-08                                    \\\\\n",
       "\t GO:0016829                                  & lyase activity                              &  239                                        &  8                                          &   8.85                                      & 1.4e-07                                    \\\\\n",
       "\t GO:0008861                                  & formate C-acetyltransferase activity        &   20                                        &  3                                          &   0.74                                      & 2.4e-07                                    \\\\\n",
       "\\end{tabular}\n"
      ],
      "text/markdown": [
       "\n",
       "GO.ID | Term | Annotated | Significant | Expected | result1 | \n",
       "|---|---|---|---|---|---|---|---|---|---|\n",
       "| GO:0016887                                  | ATPase activity                             |  166                                        |  5                                          |   6.15                                      | 4.3e-19                                     | \n",
       "| GO:0003824                                  | catalytic activity                          | 3075                                        | 87                                          | 113.86                                      | 1.9e-12                                     | \n",
       "| GO:0016820                                  | hydrolase activity, acting on acid anhyd... |  138                                        |  4                                          |   5.11                                      | 2.3e-12                                     | \n",
       "| GO:0003735                                  | structural constituent of ribosome          |  296                                        | 24                                          |  10.96                                      | 3.5e-11                                     | \n",
       "| GO:0046872                                  | metal ion binding                           |  378                                        | 17                                          |  14.00                                      | 8.6e-10                                     | \n",
       "| GO:0016740                                  | transferase activity                        | 1198                                        | 33                                          |  44.36                                      | 1.9e-09                                     | \n",
       "| GO:0050242                                  | pyruvate, phosphate dikinase activity       |  286                                        |  0                                          |  10.59                                      | 2.5e-09                                     | \n",
       "| GO:0016301                                  | kinase activity                             |  407                                        | 13                                          |  15.07                                      | 6.0e-08                                     | \n",
       "| GO:0016829                                  | lyase activity                              |  239                                        |  8                                          |   8.85                                      | 1.4e-07                                     | \n",
       "| GO:0008861                                  | formate C-acetyltransferase activity        |   20                                        |  3                                          |   0.74                                      | 2.4e-07                                     | \n",
       "\n",
       "\n"
      ],
      "text/plain": [
       "   GO.ID      Term                                        Annotated Significant\n",
       "1  GO:0016887 ATPase activity                              166       5         \n",
       "2  GO:0003824 catalytic activity                          3075      87         \n",
       "3  GO:0016820 hydrolase activity, acting on acid anhyd...  138       4         \n",
       "4  GO:0003735 structural constituent of ribosome           296      24         \n",
       "5  GO:0046872 metal ion binding                            378      17         \n",
       "6  GO:0016740 transferase activity                        1198      33         \n",
       "7  GO:0050242 pyruvate, phosphate dikinase activity        286       0         \n",
       "8  GO:0016301 kinase activity                              407      13         \n",
       "9  GO:0016829 lyase activity                               239       8         \n",
       "10 GO:0008861 formate C-acetyltransferase activity          20       3         \n",
       "   Expected result1\n",
       "1    6.15   4.3e-19\n",
       "2  113.86   1.9e-12\n",
       "3    5.11   2.3e-12\n",
       "4   10.96   3.5e-11\n",
       "5   14.00   8.6e-10\n",
       "6   44.36   1.9e-09\n",
       "7   10.59   2.5e-09\n",
       "8   15.07   6.0e-08\n",
       "9    8.85   1.4e-07\n",
       "10   0.74   2.4e-07"
      ]
     },
     "metadata": {},
     "output_type": "display_data"
    }
   ],
   "source": [
    "GenTable(GOdataMF, resultWeight01ksMF, topNodes = 10)"
   ]
  },
  {
   "cell_type": "code",
   "execution_count": 19,
   "metadata": {
    "collapsed": false,
    "deletable": true,
    "editable": true
   },
   "outputs": [
    {
     "data": {
      "image/png": "[encoded data removed]",
      "text/plain": [
       "plot without title"
      ]
     },
     "metadata": {},
     "output_type": "display_data"
    }
   ],
   "source": [
    "print(showGroupDensity(GOdataMF, \"GO:0050242\", ranks = TRUE))"
   ]
  }
 ],
 "metadata": {
  "kernelspec": {
   "display_name": "R",
   "language": "R",
   "name": "ir"
  },
  "language_info": {
   "codemirror_mode": "r",
   "file_extension": ".r",
   "mimetype": "text/x-r-source",
   "name": "R",
   "pygments_lexer": "r",
   "version": "3.2.3"
  }
 },
 "nbformat": 4,
 "nbformat_minor": 0
}
