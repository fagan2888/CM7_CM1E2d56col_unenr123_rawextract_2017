{
 "cells": [
  {
   "cell_type": "code",
   "execution_count": 8,
   "metadata": {
    "collapsed": false
   },
   "outputs": [
    {
     "name": "stdout",
     "output_type": "stream",
     "text": [
      "load obo file go-basic.obo\n",
      "go-basic.obo: fmt(1.2) rel(2017-03-16) 48,478 GO Terms\n"
     ]
    }
   ],
   "source": [
    "import sys\n",
    "import os\n",
    "from itertools import chain\n",
    "from collections import defaultdict\n",
    "import numpy as np\n",
    "import pandas as pd\n",
    "%matplotlib inline\n",
    "import matplotlib.pyplot as plt\n",
    "import seaborn as sns\n",
    "pd.set_option('precision', 3)\n",
    "import gseapy as gp\n",
    "import goatools\n",
    "import numpy as np\n",
    "\n",
    "obodag = goatools.obo_parser.GODag('go-basic.obo')\n",
    "sys.path.insert(0, \"/home/gstupp/projects/metaproteomics\")\n",
    "from metaproteomics import utils\n",
    "#from metaproteomics.analysis import build_loci\n",
    "\n",
    "BASE = '../out/'"
   ]
  },
  {
   "cell_type": "code",
   "execution_count": 26,
   "metadata": {
    "collapsed": false
   },
   "outputs": [
    {
     "data": {
      "text/plain": [
       "393"
      ]
     },
     "execution_count": 26,
     "metadata": {},
     "output_type": "execute_result"
    }
   ],
   "source": [
    "def get_all_children(go_id):\n",
    "    children = set([x.id for x in obodag.get(go_id).children])\n",
    "    new_children = children\n",
    "    while True:\n",
    "        new_children = set(chain(*[[x.id for x in obodag.get(y).children] for y in new_children]))\n",
    "        if not new_children:\n",
    "            break\n",
    "        children.update(new_children)\n",
    "    return children\n",
    "len(get_all_children('GO:0006928'))"
   ]
  },
  {
   "cell_type": "code",
   "execution_count": 126,
   "metadata": {
    "collapsed": false
   },
   "outputs": [
    {
     "data": {
      "text/plain": [
       "{'GO:0006807': 'nitrogen compound metabolic process (GO:0006807)',\n",
       " None: 'None',\n",
       " 'GO:0051179': 'localization (GO:0051179)',\n",
       " 'GO:0051186': 'cofactor metabolic process (GO:0051186)',\n",
       " 'multiple': 'multiple',\n",
       " 'GO:0005975': 'carbohydrate metabolic process (GO:0005975)',\n",
       " 'GO:0006928': 'movement of cell or subcellular component (GO:0006928)',\n",
       " 'GO:0019222': 'regulation of metabolic process (GO:0019222)'}"
      ]
     },
     "execution_count": 126,
     "metadata": {},
     "output_type": "execute_result"
    }
   ],
   "source": [
    "topgo = {'GO:0006928', 'GO:0051179', 'GO:0006807', 'GO:0005975', 'GO:0019222', 'GO:0051186'}\n",
    "topgo_children = {k:get_all_children(k) for k in topgo}\n",
    "group_names = {x:\"{} ({})\".format(obodag.get(x).name, obodag.get(x).id) for x in topgo}\n",
    "group_names[None] = \"None\"\n",
    "group_names[\"multiple\"] = \"multiple\"\n",
    "group_names"
   ]
  },
  {
   "cell_type": "code",
   "execution_count": 127,
   "metadata": {
    "collapsed": false
   },
   "outputs": [
    {
     "data": {
      "text/plain": [
       "{'GO:0006807': 'lightcoral',\n",
       " None: 'k',\n",
       " 'GO:0051179': 'lawngreen',\n",
       " 'GO:0051186': 'mediumseagreen',\n",
       " 'multiple': 'deeppink',\n",
       " 'GO:0005975': 'dodgerblue',\n",
       " 'GO:0006928': 'darkorange',\n",
       " 'GO:0019222': 'darkgoldenrod'}"
      ]
     },
     "execution_count": 127,
     "metadata": {},
     "output_type": "execute_result"
    }
   ],
   "source": [
    "group_colors = {k:c for k,c in zip(topgo, ['lightcoral', 'darkorange', 'darkgoldenrod', \n",
    "                                           'lawngreen', 'mediumseagreen', 'dodgerblue'])}\n",
    "group_colors[None] = 'k'\n",
    "group_colors['multiple'] = 'deeppink'\n",
    "color_group = {v:k for k,v in group_colors.items()}\n",
    "group_colors"
   ]
  },
  {
   "cell_type": "code",
   "execution_count": 128,
   "metadata": {
    "collapsed": false
   },
   "outputs": [
    {
     "data": {
      "text/plain": [
       "'GO:0006807'"
      ]
     },
     "execution_count": 128,
     "metadata": {},
     "output_type": "execute_result"
    }
   ],
   "source": [
    "def get_go_group(go):\n",
    "    if not isinstance(go, str):\n",
    "        return None\n",
    "    membership = {k:any([x in v for x in go.split(\"|\")]) for k,v in topgo_children.items()}\n",
    "    if list(membership.values()).count(True)>1:\n",
    "        group = \"multiple\"\n",
    "    elif list(membership.values()).count(True)==1:\n",
    "        group = [k for k,v in membership.items() if v][0]\n",
    "    else:\n",
    "        group = None\n",
    "    return group\n",
    "row = 5\n",
    "get_go_group(df.iloc[row].go)"
   ]
  },
  {
   "cell_type": "code",
   "execution_count": 129,
   "metadata": {
    "collapsed": false
   },
   "outputs": [
    {
     "data": {
      "text/html": [
       "<div>\n",
       "<table border=\"1\" class=\"dataframe\">\n",
       "  <thead>\n",
       "    <tr style=\"text-align: right;\">\n",
       "      <th></th>\n",
       "      <th>baseMean</th>\n",
       "      <th>log2FoldChange</th>\n",
       "      <th>lfcSE</th>\n",
       "      <th>stat</th>\n",
       "      <th>pvalue</th>\n",
       "      <th>padj</th>\n",
       "      <th>gn</th>\n",
       "      <th>gn1</th>\n",
       "      <th>human_mouse</th>\n",
       "      <th>lca</th>\n",
       "      <th>name</th>\n",
       "      <th>go</th>\n",
       "      <th>go_name</th>\n",
       "      <th>-logp</th>\n",
       "      <th>group</th>\n",
       "      <th>color</th>\n",
       "    </tr>\n",
       "  </thead>\n",
       "  <tbody>\n",
       "    <tr>\n",
       "      <th>165648111</th>\n",
       "      <td>149.745</td>\n",
       "      <td>10.001</td>\n",
       "      <td>0.971</td>\n",
       "      <td>10.302</td>\n",
       "      <td>6.913e-25</td>\n",
       "      <td>3.878e-21</td>\n",
       "      <td>S100a8</td>\n",
       "      <td>S100a8</td>\n",
       "      <td>True</td>\n",
       "      <td>mus musculus</td>\n",
       "      <td>sp|P27005|S10A8_MOUSE Protein S100-A8 OS=Mus m...</td>\n",
       "      <td>GO:0050727|GO:0045087|GO:0005509|GO:0008270|GO...</td>\n",
       "      <td>regulation of inflammatory response|innate imm...</td>\n",
       "      <td>46.999</td>\n",
       "      <td>None</td>\n",
       "      <td>k</td>\n",
       "    </tr>\n",
       "    <tr>\n",
       "      <th>69205977</th>\n",
       "      <td>60.773</td>\n",
       "      <td>5.395</td>\n",
       "      <td>0.589</td>\n",
       "      <td>9.163</td>\n",
       "      <td>5.056e-20</td>\n",
       "      <td>1.418e-16</td>\n",
       "      <td>NaN</td>\n",
       "      <td>NaN</td>\n",
       "      <td>False</td>\n",
       "      <td>gammaproteobacteria</td>\n",
       "      <td>gi|446508121|ref|WP_000585649.1| hypothetical ...</td>\n",
       "      <td>GO:0005525</td>\n",
       "      <td>GTP binding</td>\n",
       "      <td>36.492</td>\n",
       "      <td>None</td>\n",
       "      <td>k</td>\n",
       "    </tr>\n",
       "    <tr>\n",
       "      <th>12661961</th>\n",
       "      <td>63.140</td>\n",
       "      <td>5.076</td>\n",
       "      <td>0.563</td>\n",
       "      <td>9.025</td>\n",
       "      <td>1.804e-19</td>\n",
       "      <td>3.373e-16</td>\n",
       "      <td>D11S_0218,AV48_26230,AV74_29380,OOC_00095,AV15...</td>\n",
       "      <td>NaN</td>\n",
       "      <td>False</td>\n",
       "      <td>gammaproteobacteria</td>\n",
       "      <td>gi|485672664|ref|WP_001313336.1| elongation fa...</td>\n",
       "      <td>GO:0005525</td>\n",
       "      <td>GTP binding</td>\n",
       "      <td>35.625</td>\n",
       "      <td>None</td>\n",
       "      <td>k</td>\n",
       "    </tr>\n",
       "    <tr>\n",
       "      <th>5888442</th>\n",
       "      <td>57.630</td>\n",
       "      <td>8.866</td>\n",
       "      <td>1.023</td>\n",
       "      <td>8.670</td>\n",
       "      <td>4.319e-18</td>\n",
       "      <td>6.057e-15</td>\n",
       "      <td>NaN</td>\n",
       "      <td>NaN</td>\n",
       "      <td>False</td>\n",
       "      <td>escherichia coli</td>\n",
       "      <td>gi|519090354|ref|WP_020246229.1| elongation fa...</td>\n",
       "      <td>GO:0005525</td>\n",
       "      <td>GTP binding</td>\n",
       "      <td>32.738</td>\n",
       "      <td>None</td>\n",
       "      <td>k</td>\n",
       "    </tr>\n",
       "    <tr>\n",
       "      <th>165680332</th>\n",
       "      <td>74.171</td>\n",
       "      <td>6.769</td>\n",
       "      <td>0.840</td>\n",
       "      <td>8.062</td>\n",
       "      <td>7.485e-16</td>\n",
       "      <td>8.399e-13</td>\n",
       "      <td>Pzp,A2m</td>\n",
       "      <td>NaN</td>\n",
       "      <td>True</td>\n",
       "      <td>mus musculus</td>\n",
       "      <td>tr|D3YW52|D3YW52_MOUSE Alpha-2-macroglobulin O...</td>\n",
       "      <td>GO:0005576|GO:0005615|GO:0004866</td>\n",
       "      <td>extracellular region|extracellular space|endop...</td>\n",
       "      <td>27.806</td>\n",
       "      <td>None</td>\n",
       "      <td>k</td>\n",
       "    </tr>\n",
       "  </tbody>\n",
       "</table>\n",
       "</div>"
      ],
      "text/plain": [
       "           baseMean  log2FoldChange  lfcSE    stat     pvalue       padj  \\\n",
       "165648111   149.745          10.001  0.971  10.302  6.913e-25  3.878e-21   \n",
       "69205977     60.773           5.395  0.589   9.163  5.056e-20  1.418e-16   \n",
       "12661961     63.140           5.076  0.563   9.025  1.804e-19  3.373e-16   \n",
       "5888442      57.630           8.866  1.023   8.670  4.319e-18  6.057e-15   \n",
       "165680332    74.171           6.769  0.840   8.062  7.485e-16  8.399e-13   \n",
       "\n",
       "                                                          gn     gn1  \\\n",
       "165648111                                             S100a8  S100a8   \n",
       "69205977                                                 NaN     NaN   \n",
       "12661961   D11S_0218,AV48_26230,AV74_29380,OOC_00095,AV15...     NaN   \n",
       "5888442                                                  NaN     NaN   \n",
       "165680332                                            Pzp,A2m     NaN   \n",
       "\n",
       "          human_mouse                  lca  \\\n",
       "165648111        True         mus musculus   \n",
       "69205977        False  gammaproteobacteria   \n",
       "12661961        False  gammaproteobacteria   \n",
       "5888442         False     escherichia coli   \n",
       "165680332        True         mus musculus   \n",
       "\n",
       "                                                        name  \\\n",
       "165648111  sp|P27005|S10A8_MOUSE Protein S100-A8 OS=Mus m...   \n",
       "69205977   gi|446508121|ref|WP_000585649.1| hypothetical ...   \n",
       "12661961   gi|485672664|ref|WP_001313336.1| elongation fa...   \n",
       "5888442    gi|519090354|ref|WP_020246229.1| elongation fa...   \n",
       "165680332  tr|D3YW52|D3YW52_MOUSE Alpha-2-macroglobulin O...   \n",
       "\n",
       "                                                          go  \\\n",
       "165648111  GO:0050727|GO:0045087|GO:0005509|GO:0008270|GO...   \n",
       "69205977                                          GO:0005525   \n",
       "12661961                                          GO:0005525   \n",
       "5888442                                           GO:0005525   \n",
       "165680332                   GO:0005576|GO:0005615|GO:0004866   \n",
       "\n",
       "                                                     go_name   -logp group  \\\n",
       "165648111  regulation of inflammatory response|innate imm...  46.999  None   \n",
       "69205977                                         GTP binding  36.492  None   \n",
       "12661961                                         GTP binding  35.625  None   \n",
       "5888442                                          GTP binding  32.738  None   \n",
       "165680332  extracellular region|extracellular space|endop...  27.806  None   \n",
       "\n",
       "          color  \n",
       "165648111     k  \n",
       "69205977      k  \n",
       "12661961      k  \n",
       "5888442       k  \n",
       "165680332     k  "
      ]
     },
     "execution_count": 129,
     "metadata": {},
     "output_type": "execute_result"
    }
   ],
   "source": [
    "df = pd.read_csv(os.path.join(BASE,\"RT_control_results_named_annot.csv\"), index_col=0)\n",
    "df['-logp'] = -1*np.log(df.padj)\n",
    "df['group'] = df.go.apply(get_go_group)\n",
    "df['color'] = df.group.apply(group_colors.get)\n",
    "df_sig = df[(df.padj<=0.2) & (abs(df.log2FoldChange) >= 1)]\n",
    "df_insig = df[~((df.padj<=0.2) & (abs(df.log2FoldChange) >= 1))]\n",
    "df.head(5)"
   ]
  },
  {
   "cell_type": "code",
   "execution_count": 130,
   "metadata": {
    "collapsed": false
   },
   "outputs": [
    {
     "data": {
      "text/plain": [
       "586"
      ]
     },
     "execution_count": 130,
     "metadata": {},
     "output_type": "execute_result"
    }
   ],
   "source": [
    "len(df_sig)"
   ]
  },
  {
   "cell_type": "code",
   "execution_count": 135,
   "metadata": {
    "collapsed": false
   },
   "outputs": [
    {
     "data": {
      "text/plain": [
       "<matplotlib.legend.Legend at 0x7f25f41b9a58>"
      ]
     },
     "execution_count": 135,
     "metadata": {},
     "output_type": "execute_result"
    },
    {
     "data": {
      "image/png": "[encoded data removed]",
      "text/plain": [
       "<matplotlib.figure.Figure at 0x7f25f506cbe0>"
      ]
     },
     "metadata": {},
     "output_type": "display_data"
    }
   ],
   "source": [
    "import seaborn as sns\n",
    "sns.set_style('whitegrid')\n",
    "fig = plt.figure(figsize=(15, 9))\n",
    "fig.set_tight_layout(False)\n",
    "ax = fig.add_subplot(111)\n",
    "\n",
    "# Plot the INsig points\n",
    "X = df_insig['log2FoldChange'].values\n",
    "Y = df_insig['-logp'].values\n",
    "ax.scatter(X, Y, color='silver', s=20)\n",
    "\n",
    "# Plot the sig points\n",
    "for color in set(df_sig['color']):\n",
    "    X = df_sig[df_sig.color == color].log2FoldChange\n",
    "    Y = df_sig[df_sig.color == color]['-logp']\n",
    "    ax.scatter(X, Y, color=color, s=40, label=group_names[color_group[color]])\n",
    "    \n",
    "\n",
    "\n",
    "ax.xaxis.set_label_text(\"Log(2) Fold Change\")\n",
    "ax.yaxis.set_label_text(\"-logp\")\n",
    "ax.set_xlim(-10,10)\n",
    "ax.set_ylim(0,50)\n",
    "ax.legend(loc=2)"
   ]
  },
  {
   "cell_type": "code",
   "execution_count": null,
   "metadata": {
    "collapsed": true
   },
   "outputs": [],
   "source": []
  },
  {
   "cell_type": "code",
   "execution_count": null,
   "metadata": {
    "collapsed": true
   },
   "outputs": [],
   "source": []
  }
 ],
 "metadata": {
  "kernelspec": {
   "display_name": "Python 3",
   "language": "python",
   "name": "python3"
  },
  "language_info": {
   "codemirror_mode": {
    "name": "ipython",
    "version": 3
   },
   "file_extension": ".py",
   "mimetype": "text/x-python",
   "name": "python",
   "nbconvert_exporter": "python",
   "pygments_lexer": "ipython3",
   "version": "3.5.2"
  }
 },
 "nbformat": 4,
 "nbformat_minor": 2
}
