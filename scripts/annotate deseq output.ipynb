{
 "cells": [
  {
   "cell_type": "code",
   "execution_count": 5,
   "metadata": {
    "collapsed": true,
    "deletable": true,
    "editable": true
   },
   "outputs": [],
   "source": [
    "# annotate deseq"
   ]
  },
  {
   "cell_type": "code",
   "execution_count": 3,
   "metadata": {
    "collapsed": false
   },
   "outputs": [],
   "source": [
    "import sys\n",
    "sys.path.insert(0, \"/home/gstupp/projects/metaproteomics\")"
   ]
  },
  {
   "cell_type": "code",
   "execution_count": 4,
   "metadata": {
    "collapsed": false,
    "deletable": true,
    "editable": true
   },
   "outputs": [],
   "source": [
    "import os\n",
    "import sys\n",
    "BASE = \"/home/gstupp/projects/Wolan/cmoon/CM7_CM1E2d56col_unenr123_rawextract_2017/\"\n",
    "DATA = os.path.join(BASE, \"data\")\n",
    "OUT = os.path.join(BASE, \"out\")\n",
    "import pandas as pd\n",
    "from metaproteomics import utils"
   ]
  },
  {
   "cell_type": "code",
   "execution_count": 5,
   "metadata": {
    "collapsed": false,
    "deletable": true,
    "editable": true
   },
   "outputs": [
    {
     "name": "stderr",
     "output_type": "stream",
     "text": [
      "load obo file /home/gstupp/projects/metaproteomics/metaproteomics/goatools/go-basic.obo\n",
      "48437 nodes imported\n"
     ]
    }
   ],
   "source": [
    "grouped_loci = utils.load(os.path.join(OUT,\"grouped_loci.pkl.gz\"))\n",
    "grouped_loci[0].init()"
   ]
  },
  {
   "cell_type": "code",
   "execution_count": 6,
   "metadata": {
    "collapsed": false,
    "deletable": true,
    "editable": true
   },
   "outputs": [
    {
     "name": "stderr",
     "output_type": "stream",
     "text": [
      "load obo file /home/gstupp/projects/metaproteomics/metaproteomics/goatools/go-basic.obo\n",
      "48437 nodes imported\n"
     ]
    }
   ],
   "source": [
    "from metaproteomics.goatools import obo_parser\n",
    "ontology = obo_parser.GODag()"
   ]
  },
  {
   "cell_type": "code",
   "execution_count": 11,
   "metadata": {
    "collapsed": true
   },
   "outputs": [],
   "source": [
    "group = \"RT_WT\""
   ]
  },
  {
   "cell_type": "code",
   "execution_count": 12,
   "metadata": {
    "collapsed": false,
    "deletable": true,
    "editable": true
   },
   "outputs": [],
   "source": [
    "re = pd.read_csv(os.path.join(OUT,\"{}_deseq_results.csv\".format(group)),index_col=0)\n",
    "id_name = {x.cluster_id:x.name for x in grouped_loci}\n",
    "re['name'] = re.index.map(id_name.get)\n",
    "annotations = {locus.cluster_id: '|'.join(locus.annotations.get(\"go\",[])) for locus in grouped_loci}\n",
    "re['go'] = re.index.map(annotations.get)\n",
    "\n",
    "go_name = {k:\"|\".join([ontology[v].name for v in vv.split(\"|\")]) for k,vv in annotations.items() if vv}\n",
    "re['go_name'] = re.index.map(go_name.get)\n",
    "\n",
    "\n",
    "lca = {locus.cluster_id: locus.lca_organism for locus in grouped_loci}\n",
    "re['lca'] = re.index.map(lca.get)"
   ]
  },
  {
   "cell_type": "code",
   "execution_count": 13,
   "metadata": {
    "collapsed": false,
    "deletable": true,
    "editable": true
   },
   "outputs": [],
   "source": [
    "re.to_csv(os.path.join(OUT,\"{}_results_named_annot.csv\".format(group)))"
   ]
  },
  {
   "cell_type": "code",
   "execution_count": null,
   "metadata": {
    "collapsed": true
   },
   "outputs": [],
   "source": []
  }
 ],
 "metadata": {
  "kernelspec": {
   "display_name": "Python 3",
   "language": "python",
   "name": "python3"
  }
 },
 "nbformat": 4,
 "nbformat_minor": 2
}
